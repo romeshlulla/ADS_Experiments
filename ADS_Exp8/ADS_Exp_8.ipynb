{
  "metadata": {
    "kernelspec": {
      "language": "python",
      "display_name": "Python 3",
      "name": "python3"
    },
    "language_info": {
      "name": "python",
      "version": "3.10.10",
      "mimetype": "text/x-python",
      "codemirror_mode": {
        "name": "ipython",
        "version": 3
      },
      "pygments_lexer": "ipython3",
      "nbconvert_exporter": "python",
      "file_extension": ".py"
    },
    "kaggle": {
      "accelerator": "none",
      "dataSources": [
        {
          "sourceId": 2743905,
          "sourceType": "datasetVersion",
          "datasetId": 1672910
        }
      ],
      "dockerImageVersionId": 30497,
      "isInternetEnabled": false,
      "language": "python",
      "sourceType": "notebook",
      "isGpuEnabled": false
    },
    "colab": {
      "provenance": []
    }
  },
  "nbformat_minor": 0,
  "nbformat": 4,
  "cells": [
    {
      "cell_type": "markdown",
      "source": [
        "Dataset : https://www.kaggle.com/datasets/shivamb/bank-customer-segmentation"
      ],
      "metadata": {
        "id": "pQDscu382c3l"
      }
    },
    {
      "cell_type": "code",
      "source": [
        "import pandas as pd\n",
        "import numpy as np\n",
        "\n",
        "import re\n",
        "\n",
        "from sklearn.cluster import KMeans\n",
        "from sklearn.cluster import AgglomerativeClustering\n",
        "from sklearn.cluster import SpectralClustering\n",
        "from sklearn.cluster import DBSCAN\n",
        "\n",
        "from sklearn.preprocessing import MinMaxScaler\n",
        "from sklearn.preprocessing import StandardScaler\n",
        "\n",
        "from sklearn.metrics import silhouette_score, davies_bouldin_score\n",
        "from sklearn.decomposition import PCA\n",
        "\n",
        "import matplotlib.pyplot as plt\n",
        "from mpl_toolkits import mplot3d\n",
        "import seaborn as sns\n",
        "import scipy.cluster.hierarchy as shc"
      ],
      "metadata": {
        "execution": {
          "iopub.status.busy": "2024-03-27T06:25:19.561463Z",
          "iopub.execute_input": "2024-03-27T06:25:19.561866Z",
          "iopub.status.idle": "2024-03-27T06:25:19.568232Z",
          "shell.execute_reply.started": "2024-03-27T06:25:19.561834Z",
          "shell.execute_reply": "2024-03-27T06:25:19.567131Z"
        },
        "trusted": true,
        "id": "FYYsEWlUn_5Q"
      },
      "execution_count": null,
      "outputs": []
    },
    {
      "cell_type": "code",
      "source": [
        "!pip install kneed"
      ],
      "metadata": {
        "execution": {
          "iopub.status.busy": "2024-03-27T06:34:04.265514Z",
          "iopub.execute_input": "2024-03-27T06:34:04.265959Z"
        },
        "trusted": true,
        "colab": {
          "base_uri": "https://localhost:8080/"
        },
        "id": "_kEEQ_aen_5T",
        "outputId": "abf691ea-fbbb-49f8-90bf-07cac495b7af"
      },
      "execution_count": null,
      "outputs": [
        {
          "output_type": "stream",
          "name": "stdout",
          "text": [
            "Requirement already satisfied: kneed in /usr/local/lib/python3.10/dist-packages (0.8.5)\n",
            "Requirement already satisfied: numpy>=1.14.2 in /usr/local/lib/python3.10/dist-packages (from kneed) (1.25.2)\n",
            "Requirement already satisfied: scipy>=1.0.0 in /usr/local/lib/python3.10/dist-packages (from kneed) (1.11.4)\n"
          ]
        }
      ]
    },
    {
      "cell_type": "code",
      "source": [
        "import warnings\n",
        "warnings.simplefilter(action='ignore', category=FutureWarning)\n",
        "warnings.simplefilter(action='ignore', category=DeprecationWarning)\n",
        "warnings.simplefilter(action='ignore', category=RuntimeWarning)\n",
        "\n",
        "import scipy.cluster.hierarchy as sch\n",
        "\n",
        "try:\n",
        "    from kneed import KneeLocator\n",
        "except:\n",
        "    !pip install kneed\n",
        "    from kneed import KneeLocator\n",
        "#------------------------------------------------------------------\n",
        "try:\n",
        "    from yellowbrick.cluster import KElbowVisualizer\n",
        "except:\n",
        "    !pip install -U yellowbrick\n",
        "    from yellowbrick.cluster import KElbowVisualizer"
      ],
      "metadata": {
        "execution": {
          "iopub.status.busy": "2024-03-27T06:25:19.570537Z",
          "iopub.execute_input": "2024-03-27T06:25:19.570939Z",
          "iopub.status.idle": "2024-03-27T06:27:50.068524Z",
          "shell.execute_reply.started": "2024-03-27T06:25:19.570910Z",
          "shell.execute_reply": "2024-03-27T06:27:50.061984Z"
        },
        "trusted": true,
        "id": "J-YOk6MKn_5U"
      },
      "execution_count": null,
      "outputs": []
    },
    {
      "cell_type": "code",
      "source": [
        "try:\n",
        "    import plotly.express as px\n",
        "    import plotly.graph_objects as go\n",
        "\n",
        "except:\n",
        "    !pip install plotly\n",
        "    import plotly.express as px\n",
        "    import plotly.graph_objects as go\n"
      ],
      "metadata": {
        "execution": {
          "iopub.status.busy": "2024-03-27T06:27:50.069571Z",
          "iopub.status.idle": "2024-03-27T06:27:50.069986Z",
          "shell.execute_reply.started": "2024-03-27T06:27:50.069792Z",
          "shell.execute_reply": "2024-03-27T06:27:50.069813Z"
        },
        "trusted": true,
        "id": "8YZtyTIrn_5V"
      },
      "execution_count": null,
      "outputs": []
    },
    {
      "cell_type": "code",
      "source": [
        "data = pd.read_csv(\"/content/bank_transactions.csv\")\n",
        "data.head(5)"
      ],
      "metadata": {
        "execution": {
          "iopub.status.busy": "2024-03-27T06:27:50.071700Z",
          "iopub.status.idle": "2024-03-27T06:27:50.072383Z",
          "shell.execute_reply.started": "2024-03-27T06:27:50.072189Z",
          "shell.execute_reply": "2024-03-27T06:27:50.072209Z"
        },
        "trusted": true,
        "id": "S9nWrnO2n_5V"
      },
      "execution_count": null,
      "outputs": []
    },
    {
      "cell_type": "code",
      "source": [
        "#data = data.sample(frac=0.05, random_state=42)"
      ],
      "metadata": {
        "execution": {
          "iopub.status.busy": "2024-03-27T06:27:50.073493Z",
          "iopub.status.idle": "2024-03-27T06:27:50.073847Z",
          "shell.execute_reply.started": "2024-03-27T06:27:50.073679Z",
          "shell.execute_reply": "2024-03-27T06:27:50.073696Z"
        },
        "trusted": true,
        "id": "grQKlsFrn_5W"
      },
      "execution_count": null,
      "outputs": []
    },
    {
      "cell_type": "code",
      "source": [
        "data.shape"
      ],
      "metadata": {
        "execution": {
          "iopub.status.busy": "2024-03-27T06:27:50.075315Z",
          "iopub.status.idle": "2024-03-27T06:27:50.075687Z",
          "shell.execute_reply.started": "2024-03-27T06:27:50.075518Z",
          "shell.execute_reply": "2024-03-27T06:27:50.075534Z"
        },
        "trusted": true,
        "colab": {
          "base_uri": "https://localhost:8080/"
        },
        "id": "0GuGp9Avn_5W",
        "outputId": "8259b74c-b575-4be5-d44c-4f548881e7a3"
      },
      "execution_count": null,
      "outputs": [
        {
          "output_type": "execute_result",
          "data": {
            "text/plain": [
              "(1048567, 9)"
            ]
          },
          "metadata": {},
          "execution_count": 8
        }
      ]
    },
    {
      "cell_type": "code",
      "source": [
        "## Show detailes data set\n",
        "def check(df):\n",
        "    l=[]\n",
        "    columns=df.columns\n",
        "    for col in columns:\n",
        "        dtypes=df[col].dtypes\n",
        "        nunique=df[col].nunique()\n",
        "        sum_null=df[col].isnull().sum()\n",
        "        l.append([col,dtypes,nunique,sum_null])\n",
        "    df_check=pd.DataFrame(l)\n",
        "    df_check.columns=['column','dtypes','nunique','sum_null']\n",
        "    return df_check\n",
        "check(data)"
      ],
      "metadata": {
        "execution": {
          "iopub.status.busy": "2024-03-27T06:27:50.076870Z",
          "iopub.status.idle": "2024-03-27T06:27:50.077347Z",
          "shell.execute_reply.started": "2024-03-27T06:27:50.077157Z",
          "shell.execute_reply": "2024-03-27T06:27:50.077183Z"
        },
        "trusted": true,
        "id": "NeOKlhvCn_5W"
      },
      "execution_count": null,
      "outputs": []
    },
    {
      "cell_type": "code",
      "source": [
        "data.dropna(subset=['CustLocation', 'CustomerDOB', 'CustAccountBalance'], inplace = True)\n",
        "data.shape"
      ],
      "metadata": {
        "execution": {
          "iopub.status.busy": "2024-03-27T06:27:50.082188Z",
          "iopub.status.idle": "2024-03-27T06:27:50.082584Z",
          "shell.execute_reply.started": "2024-03-27T06:27:50.082385Z",
          "shell.execute_reply": "2024-03-27T06:27:50.082418Z"
        },
        "trusted": true,
        "colab": {
          "base_uri": "https://localhost:8080/"
        },
        "id": "gCsjboPMn_5X",
        "outputId": "34205161-5a8c-43c8-b60e-d37c6c1db37f"
      },
      "execution_count": null,
      "outputs": [
        {
          "output_type": "execute_result",
          "data": {
            "text/plain": [
              "(1042651, 9)"
            ]
          },
          "metadata": {},
          "execution_count": 12
        }
      ]
    },
    {
      "cell_type": "code",
      "source": [
        "check(data)"
      ],
      "metadata": {
        "execution": {
          "iopub.status.busy": "2024-03-27T06:27:50.083658Z",
          "iopub.status.idle": "2024-03-27T06:27:50.084037Z",
          "shell.execute_reply.started": "2024-03-27T06:27:50.083864Z",
          "shell.execute_reply": "2024-03-27T06:27:50.083882Z"
        },
        "trusted": true,
        "id": "3nf6Fsgdn_5Y"
      },
      "execution_count": null,
      "outputs": []
    },
    {
      "cell_type": "code",
      "source": [
        "data['CustGender'].value_counts()"
      ],
      "metadata": {
        "colab": {
          "base_uri": "https://localhost:8080/"
        },
        "id": "laCvnRlJ3bhu",
        "outputId": "c204951f-2622-4d29-dc75-caf55acedf84"
      },
      "execution_count": null,
      "outputs": [
        {
          "output_type": "execute_result",
          "data": {
            "text/plain": [
              "M    760978\n",
              "F    280635\n",
              "T         1\n",
              "Name: CustGender, dtype: int64"
            ]
          },
          "metadata": {},
          "execution_count": 14
        }
      ]
    },
    {
      "cell_type": "code",
      "source": [
        "data.fillna({\n",
        "    \"CustGender\":\"F\"\n",
        "}, inplace = True)\n"
      ],
      "metadata": {
        "execution": {
          "iopub.status.busy": "2024-03-27T06:27:50.085757Z",
          "iopub.status.idle": "2024-03-27T06:27:50.086297Z",
          "shell.execute_reply.started": "2024-03-27T06:27:50.086031Z",
          "shell.execute_reply": "2024-03-27T06:27:50.086058Z"
        },
        "trusted": true,
        "id": "4lgf_duYn_5Y"
      },
      "execution_count": null,
      "outputs": []
    },
    {
      "cell_type": "code",
      "source": [
        "data['CustGender'].value_counts()"
      ],
      "metadata": {
        "colab": {
          "base_uri": "https://localhost:8080/"
        },
        "id": "pY9JrtDG3WXG",
        "outputId": "6662ee4c-42f3-42be-9d2f-060f1e2018ed"
      },
      "execution_count": null,
      "outputs": [
        {
          "output_type": "execute_result",
          "data": {
            "text/plain": [
              "M    760978\n",
              "F    281672\n",
              "T         1\n",
              "Name: CustGender, dtype: int64"
            ]
          },
          "metadata": {},
          "execution_count": 16
        }
      ]
    },
    {
      "cell_type": "code",
      "source": [
        "\n",
        "data.isna().sum()"
      ],
      "metadata": {
        "execution": {
          "iopub.status.busy": "2024-03-27T06:27:50.088048Z",
          "iopub.status.idle": "2024-03-27T06:27:50.088583Z",
          "shell.execute_reply.started": "2024-03-27T06:27:50.088302Z",
          "shell.execute_reply": "2024-03-27T06:27:50.088326Z"
        },
        "trusted": true,
        "id": "dl9qQfhVn_5Y"
      },
      "execution_count": null,
      "outputs": []
    },
    {
      "cell_type": "code",
      "source": [
        "#check for duplication\n",
        "data.duplicated().sum()"
      ],
      "metadata": {
        "execution": {
          "iopub.status.busy": "2024-03-27T06:27:50.078902Z",
          "iopub.status.idle": "2024-03-27T06:27:50.079290Z",
          "shell.execute_reply.started": "2024-03-27T06:27:50.079106Z",
          "shell.execute_reply": "2024-03-27T06:27:50.079125Z"
        },
        "trusted": true,
        "colab": {
          "base_uri": "https://localhost:8080/"
        },
        "id": "YCOMv8_dn_5X",
        "outputId": "c070a77c-b2f0-492b-9a3d-7fb20096b6a3"
      },
      "execution_count": null,
      "outputs": [
        {
          "output_type": "execute_result",
          "data": {
            "text/plain": [
              "0"
            ]
          },
          "metadata": {},
          "execution_count": 10
        }
      ]
    },
    {
      "cell_type": "code",
      "source": [
        "data['CustGender'].nunique()"
      ],
      "metadata": {
        "execution": {
          "iopub.status.busy": "2024-03-27T06:27:50.094393Z",
          "iopub.status.idle": "2024-03-27T06:27:50.094950Z",
          "shell.execute_reply.started": "2024-03-27T06:27:50.094665Z",
          "shell.execute_reply": "2024-03-27T06:27:50.094690Z"
        },
        "trusted": true,
        "colab": {
          "base_uri": "https://localhost:8080/"
        },
        "id": "zuk-NwTUn_5Z",
        "outputId": "3d88a1e4-1529-4c99-ed62-87cbc9dc8ba1"
      },
      "execution_count": null,
      "outputs": [
        {
          "output_type": "execute_result",
          "data": {
            "text/plain": [
              "3"
            ]
          },
          "metadata": {},
          "execution_count": 20
        }
      ]
    },
    {
      "cell_type": "code",
      "source": [
        "plt.style.use(\"fivethirtyeight\")\n",
        "chart=sns.countplot(x='CustGender',data=data,palette='rocket', order = data['CustGender'].value_counts().index)\n",
        "plt.title(\"Frequency\",\n",
        "          fontsize='20',\n",
        "          backgroundcolor='AliceBlue',\n",
        "          color='magenta');"
      ],
      "metadata": {
        "execution": {
          "iopub.status.busy": "2024-03-27T06:27:50.080328Z",
          "iopub.status.idle": "2024-03-27T06:27:50.080738Z",
          "shell.execute_reply.started": "2024-03-27T06:27:50.080557Z",
          "shell.execute_reply": "2024-03-27T06:27:50.080575Z"
        },
        "trusted": true,
        "colab": {
          "base_uri": "https://localhost:8080/",
          "height": 563
        },
        "id": "izlZr2fun_5X",
        "outputId": "c1bbb3c5-03c5-4688-853c-cf47953f7c3f"
      },
      "execution_count": null,
      "outputs": [
        {
          "output_type": "display_data",
          "data": {
            "text/plain": [
              "<Figure size 800x550 with 1 Axes>"
            ],
            "image/png": "[encoded data removed]"
          },
          "metadata": {}
        }
      ]
    },
    {
      "cell_type": "code",
      "source": [
        "import numpy as np\n",
        "\n",
        "def dob_formatter(value):\n",
        "    if pd.isna(value):  # Check if the value is NaN\n",
        "        return np.NaN\n",
        "\n",
        "    parts = value.split('/')  # Split the value by '/'\n",
        "    if len(parts) != 3:  # Check if there are three parts (day, month, year)\n",
        "        return np.NaN\n",
        "\n",
        "    day, month, year = map(int, parts)  # Convert parts to integers\n",
        "\n",
        "    # Handle two-digit years\n",
        "    if len(parts[2]) == 2:\n",
        "        year = int(parts[2])\n",
        "        if year < 23:\n",
        "            year += 2000  # Assume year is in the range 2000-2022\n",
        "        else:\n",
        "            year += 1900  # Assume year is in the range 1923-1999\n",
        "\n",
        "    # Handle four-digit years\n",
        "    if len(parts[2]) == 4:\n",
        "        year = int(parts[2])\n",
        "\n",
        "    return f\"{year}/{month:02d}/{day:02d}\"\n",
        "\n",
        "\n",
        "data[\"CustomerDOB\"] = data[\"CustomerDOB\"].astype(str).apply(dob_formatter)\n",
        "\n"
      ],
      "metadata": {
        "execution": {
          "iopub.status.busy": "2024-03-27T06:27:50.090279Z",
          "iopub.status.idle": "2024-03-27T06:27:50.090865Z",
          "shell.execute_reply.started": "2024-03-27T06:27:50.090597Z",
          "shell.execute_reply": "2024-03-27T06:27:50.090623Z"
        },
        "trusted": true,
        "id": "3L83PiYKn_5Z"
      },
      "execution_count": null,
      "outputs": []
    },
    {
      "cell_type": "code",
      "source": [
        "data[\"CustomerDOB\"] = pd.to_datetime(data[\"CustomerDOB\"])\n",
        "data[\"TransactionDate\"] = pd.to_datetime(data[\"TransactionDate\"])\n",
        "\n",
        "from datetime import datetime\n",
        "\n",
        "# Assuming data[\"CustomerDOB\"] and data[\"TransactionDate\"] are in datetime format\n",
        "data[\"CustomerAge\"] = datetime.now().year - data[\"CustomerDOB\"].dt.year\n"
      ],
      "metadata": {
        "id": "8hFPz2li2lqw"
      },
      "execution_count": null,
      "outputs": []
    },
    {
      "cell_type": "code",
      "source": [
        "data[\"CustomerAge\"]"
      ],
      "metadata": {
        "id": "XEG8yPkS4GPu"
      },
      "execution_count": null,
      "outputs": []
    },
    {
      "cell_type": "code",
      "source": [
        "min(data[\"CustomerAge\"])"
      ],
      "metadata": {
        "colab": {
          "base_uri": "https://localhost:8080/"
        },
        "id": "a2lnrusU6p_m",
        "outputId": "5c1b4743-98b0-40a5-dafe-e14598a41e63"
      },
      "execution_count": null,
      "outputs": [
        {
          "output_type": "execute_result",
          "data": {
            "text/plain": [
              "8.0"
            ]
          },
          "metadata": {},
          "execution_count": 82
        }
      ]
    },
    {
      "cell_type": "code",
      "source": [
        "data.columns"
      ],
      "metadata": {
        "execution": {
          "iopub.status.busy": "2024-03-27T06:27:50.105440Z",
          "iopub.status.idle": "2024-03-27T06:27:50.105811Z",
          "shell.execute_reply.started": "2024-03-27T06:27:50.105640Z",
          "shell.execute_reply": "2024-03-27T06:27:50.105659Z"
        },
        "trusted": true,
        "colab": {
          "base_uri": "https://localhost:8080/"
        },
        "id": "BukG3Gb1n_5a",
        "outputId": "5d4027ca-7201-409d-90bd-4b701b8a9f67"
      },
      "execution_count": null,
      "outputs": [
        {
          "output_type": "execute_result",
          "data": {
            "text/plain": [
              "Index(['TransactionID', 'CustomerID', 'CustomerDOB', 'CustGender',\n",
              "       'CustLocation', 'CustAccountBalance', 'TransactionDate',\n",
              "       'TransactionTime', 'TransactionAmount (INR)', 'CustomerAge'],\n",
              "      dtype='object')"
            ]
          },
          "metadata": {},
          "execution_count": 25
        }
      ]
    },
    {
      "cell_type": "code",
      "source": [
        "#df['TransactionDate1'] ==> I will keep it to do visaulization\n",
        "data['TransactionDate1']=data['TransactionDate'] # ==> to calculate the minimum (first transaction)\n",
        "data['TransactionDate2']=data['TransactionDate'] # ==> to calculate the maximum (last transaction)"
      ],
      "metadata": {
        "execution": {
          "iopub.status.busy": "2024-03-27T06:27:50.107097Z",
          "iopub.status.idle": "2024-03-27T06:27:50.107477Z",
          "shell.execute_reply.started": "2024-03-27T06:27:50.107289Z",
          "shell.execute_reply": "2024-03-27T06:27:50.107306Z"
        },
        "trusted": true,
        "id": "BeS453Cwn_5a"
      },
      "execution_count": null,
      "outputs": []
    },
    {
      "cell_type": "code",
      "source": [
        "#Creating RMF Table Strategy\n",
        "\n",
        "RMF_data = data.groupby(\"CustomerID\").agg({\n",
        "                                        \"TransactionID\" : \"count\",\n",
        "                                        \"CustGender\" : \"first\",\n",
        "                                        \"CustLocation\":\"first\",\n",
        "                                        \"CustAccountBalance\"  : \"mean\",\n",
        "                                        \"TransactionAmount (INR)\" : \"mean\",\n",
        "                                        \"CustomerAge\" : \"max\",\n",
        "                                        \"TransactionDate2\":\"max\",\n",
        "                                        \"TransactionDate1\":\"min\",\n",
        "                                        \"TransactionDate\":\"median\"\n",
        "                        })\n",
        "\n",
        "RMF_data = RMF_data.reset_index()\n",
        "RMF_data.head()"
      ],
      "metadata": {
        "execution": {
          "iopub.status.busy": "2024-03-27T06:27:50.109481Z",
          "iopub.status.idle": "2024-03-27T06:27:50.110012Z",
          "shell.execute_reply.started": "2024-03-27T06:27:50.109744Z",
          "shell.execute_reply": "2024-03-27T06:27:50.109769Z"
        },
        "trusted": true,
        "id": "xnpeiNZUn_5b"
      },
      "execution_count": null,
      "outputs": []
    },
    {
      "cell_type": "code",
      "source": [
        "RMF_data.shape"
      ],
      "metadata": {
        "execution": {
          "iopub.status.busy": "2024-03-27T06:27:50.111433Z",
          "iopub.status.idle": "2024-03-27T06:27:50.111971Z",
          "shell.execute_reply.started": "2024-03-27T06:27:50.111698Z",
          "shell.execute_reply": "2024-03-27T06:27:50.111724Z"
        },
        "trusted": true,
        "colab": {
          "base_uri": "https://localhost:8080/"
        },
        "id": "fch2dQjVn_5b",
        "outputId": "ea9351af-3f31-40be-efdd-0ec4adc38b79"
      },
      "execution_count": null,
      "outputs": [
        {
          "output_type": "execute_result",
          "data": {
            "text/plain": [
              "(880089, 10)"
            ]
          },
          "metadata": {},
          "execution_count": 28
        }
      ]
    },
    {
      "cell_type": "code",
      "source": [
        "RMF_data.drop(columns=[\"CustomerID\"],inplace=True)"
      ],
      "metadata": {
        "execution": {
          "iopub.status.busy": "2024-03-27T06:27:50.114023Z",
          "iopub.status.idle": "2024-03-27T06:27:50.114567Z",
          "shell.execute_reply.started": "2024-03-27T06:27:50.114292Z",
          "shell.execute_reply": "2024-03-27T06:27:50.114315Z"
        },
        "trusted": true,
        "id": "KDur5gH9n_5b"
      },
      "execution_count": null,
      "outputs": []
    },
    {
      "cell_type": "code",
      "source": [
        "RMF_data['Recency']=RMF_data['TransactionDate2']-RMF_data['TransactionDate1']"
      ],
      "metadata": {
        "execution": {
          "iopub.status.busy": "2024-03-27T06:27:50.115819Z",
          "iopub.status.idle": "2024-03-27T06:27:50.116318Z",
          "shell.execute_reply.started": "2024-03-27T06:27:50.116068Z",
          "shell.execute_reply": "2024-03-27T06:27:50.116091Z"
        },
        "trusted": true,
        "id": "HgO_Sxr7n_5b"
      },
      "execution_count": null,
      "outputs": []
    },
    {
      "cell_type": "code",
      "source": [
        "\n",
        "RMF_data['Recency']=RMF_data['Recency'].astype(str)\n",
        "RMF_data.head()"
      ],
      "metadata": {
        "execution": {
          "iopub.status.busy": "2024-03-27T06:27:50.124151Z",
          "iopub.status.idle": "2024-03-27T06:27:50.124845Z",
          "shell.execute_reply.started": "2024-03-27T06:27:50.124520Z",
          "shell.execute_reply": "2024-03-27T06:27:50.124553Z"
        },
        "trusted": true,
        "id": "ApUagOggn_5b"
      },
      "execution_count": null,
      "outputs": []
    },
    {
      "cell_type": "code",
      "source": [
        "RMF_data['Recency']=RMF_data['Recency'].apply(lambda x :re.search('\\d+',x).group())\n",
        "RMF_data['Recency']=RMF_data['Recency'].astype(int)"
      ],
      "metadata": {
        "execution": {
          "iopub.status.busy": "2024-03-27T06:27:50.126347Z",
          "iopub.status.idle": "2024-03-27T06:27:50.126951Z",
          "shell.execute_reply.started": "2024-03-27T06:27:50.126660Z",
          "shell.execute_reply": "2024-03-27T06:27:50.126687Z"
        },
        "trusted": true,
        "id": "1GKxtTHBn_5c"
      },
      "execution_count": null,
      "outputs": []
    },
    {
      "cell_type": "code",
      "source": [
        "#0 days mean that a customer has done transaction recently one time by logic so I will convert 0 to 1\n",
        "def rep_0(i):\n",
        "    if i==0:\n",
        "        return 1\n",
        "    else:\n",
        "        return i\n",
        "RMF_data['Recency']=RMF_data['Recency'].apply(rep_0)"
      ],
      "metadata": {
        "execution": {
          "iopub.status.busy": "2024-03-27T06:27:50.128724Z",
          "iopub.status.idle": "2024-03-27T06:27:50.129283Z",
          "shell.execute_reply.started": "2024-03-27T06:27:50.129019Z",
          "shell.execute_reply": "2024-03-27T06:27:50.129044Z"
        },
        "trusted": true,
        "id": "9lDaNnO2n_5c"
      },
      "execution_count": null,
      "outputs": []
    },
    {
      "cell_type": "code",
      "source": [
        "RMF_data.drop(columns=[\"TransactionDate1\",\"TransactionDate2\"],inplace=True)\n",
        "RMF_data.head(3)"
      ],
      "metadata": {
        "execution": {
          "iopub.status.busy": "2024-03-27T06:27:50.130971Z",
          "iopub.status.idle": "2024-03-27T06:27:50.131805Z",
          "shell.execute_reply.started": "2024-03-27T06:27:50.131594Z",
          "shell.execute_reply": "2024-03-27T06:27:50.131617Z"
        },
        "trusted": true,
        "id": "wfrIdWoGn_5c"
      },
      "execution_count": null,
      "outputs": []
    },
    {
      "cell_type": "code",
      "source": [
        "RMF_data.rename(columns={\"TransactionID\":\"Frequency\"},inplace=True)"
      ],
      "metadata": {
        "execution": {
          "iopub.status.busy": "2024-03-27T06:27:50.132623Z",
          "iopub.status.idle": "2024-03-27T06:27:50.133025Z",
          "shell.execute_reply.started": "2024-03-27T06:27:50.132828Z",
          "shell.execute_reply": "2024-03-27T06:27:50.132846Z"
        },
        "trusted": true,
        "id": "vAlxPLQwn_5c"
      },
      "execution_count": null,
      "outputs": []
    },
    {
      "cell_type": "code",
      "source": [
        "# to claculate the outliers for each feature\n",
        "lower_list=[]\n",
        "upper_list=[]\n",
        "num_list=[]\n",
        "perc_list=[]\n",
        "cols=['Frequency', 'CustAccountBalance','TransactionAmount (INR)', 'CustomerAge', 'Recency']\n",
        "for i in cols:\n",
        "    Q1 = RMF_data[i].quantile(0.25)\n",
        "    Q3 = RMF_data[i].quantile(0.75)\n",
        "    IQR = Q3 - Q1\n",
        "    lower = Q1 - 1.5 * IQR\n",
        "    upper = Q3 + 1.5 * IQR\n",
        "    # calculate number of outliers\n",
        "    num=RMF_data[(RMF_data[i] < lower) | (RMF_data[i] > upper)].shape[0]\n",
        "    # calculate percentage of outliers\n",
        "    perc = (num / RMF_data.shape[0]) * 100\n",
        "    lower_list.append(lower)\n",
        "    upper_list.append(upper)\n",
        "    num_list.append(num)\n",
        "    perc_list.append(round(perc,2))\n",
        "\n",
        "\n",
        "dic={'lower': lower_list, 'upper': upper_list, 'outliers': num_list, 'Perc%':perc_list }\n",
        "outliers_df=pd.DataFrame(dic,index=['Frequency', 'CustAccountBalance','TransactionAmount (INR)', 'CustomerAge', 'Recency'])\n",
        "outliers_df"
      ],
      "metadata": {
        "execution": {
          "iopub.status.busy": "2024-03-27T06:27:50.134760Z",
          "iopub.status.idle": "2024-03-27T06:27:50.135180Z",
          "shell.execute_reply.started": "2024-03-27T06:27:50.134998Z",
          "shell.execute_reply": "2024-03-27T06:27:50.135017Z"
        },
        "trusted": true,
        "colab": {
          "base_uri": "https://localhost:8080/",
          "height": 204
        },
        "id": "o4-UwhkQn_5d",
        "outputId": "6e5b7f5f-05ae-4bdb-9b7e-ce63d2a28177"
      },
      "execution_count": null,
      "outputs": [
        {
          "output_type": "execute_result",
          "data": {
            "text/plain": [
              "                             lower       upper  outliers  Perc%\n",
              "Frequency                    1.000       1.000    142192  16.16\n",
              "CustAccountBalance      -78309.735  145393.905    116611  13.25\n",
              "TransactionAmount (INR)  -1385.250    2816.750     91880  10.44\n",
              "CustomerAge                  9.500      53.500     84956   9.65\n",
              "Recency                      1.000       1.000    136340  15.49"
            ],
            "text/html": [
              "\n",
              "  <div id=\"df-f76a4482-a168-4a13-981f-f9a4b8dc5fde\" class=\"colab-df-container\">\n",
              "    <div>\n",
              "<style scoped>\n",
              "    .dataframe tbody tr th:only-of-type {\n",
              "        vertical-align: middle;\n",
              "    }\n",
              "\n",
              "    .dataframe tbody tr th {\n",
              "        vertical-align: top;\n",
              "    }\n",
              "\n",
              "    .dataframe thead th {\n",
              "        text-align: right;\n",
              "    }\n",
              "</style>\n",
              "<table border=\"1\" class=\"dataframe\">\n",
              "  <thead>\n",
              "    <tr style=\"text-align: right;\">\n",
              "      <th></th>\n",
              "      <th>lower</th>\n",
              "      <th>upper</th>\n",
              "      <th>outliers</th>\n",
              "      <th>Perc%</th>\n",
              "    </tr>\n",
              "  </thead>\n",
              "  <tbody>\n",
              "    <tr>\n",
              "      <th>Frequency</th>\n",
              "      <td>1.000</td>\n",
              "      <td>1.000</td>\n",
              "      <td>142192</td>\n",
              "      <td>16.16</td>\n",
              "    </tr>\n",
              "    <tr>\n",
              "      <th>CustAccountBalance</th>\n",
              "      <td>-78309.735</td>\n",
              "      <td>145393.905</td>\n",
              "      <td>116611</td>\n",
              "      <td>13.25</td>\n",
              "    </tr>\n",
              "    <tr>\n",
              "      <th>TransactionAmount (INR)</th>\n",
              "      <td>-1385.250</td>\n",
              "      <td>2816.750</td>\n",
              "      <td>91880</td>\n",
              "      <td>10.44</td>\n",
              "    </tr>\n",
              "    <tr>\n",
              "      <th>CustomerAge</th>\n",
              "      <td>9.500</td>\n",
              "      <td>53.500</td>\n",
              "      <td>84956</td>\n",
              "      <td>9.65</td>\n",
              "    </tr>\n",
              "    <tr>\n",
              "      <th>Recency</th>\n",
              "      <td>1.000</td>\n",
              "      <td>1.000</td>\n",
              "      <td>136340</td>\n",
              "      <td>15.49</td>\n",
              "    </tr>\n",
              "  </tbody>\n",
              "</table>\n",
              "</div>\n",
              "    <div class=\"colab-df-buttons\">\n",
              "\n",
              "  <div class=\"colab-df-container\">\n",
              "    <button class=\"colab-df-convert\" onclick=\"convertToInteractive('df-f76a4482-a168-4a13-981f-f9a4b8dc5fde')\"\n",
              "            title=\"Convert this dataframe to an interactive table.\"\n",
              "            style=\"display:none;\">\n",
              "\n",
              "  <svg xmlns=\"http://www.w3.org/2000/svg\" height=\"24px\" viewBox=\"0 -960 960 960\">\n",
              "    <path d=\"M120-120v-720h720v720H120Zm60-500h600v-160H180v160Zm220 220h160v-160H400v160Zm0 220h160v-160H400v160ZM180-400h160v-160H180v160Zm440 0h160v-160H620v160ZM180-180h160v-160H180v160Zm440 0h160v-160H620v160Z\"/>\n",
              "  </svg>\n",
              "    </button>\n",
              "\n",
              "  <style>\n",
              "    .colab-df-container {\n",
              "      display:flex;\n",
              "      gap: 12px;\n",
              "    }\n",
              "\n",
              "    .colab-df-convert {\n",
              "      background-color: #E8F0FE;\n",
              "      border: none;\n",
              "      border-radius: 50%;\n",
              "      cursor: pointer;\n",
              "      display: none;\n",
              "      fill: #1967D2;\n",
              "      height: 32px;\n",
              "      padding: 0 0 0 0;\n",
              "      width: 32px;\n",
              "    }\n",
              "\n",
              "    .colab-df-convert:hover {\n",
              "      background-color: #E2EBFA;\n",
              "      box-shadow: 0px 1px 2px rgba(60, 64, 67, 0.3), 0px 1px 3px 1px rgba(60, 64, 67, 0.15);\n",
              "      fill: #174EA6;\n",
              "    }\n",
              "\n",
              "    .colab-df-buttons div {\n",
              "      margin-bottom: 4px;\n",
              "    }\n",
              "\n",
              "    [theme=dark] .colab-df-convert {\n",
              "      background-color: #3B4455;\n",
              "      fill: #D2E3FC;\n",
              "    }\n",
              "\n",
              "    [theme=dark] .colab-df-convert:hover {\n",
              "      background-color: #434B5C;\n",
              "      box-shadow: 0px 1px 3px 1px rgba(0, 0, 0, 0.15);\n",
              "      filter: drop-shadow(0px 1px 2px rgba(0, 0, 0, 0.3));\n",
              "      fill: #FFFFFF;\n",
              "    }\n",
              "  </style>\n",
              "\n",
              "    <script>\n",
              "      const buttonEl =\n",
              "        document.querySelector('#df-f76a4482-a168-4a13-981f-f9a4b8dc5fde button.colab-df-convert');\n",
              "      buttonEl.style.display =\n",
              "        google.colab.kernel.accessAllowed ? 'block' : 'none';\n",
              "\n",
              "      async function convertToInteractive(key) {\n",
              "        const element = document.querySelector('#df-f76a4482-a168-4a13-981f-f9a4b8dc5fde');\n",
              "        const dataTable =\n",
              "          await google.colab.kernel.invokeFunction('convertToInteractive',\n",
              "                                                    [key], {});\n",
              "        if (!dataTable) return;\n",
              "\n",
              "        const docLinkHtml = 'Like what you see? Visit the ' +\n",
              "          '<a target=\"_blank\" href=https://colab.research.google.com/notebooks/data_table.ipynb>data table notebook</a>'\n",
              "          + ' to learn more about interactive tables.';\n",
              "        element.innerHTML = '';\n",
              "        dataTable['output_type'] = 'display_data';\n",
              "        await google.colab.output.renderOutput(dataTable, element);\n",
              "        const docLink = document.createElement('div');\n",
              "        docLink.innerHTML = docLinkHtml;\n",
              "        element.appendChild(docLink);\n",
              "      }\n",
              "    </script>\n",
              "  </div>\n",
              "\n",
              "\n",
              "<div id=\"df-ad6251d9-7b0b-4469-a681-2d75daccf339\">\n",
              "  <button class=\"colab-df-quickchart\" onclick=\"quickchart('df-ad6251d9-7b0b-4469-a681-2d75daccf339')\"\n",
              "            title=\"Suggest charts\"\n",
              "            style=\"display:none;\">\n",
              "\n",
              "<svg xmlns=\"http://www.w3.org/2000/svg\" height=\"24px\"viewBox=\"0 0 24 24\"\n",
              "     width=\"24px\">\n",
              "    <g>\n",
              "        <path d=\"M19 3H5c-1.1 0-2 .9-2 2v14c0 1.1.9 2 2 2h14c1.1 0 2-.9 2-2V5c0-1.1-.9-2-2-2zM9 17H7v-7h2v7zm4 0h-2V7h2v10zm4 0h-2v-4h2v4z\"/>\n",
              "    </g>\n",
              "</svg>\n",
              "  </button>\n",
              "\n",
              "<style>\n",
              "  .colab-df-quickchart {\n",
              "      --bg-color: #E8F0FE;\n",
              "      --fill-color: #1967D2;\n",
              "      --hover-bg-color: #E2EBFA;\n",
              "      --hover-fill-color: #174EA6;\n",
              "      --disabled-fill-color: #AAA;\n",
              "      --disabled-bg-color: #DDD;\n",
              "  }\n",
              "\n",
              "  [theme=dark] .colab-df-quickchart {\n",
              "      --bg-color: #3B4455;\n",
              "      --fill-color: #D2E3FC;\n",
              "      --hover-bg-color: #434B5C;\n",
              "      --hover-fill-color: #FFFFFF;\n",
              "      --disabled-bg-color: #3B4455;\n",
              "      --disabled-fill-color: #666;\n",
              "  }\n",
              "\n",
              "  .colab-df-quickchart {\n",
              "    background-color: var(--bg-color);\n",
              "    border: none;\n",
              "    border-radius: 50%;\n",
              "    cursor: pointer;\n",
              "    display: none;\n",
              "    fill: var(--fill-color);\n",
              "    height: 32px;\n",
              "    padding: 0;\n",
              "    width: 32px;\n",
              "  }\n",
              "\n",
              "  .colab-df-quickchart:hover {\n",
              "    background-color: var(--hover-bg-color);\n",
              "    box-shadow: 0 1px 2px rgba(60, 64, 67, 0.3), 0 1px 3px 1px rgba(60, 64, 67, 0.15);\n",
              "    fill: var(--button-hover-fill-color);\n",
              "  }\n",
              "\n",
              "  .colab-df-quickchart-complete:disabled,\n",
              "  .colab-df-quickchart-complete:disabled:hover {\n",
              "    background-color: var(--disabled-bg-color);\n",
              "    fill: var(--disabled-fill-color);\n",
              "    box-shadow: none;\n",
              "  }\n",
              "\n",
              "  .colab-df-spinner {\n",
              "    border: 2px solid var(--fill-color);\n",
              "    border-color: transparent;\n",
              "    border-bottom-color: var(--fill-color);\n",
              "    animation:\n",
              "      spin 1s steps(1) infinite;\n",
              "  }\n",
              "\n",
              "  @keyframes spin {\n",
              "    0% {\n",
              "      border-color: transparent;\n",
              "      border-bottom-color: var(--fill-color);\n",
              "      border-left-color: var(--fill-color);\n",
              "    }\n",
              "    20% {\n",
              "      border-color: transparent;\n",
              "      border-left-color: var(--fill-color);\n",
              "      border-top-color: var(--fill-color);\n",
              "    }\n",
              "    30% {\n",
              "      border-color: transparent;\n",
              "      border-left-color: var(--fill-color);\n",
              "      border-top-color: var(--fill-color);\n",
              "      border-right-color: var(--fill-color);\n",
              "    }\n",
              "    40% {\n",
              "      border-color: transparent;\n",
              "      border-right-color: var(--fill-color);\n",
              "      border-top-color: var(--fill-color);\n",
              "    }\n",
              "    60% {\n",
              "      border-color: transparent;\n",
              "      border-right-color: var(--fill-color);\n",
              "    }\n",
              "    80% {\n",
              "      border-color: transparent;\n",
              "      border-right-color: var(--fill-color);\n",
              "      border-bottom-color: var(--fill-color);\n",
              "    }\n",
              "    90% {\n",
              "      border-color: transparent;\n",
              "      border-bottom-color: var(--fill-color);\n",
              "    }\n",
              "  }\n",
              "</style>\n",
              "\n",
              "  <script>\n",
              "    async function quickchart(key) {\n",
              "      const quickchartButtonEl =\n",
              "        document.querySelector('#' + key + ' button');\n",
              "      quickchartButtonEl.disabled = true;  // To prevent multiple clicks.\n",
              "      quickchartButtonEl.classList.add('colab-df-spinner');\n",
              "      try {\n",
              "        const charts = await google.colab.kernel.invokeFunction(\n",
              "            'suggestCharts', [key], {});\n",
              "      } catch (error) {\n",
              "        console.error('Error during call to suggestCharts:', error);\n",
              "      }\n",
              "      quickchartButtonEl.classList.remove('colab-df-spinner');\n",
              "      quickchartButtonEl.classList.add('colab-df-quickchart-complete');\n",
              "    }\n",
              "    (() => {\n",
              "      let quickchartButtonEl =\n",
              "        document.querySelector('#df-ad6251d9-7b0b-4469-a681-2d75daccf339 button');\n",
              "      quickchartButtonEl.style.display =\n",
              "        google.colab.kernel.accessAllowed ? 'block' : 'none';\n",
              "    })();\n",
              "  </script>\n",
              "</div>\n",
              "    </div>\n",
              "  </div>\n"
            ],
            "application/vnd.google.colaboratory.intrinsic+json": {
              "type": "dataframe",
              "variable_name": "outliers_df",
              "summary": "{\n  \"name\": \"outliers_df\",\n  \"rows\": 5,\n  \"fields\": [\n    {\n      \"column\": \"lower\",\n      \"properties\": {\n        \"dtype\": \"number\",\n        \"std\": 34872.77609122078,\n        \"min\": -78309.735,\n        \"max\": 9.5,\n        \"num_unique_values\": 4,\n        \"samples\": [\n          -78309.735,\n          9.5,\n          1.0\n        ],\n        \"semantic_type\": \"\",\n        \"description\": \"\"\n      }\n    },\n    {\n      \"column\": \"upper\",\n      \"properties\": {\n        \"dtype\": \"number\",\n        \"std\": 64712.35201309083,\n        \"min\": 1.0,\n        \"max\": 145393.905,\n        \"num_unique_values\": 4,\n        \"samples\": [\n          145393.905,\n          53.5,\n          1.0\n        ],\n        \"semantic_type\": \"\",\n        \"description\": \"\"\n      }\n    },\n    {\n      \"column\": \"outliers\",\n      \"properties\": {\n        \"dtype\": \"number\",\n        \"std\": 25655,\n        \"min\": 84956,\n        \"max\": 142192,\n        \"num_unique_values\": 5,\n        \"samples\": [\n          116611,\n          136340,\n          91880\n        ],\n        \"semantic_type\": \"\",\n        \"description\": \"\"\n      }\n    },\n    {\n      \"column\": \"Perc%\",\n      \"properties\": {\n        \"dtype\": \"number\",\n        \"std\": 2.9165167580523175,\n        \"min\": 9.65,\n        \"max\": 16.16,\n        \"num_unique_values\": 5,\n        \"samples\": [\n          13.25,\n          15.49,\n          10.44\n        ],\n        \"semantic_type\": \"\",\n        \"description\": \"\"\n      }\n    }\n  ]\n}"
            }
          },
          "metadata": {},
          "execution_count": 36
        }
      ]
    },
    {
      "cell_type": "markdown",
      "source": [
        "## EDA"
      ],
      "metadata": {
        "id": "3acmpw0Sn_5d"
      }
    },
    {
      "cell_type": "code",
      "source": [
        "RMF_data.describe()"
      ],
      "metadata": {
        "execution": {
          "iopub.status.busy": "2024-03-27T06:27:50.136507Z",
          "iopub.status.idle": "2024-03-27T06:27:50.136875Z",
          "shell.execute_reply.started": "2024-03-27T06:27:50.136698Z",
          "shell.execute_reply": "2024-03-27T06:27:50.136715Z"
        },
        "trusted": true,
        "colab": {
          "base_uri": "https://localhost:8080/",
          "height": 297
        },
        "id": "nubqgoDhn_5f",
        "outputId": "3d4ef338-98b8-48bd-d585-54286f4875a6"
      },
      "execution_count": null,
      "outputs": [
        {
          "output_type": "execute_result",
          "data": {
            "text/plain": [
              "           Frequency  CustAccountBalance  TransactionAmount (INR)  \\\n",
              "count  880089.000000        8.800890e+05             8.800890e+05   \n",
              "mean        1.184671        1.146073e+05             1.567088e+03   \n",
              "std         0.449129        8.007374e+05             6.432656e+03   \n",
              "min         1.000000        0.000000e+00             0.000000e+00   \n",
              "25%         1.000000        5.579130e+03             1.905000e+02   \n",
              "50%         1.000000        1.864037e+04             5.000000e+02   \n",
              "75%         1.000000        6.150504e+04             1.241000e+03   \n",
              "max         6.000000        1.150355e+08             1.560035e+06   \n",
              "\n",
              "         CustomerAge        Recency  \n",
              "count  880089.000000  880089.000000  \n",
              "mean       43.592459      15.886246  \n",
              "std        45.997952      46.667884  \n",
              "min         0.000000       1.000000  \n",
              "25%        26.000000       1.000000  \n",
              "50%        30.000000       1.000000  \n",
              "75%        37.000000       1.000000  \n",
              "max       216.000000     336.000000  "
            ],
            "text/html": [
              "\n",
              "  <div id=\"df-b96947ed-3c6e-444d-a7c6-10ee6ea39de1\" class=\"colab-df-container\">\n",
              "    <div>\n",
              "<style scoped>\n",
              "    .dataframe tbody tr th:only-of-type {\n",
              "        vertical-align: middle;\n",
              "    }\n",
              "\n",
              "    .dataframe tbody tr th {\n",
              "        vertical-align: top;\n",
              "    }\n",
              "\n",
              "    .dataframe thead th {\n",
              "        text-align: right;\n",
              "    }\n",
              "</style>\n",
              "<table border=\"1\" class=\"dataframe\">\n",
              "  <thead>\n",
              "    <tr style=\"text-align: right;\">\n",
              "      <th></th>\n",
              "      <th>Frequency</th>\n",
              "      <th>CustAccountBalance</th>\n",
              "      <th>TransactionAmount (INR)</th>\n",
              "      <th>CustomerAge</th>\n",
              "      <th>Recency</th>\n",
              "    </tr>\n",
              "  </thead>\n",
              "  <tbody>\n",
              "    <tr>\n",
              "      <th>count</th>\n",
              "      <td>880089.000000</td>\n",
              "      <td>8.800890e+05</td>\n",
              "      <td>8.800890e+05</td>\n",
              "      <td>880089.000000</td>\n",
              "      <td>880089.000000</td>\n",
              "    </tr>\n",
              "    <tr>\n",
              "      <th>mean</th>\n",
              "      <td>1.184671</td>\n",
              "      <td>1.146073e+05</td>\n",
              "      <td>1.567088e+03</td>\n",
              "      <td>43.592459</td>\n",
              "      <td>15.886246</td>\n",
              "    </tr>\n",
              "    <tr>\n",
              "      <th>std</th>\n",
              "      <td>0.449129</td>\n",
              "      <td>8.007374e+05</td>\n",
              "      <td>6.432656e+03</td>\n",
              "      <td>45.997952</td>\n",
              "      <td>46.667884</td>\n",
              "    </tr>\n",
              "    <tr>\n",
              "      <th>min</th>\n",
              "      <td>1.000000</td>\n",
              "      <td>0.000000e+00</td>\n",
              "      <td>0.000000e+00</td>\n",
              "      <td>0.000000</td>\n",
              "      <td>1.000000</td>\n",
              "    </tr>\n",
              "    <tr>\n",
              "      <th>25%</th>\n",
              "      <td>1.000000</td>\n",
              "      <td>5.579130e+03</td>\n",
              "      <td>1.905000e+02</td>\n",
              "      <td>26.000000</td>\n",
              "      <td>1.000000</td>\n",
              "    </tr>\n",
              "    <tr>\n",
              "      <th>50%</th>\n",
              "      <td>1.000000</td>\n",
              "      <td>1.864037e+04</td>\n",
              "      <td>5.000000e+02</td>\n",
              "      <td>30.000000</td>\n",
              "      <td>1.000000</td>\n",
              "    </tr>\n",
              "    <tr>\n",
              "      <th>75%</th>\n",
              "      <td>1.000000</td>\n",
              "      <td>6.150504e+04</td>\n",
              "      <td>1.241000e+03</td>\n",
              "      <td>37.000000</td>\n",
              "      <td>1.000000</td>\n",
              "    </tr>\n",
              "    <tr>\n",
              "      <th>max</th>\n",
              "      <td>6.000000</td>\n",
              "      <td>1.150355e+08</td>\n",
              "      <td>1.560035e+06</td>\n",
              "      <td>216.000000</td>\n",
              "      <td>336.000000</td>\n",
              "    </tr>\n",
              "  </tbody>\n",
              "</table>\n",
              "</div>\n",
              "    <div class=\"colab-df-buttons\">\n",
              "\n",
              "  <div class=\"colab-df-container\">\n",
              "    <button class=\"colab-df-convert\" onclick=\"convertToInteractive('df-b96947ed-3c6e-444d-a7c6-10ee6ea39de1')\"\n",
              "            title=\"Convert this dataframe to an interactive table.\"\n",
              "            style=\"display:none;\">\n",
              "\n",
              "  <svg xmlns=\"http://www.w3.org/2000/svg\" height=\"24px\" viewBox=\"0 -960 960 960\">\n",
              "    <path d=\"M120-120v-720h720v720H120Zm60-500h600v-160H180v160Zm220 220h160v-160H400v160Zm0 220h160v-160H400v160ZM180-400h160v-160H180v160Zm440 0h160v-160H620v160ZM180-180h160v-160H180v160Zm440 0h160v-160H620v160Z\"/>\n",
              "  </svg>\n",
              "    </button>\n",
              "\n",
              "  <style>\n",
              "    .colab-df-container {\n",
              "      display:flex;\n",
              "      gap: 12px;\n",
              "    }\n",
              "\n",
              "    .colab-df-convert {\n",
              "      background-color: #E8F0FE;\n",
              "      border: none;\n",
              "      border-radius: 50%;\n",
              "      cursor: pointer;\n",
              "      display: none;\n",
              "      fill: #1967D2;\n",
              "      height: 32px;\n",
              "      padding: 0 0 0 0;\n",
              "      width: 32px;\n",
              "    }\n",
              "\n",
              "    .colab-df-convert:hover {\n",
              "      background-color: #E2EBFA;\n",
              "      box-shadow: 0px 1px 2px rgba(60, 64, 67, 0.3), 0px 1px 3px 1px rgba(60, 64, 67, 0.15);\n",
              "      fill: #174EA6;\n",
              "    }\n",
              "\n",
              "    .colab-df-buttons div {\n",
              "      margin-bottom: 4px;\n",
              "    }\n",
              "\n",
              "    [theme=dark] .colab-df-convert {\n",
              "      background-color: #3B4455;\n",
              "      fill: #D2E3FC;\n",
              "    }\n",
              "\n",
              "    [theme=dark] .colab-df-convert:hover {\n",
              "      background-color: #434B5C;\n",
              "      box-shadow: 0px 1px 3px 1px rgba(0, 0, 0, 0.15);\n",
              "      filter: drop-shadow(0px 1px 2px rgba(0, 0, 0, 0.3));\n",
              "      fill: #FFFFFF;\n",
              "    }\n",
              "  </style>\n",
              "\n",
              "    <script>\n",
              "      const buttonEl =\n",
              "        document.querySelector('#df-b96947ed-3c6e-444d-a7c6-10ee6ea39de1 button.colab-df-convert');\n",
              "      buttonEl.style.display =\n",
              "        google.colab.kernel.accessAllowed ? 'block' : 'none';\n",
              "\n",
              "      async function convertToInteractive(key) {\n",
              "        const element = document.querySelector('#df-b96947ed-3c6e-444d-a7c6-10ee6ea39de1');\n",
              "        const dataTable =\n",
              "          await google.colab.kernel.invokeFunction('convertToInteractive',\n",
              "                                                    [key], {});\n",
              "        if (!dataTable) return;\n",
              "\n",
              "        const docLinkHtml = 'Like what you see? Visit the ' +\n",
              "          '<a target=\"_blank\" href=https://colab.research.google.com/notebooks/data_table.ipynb>data table notebook</a>'\n",
              "          + ' to learn more about interactive tables.';\n",
              "        element.innerHTML = '';\n",
              "        dataTable['output_type'] = 'display_data';\n",
              "        await google.colab.output.renderOutput(dataTable, element);\n",
              "        const docLink = document.createElement('div');\n",
              "        docLink.innerHTML = docLinkHtml;\n",
              "        element.appendChild(docLink);\n",
              "      }\n",
              "    </script>\n",
              "  </div>\n",
              "\n",
              "\n",
              "<div id=\"df-eeb17242-95e3-45cd-a133-d61c0c6b6e00\">\n",
              "  <button class=\"colab-df-quickchart\" onclick=\"quickchart('df-eeb17242-95e3-45cd-a133-d61c0c6b6e00')\"\n",
              "            title=\"Suggest charts\"\n",
              "            style=\"display:none;\">\n",
              "\n",
              "<svg xmlns=\"http://www.w3.org/2000/svg\" height=\"24px\"viewBox=\"0 0 24 24\"\n",
              "     width=\"24px\">\n",
              "    <g>\n",
              "        <path d=\"M19 3H5c-1.1 0-2 .9-2 2v14c0 1.1.9 2 2 2h14c1.1 0 2-.9 2-2V5c0-1.1-.9-2-2-2zM9 17H7v-7h2v7zm4 0h-2V7h2v10zm4 0h-2v-4h2v4z\"/>\n",
              "    </g>\n",
              "</svg>\n",
              "  </button>\n",
              "\n",
              "<style>\n",
              "  .colab-df-quickchart {\n",
              "      --bg-color: #E8F0FE;\n",
              "      --fill-color: #1967D2;\n",
              "      --hover-bg-color: #E2EBFA;\n",
              "      --hover-fill-color: #174EA6;\n",
              "      --disabled-fill-color: #AAA;\n",
              "      --disabled-bg-color: #DDD;\n",
              "  }\n",
              "\n",
              "  [theme=dark] .colab-df-quickchart {\n",
              "      --bg-color: #3B4455;\n",
              "      --fill-color: #D2E3FC;\n",
              "      --hover-bg-color: #434B5C;\n",
              "      --hover-fill-color: #FFFFFF;\n",
              "      --disabled-bg-color: #3B4455;\n",
              "      --disabled-fill-color: #666;\n",
              "  }\n",
              "\n",
              "  .colab-df-quickchart {\n",
              "    background-color: var(--bg-color);\n",
              "    border: none;\n",
              "    border-radius: 50%;\n",
              "    cursor: pointer;\n",
              "    display: none;\n",
              "    fill: var(--fill-color);\n",
              "    height: 32px;\n",
              "    padding: 0;\n",
              "    width: 32px;\n",
              "  }\n",
              "\n",
              "  .colab-df-quickchart:hover {\n",
              "    background-color: var(--hover-bg-color);\n",
              "    box-shadow: 0 1px 2px rgba(60, 64, 67, 0.3), 0 1px 3px 1px rgba(60, 64, 67, 0.15);\n",
              "    fill: var(--button-hover-fill-color);\n",
              "  }\n",
              "\n",
              "  .colab-df-quickchart-complete:disabled,\n",
              "  .colab-df-quickchart-complete:disabled:hover {\n",
              "    background-color: var(--disabled-bg-color);\n",
              "    fill: var(--disabled-fill-color);\n",
              "    box-shadow: none;\n",
              "  }\n",
              "\n",
              "  .colab-df-spinner {\n",
              "    border: 2px solid var(--fill-color);\n",
              "    border-color: transparent;\n",
              "    border-bottom-color: var(--fill-color);\n",
              "    animation:\n",
              "      spin 1s steps(1) infinite;\n",
              "  }\n",
              "\n",
              "  @keyframes spin {\n",
              "    0% {\n",
              "      border-color: transparent;\n",
              "      border-bottom-color: var(--fill-color);\n",
              "      border-left-color: var(--fill-color);\n",
              "    }\n",
              "    20% {\n",
              "      border-color: transparent;\n",
              "      border-left-color: var(--fill-color);\n",
              "      border-top-color: var(--fill-color);\n",
              "    }\n",
              "    30% {\n",
              "      border-color: transparent;\n",
              "      border-left-color: var(--fill-color);\n",
              "      border-top-color: var(--fill-color);\n",
              "      border-right-color: var(--fill-color);\n",
              "    }\n",
              "    40% {\n",
              "      border-color: transparent;\n",
              "      border-right-color: var(--fill-color);\n",
              "      border-top-color: var(--fill-color);\n",
              "    }\n",
              "    60% {\n",
              "      border-color: transparent;\n",
              "      border-right-color: var(--fill-color);\n",
              "    }\n",
              "    80% {\n",
              "      border-color: transparent;\n",
              "      border-right-color: var(--fill-color);\n",
              "      border-bottom-color: var(--fill-color);\n",
              "    }\n",
              "    90% {\n",
              "      border-color: transparent;\n",
              "      border-bottom-color: var(--fill-color);\n",
              "    }\n",
              "  }\n",
              "</style>\n",
              "\n",
              "  <script>\n",
              "    async function quickchart(key) {\n",
              "      const quickchartButtonEl =\n",
              "        document.querySelector('#' + key + ' button');\n",
              "      quickchartButtonEl.disabled = true;  // To prevent multiple clicks.\n",
              "      quickchartButtonEl.classList.add('colab-df-spinner');\n",
              "      try {\n",
              "        const charts = await google.colab.kernel.invokeFunction(\n",
              "            'suggestCharts', [key], {});\n",
              "      } catch (error) {\n",
              "        console.error('Error during call to suggestCharts:', error);\n",
              "      }\n",
              "      quickchartButtonEl.classList.remove('colab-df-spinner');\n",
              "      quickchartButtonEl.classList.add('colab-df-quickchart-complete');\n",
              "    }\n",
              "    (() => {\n",
              "      let quickchartButtonEl =\n",
              "        document.querySelector('#df-eeb17242-95e3-45cd-a133-d61c0c6b6e00 button');\n",
              "      quickchartButtonEl.style.display =\n",
              "        google.colab.kernel.accessAllowed ? 'block' : 'none';\n",
              "    })();\n",
              "  </script>\n",
              "</div>\n",
              "    </div>\n",
              "  </div>\n"
            ],
            "application/vnd.google.colaboratory.intrinsic+json": {
              "type": "dataframe",
              "summary": "{\n  \"name\": \"RMF_data\",\n  \"rows\": 8,\n  \"fields\": [\n    {\n      \"column\": \"Frequency\",\n      \"properties\": {\n        \"dtype\": \"number\",\n        \"std\": 311157.86238329357,\n        \"min\": 0.44912947325627717,\n        \"max\": 880089.0,\n        \"num_unique_values\": 5,\n        \"samples\": [\n          1.1846710957641784,\n          6.0,\n          0.44912947325627717\n        ],\n        \"semantic_type\": \"\",\n        \"description\": \"\"\n      }\n    },\n    {\n      \"column\": \"CustAccountBalance\",\n      \"properties\": {\n        \"dtype\": \"number\",\n        \"std\": 40577809.18184454,\n        \"min\": 0.0,\n        \"max\": 115035495.1,\n        \"num_unique_values\": 8,\n        \"samples\": [\n          114607.34319346322,\n          18640.365,\n          880089.0\n        ],\n        \"semantic_type\": \"\",\n        \"description\": \"\"\n      }\n    },\n    {\n      \"column\": \"TransactionAmount (INR)\",\n      \"properties\": {\n        \"dtype\": \"number\",\n        \"std\": 592568.8805877984,\n        \"min\": 0.0,\n        \"max\": 1560034.99,\n        \"num_unique_values\": 8,\n        \"samples\": [\n          1567.088081837936,\n          500.0,\n          880089.0\n        ],\n        \"semantic_type\": \"\",\n        \"description\": \"\"\n      }\n    },\n    {\n      \"column\": \"CustomerAge\",\n      \"properties\": {\n        \"dtype\": \"number\",\n        \"std\": 311138.3252164696,\n        \"min\": 0.0,\n        \"max\": 880089.0,\n        \"num_unique_values\": 8,\n        \"samples\": [\n          43.5924593989926,\n          30.0,\n          880089.0\n        ],\n        \"semantic_type\": \"\",\n        \"description\": \"\"\n      }\n    },\n    {\n      \"column\": \"Recency\",\n      \"properties\": {\n        \"dtype\": \"number\",\n        \"std\": 311138.13908193016,\n        \"min\": 1.0,\n        \"max\": 880089.0,\n        \"num_unique_values\": 5,\n        \"samples\": [\n          15.886245595615899,\n          336.0,\n          46.66788402137302\n        ],\n        \"semantic_type\": \"\",\n        \"description\": \"\"\n      }\n    }\n  ]\n}"
            }
          },
          "metadata": {},
          "execution_count": 37
        }
      ]
    },
    {
      "cell_type": "code",
      "source": [
        "# correlation between features\n",
        "plt.figure(figsize=(7,5))\n",
        "correlation=RMF_data.corr()\n",
        "sns.heatmap(correlation,vmin=None,\n",
        "    vmax=0.8,\n",
        "    cmap='rocket_r',\n",
        "    annot=True,\n",
        "    fmt='.1f',\n",
        "    linecolor='white',\n",
        "    cbar=True)"
      ],
      "metadata": {
        "execution": {
          "iopub.status.busy": "2024-03-27T06:27:50.139643Z",
          "iopub.status.idle": "2024-03-27T06:27:50.140049Z",
          "shell.execute_reply.started": "2024-03-27T06:27:50.139863Z",
          "shell.execute_reply": "2024-03-27T06:27:50.139882Z"
        },
        "trusted": true,
        "colab": {
          "base_uri": "https://localhost:8080/",
          "height": 631
        },
        "id": "HjtUWgfKn_5f",
        "outputId": "71e4102a-b25a-41be-e81a-1e8925089bb2"
      },
      "execution_count": null,
      "outputs": [
        {
          "output_type": "execute_result",
          "data": {
            "text/plain": [
              "<Axes: >"
            ]
          },
          "metadata": {},
          "execution_count": 38
        },
        {
          "output_type": "display_data",
          "data": {
            "text/plain": [
              "<Figure size 700x500 with 2 Axes>"
            ],
            "image/png": "[encoded data removed]"
          },
          "metadata": {}
        }
      ]
    },
    {
      "cell_type": "code",
      "source": [
        "\n",
        "plt.style.use(\"fivethirtyeight\")\n",
        "chart=sns.countplot(x='Frequency',data=RMF_data,palette='rocket', order = RMF_data['Frequency'].value_counts().index)\n",
        "plt.title(\"Frequency\",\n",
        "          fontsize='20',\n",
        "          backgroundcolor='AliceBlue',\n",
        "          color='magenta');"
      ],
      "metadata": {
        "execution": {
          "iopub.status.busy": "2024-03-27T06:27:50.142830Z",
          "iopub.status.idle": "2024-03-27T06:27:50.143194Z",
          "shell.execute_reply.started": "2024-03-27T06:27:50.143020Z",
          "shell.execute_reply": "2024-03-27T06:27:50.143037Z"
        },
        "trusted": true,
        "colab": {
          "base_uri": "https://localhost:8080/",
          "height": 563
        },
        "id": "X5xbYHfOn_5f",
        "outputId": "f31e353d-ce59-462e-dc5e-74994340e01e"
      },
      "execution_count": null,
      "outputs": [
        {
          "output_type": "display_data",
          "data": {
            "text/plain": [
              "<Figure size 800x550 with 1 Axes>"
            ],
            "image/png": "[encoded data removed]"
          },
          "metadata": {}
        }
      ]
    },
    {
      "cell_type": "code",
      "source": [
        "RMF_data['CustGender'].value_counts()"
      ],
      "metadata": {
        "colab": {
          "base_uri": "https://localhost:8080/"
        },
        "id": "wP8TKGGPARbp",
        "outputId": "a03046d1-6385-44d0-87df-e70a0a631d29"
      },
      "execution_count": null,
      "outputs": [
        {
          "output_type": "execute_result",
          "data": {
            "text/plain": [
              "M    642152\n",
              "F    237936\n",
              "T         1\n",
              "Name: CustGender, dtype: int64"
            ]
          },
          "metadata": {},
          "execution_count": 40
        }
      ]
    },
    {
      "cell_type": "code",
      "source": [
        "plt.style.use(\"fivethirtyeight\")\n",
        "fig,ax=plt.subplots(ncols=2,nrows=1,figsize=(15,5))\n",
        "palette_color = sns.color_palette('rocket')\n",
        "ax[0].hist(x=RMF_data['CustomerAge'],color='purple')\n",
        "ax[0].set_title(\"Distribution of Customer Age\")\n",
        "ax[1].pie(RMF_data['CustGender'].value_counts(),autopct='%1.f%%',colors=palette_color,labels=['Male','Female','T'])\n",
        "ax[1].set_title(\"Customer Gender\")\n",
        "plt.tight_layout();"
      ],
      "metadata": {
        "execution": {
          "iopub.status.busy": "2024-03-27T06:27:50.144867Z",
          "iopub.status.idle": "2024-03-27T06:27:50.145224Z",
          "shell.execute_reply.started": "2024-03-27T06:27:50.145053Z",
          "shell.execute_reply": "2024-03-27T06:27:50.145070Z"
        },
        "trusted": true,
        "colab": {
          "base_uri": "https://localhost:8080/",
          "height": 494
        },
        "id": "2UeEXmkhn_5g",
        "outputId": "31d2c06c-3424-4181-f2ed-b1a6ff43f92c"
      },
      "execution_count": null,
      "outputs": [
        {
          "output_type": "display_data",
          "data": {
            "text/plain": [
              "<Figure size 1500x500 with 2 Axes>"
            ],
            "image/png": "[encoded data removed]"
          },
          "metadata": {}
        }
      ]
    },
    {
      "cell_type": "code",
      "source": [
        "RMF_data[RMF_data[\"CustomerAge\"] > 50].shape"
      ],
      "metadata": {
        "execution": {
          "iopub.status.busy": "2024-03-27T06:27:50.146243Z",
          "iopub.status.idle": "2024-03-27T06:27:50.146636Z",
          "shell.execute_reply.started": "2024-03-27T06:27:50.146449Z",
          "shell.execute_reply": "2024-03-27T06:27:50.146467Z"
        },
        "trusted": true,
        "colab": {
          "base_uri": "https://localhost:8080/"
        },
        "id": "lzXtWqlfn_5u",
        "outputId": "13ac26b8-f6f5-46b3-cd5a-65c9e5fbd922"
      },
      "execution_count": null,
      "outputs": [
        {
          "output_type": "execute_result",
          "data": {
            "text/plain": [
              "(95142, 8)"
            ]
          },
          "metadata": {},
          "execution_count": 42
        }
      ]
    },
    {
      "cell_type": "code",
      "source": [
        "RMF_data.drop(RMF_data[RMF_data[\"CustomerAge\"] > 50].index.tolist(), axis=0, inplace=True)"
      ],
      "metadata": {
        "execution": {
          "iopub.status.busy": "2024-03-27T06:27:50.147639Z",
          "iopub.status.idle": "2024-03-27T06:27:50.148003Z",
          "shell.execute_reply.started": "2024-03-27T06:27:50.147829Z",
          "shell.execute_reply": "2024-03-27T06:27:50.147846Z"
        },
        "trusted": true,
        "id": "4fMihD54n_5v"
      },
      "execution_count": null,
      "outputs": []
    },
    {
      "cell_type": "code",
      "source": [
        "RMF_data.shape"
      ],
      "metadata": {
        "execution": {
          "iopub.status.busy": "2024-03-27T06:27:50.149231Z",
          "iopub.status.idle": "2024-03-27T06:27:50.149611Z",
          "shell.execute_reply.started": "2024-03-27T06:27:50.149401Z",
          "shell.execute_reply": "2024-03-27T06:27:50.149443Z"
        },
        "trusted": true,
        "colab": {
          "base_uri": "https://localhost:8080/"
        },
        "id": "So2LBihJn_5v",
        "outputId": "69236e0b-b319-497f-bec6-f3caa8a47253"
      },
      "execution_count": null,
      "outputs": [
        {
          "output_type": "execute_result",
          "data": {
            "text/plain": [
              "(784947, 8)"
            ]
          },
          "metadata": {},
          "execution_count": 44
        }
      ]
    },
    {
      "cell_type": "code",
      "source": [
        "plt.style.use(\"fivethirtyeight\")\n",
        "plt.figure(figsize=(15,7))\n",
        "chart=sns.countplot(y='CustLocation',data=RMF_data,palette='rocket', order = RMF_data['CustLocation'].value_counts()[:20].index)\n",
        "plt.title(\"Most 20 Location of Customer \",\n",
        "          fontsize='20',\n",
        "          backgroundcolor='AliceBlue',\n",
        "          color='magenta');"
      ],
      "metadata": {
        "execution": {
          "iopub.status.busy": "2024-03-27T06:27:50.150783Z",
          "iopub.status.idle": "2024-03-27T06:27:50.151150Z",
          "shell.execute_reply.started": "2024-03-27T06:27:50.150976Z",
          "shell.execute_reply": "2024-03-27T06:27:50.150994Z"
        },
        "trusted": true,
        "colab": {
          "base_uri": "https://localhost:8080/",
          "height": 625
        },
        "id": "HjXYUO3nn_5v",
        "outputId": "f7c57892-337b-4201-ac83-291b021d1d2c"
      },
      "execution_count": null,
      "outputs": [
        {
          "output_type": "display_data",
          "data": {
            "text/plain": [
              "<Figure size 1500x700 with 1 Axes>"
            ],
            "image/png": "[encoded data removed]"
          },
          "metadata": {}
        }
      ]
    },
    {
      "cell_type": "code",
      "source": [
        "plt.style.use(\"fivethirtyeight\")\n",
        "sns.scatterplot(x='TransactionAmount (INR)',y='CustAccountBalance',data=RMF_data,palette='rocket',hue='Frequency',size='Recency' )\n",
        "plt.title(\"TransactionAmount (INR) and CustAccountBalance\",\n",
        "          fontsize='20',\n",
        "          backgroundcolor='AliceBlue',\n",
        "          color='magenta');"
      ],
      "metadata": {
        "execution": {
          "iopub.status.busy": "2024-03-27T06:27:50.152118Z",
          "iopub.status.idle": "2024-03-27T06:27:50.152514Z",
          "shell.execute_reply.started": "2024-03-27T06:27:50.152307Z",
          "shell.execute_reply": "2024-03-27T06:27:50.152325Z"
        },
        "trusted": true,
        "colab": {
          "base_uri": "https://localhost:8080/",
          "height": 563
        },
        "id": "sAkdmM8tn_5v",
        "outputId": "32877967-c58c-434e-e164-d2c95965f66e"
      },
      "execution_count": null,
      "outputs": [
        {
          "output_type": "display_data",
          "data": {
            "text/plain": [
              "<Figure size 800x550 with 1 Axes>"
            ],
            "image/png": "[encoded data removed]"
          },
          "metadata": {}
        }
      ]
    },
    {
      "cell_type": "code",
      "source": [
        "RMF_data.head()"
      ],
      "metadata": {
        "execution": {
          "iopub.status.busy": "2024-03-27T06:27:50.154735Z",
          "iopub.status.idle": "2024-03-27T06:27:50.155111Z",
          "shell.execute_reply.started": "2024-03-27T06:27:50.154936Z",
          "shell.execute_reply": "2024-03-27T06:27:50.154953Z"
        },
        "trusted": true,
        "colab": {
          "base_uri": "https://localhost:8080/",
          "height": 204
        },
        "id": "fdAEp_Ztn_5v",
        "outputId": "0ec0baf3-79b4-42cd-8aae-2389c2d99182"
      },
      "execution_count": null,
      "outputs": [
        {
          "output_type": "execute_result",
          "data": {
            "text/plain": [
              "   Frequency CustGender CustLocation  CustAccountBalance  \\\n",
              "0          2          F        NOIDA           76340.635   \n",
              "1          1          M       MUMBAI           24204.490   \n",
              "2          2          F       MUMBAI          100112.950   \n",
              "3          1          F    CHAMPARAN             496.180   \n",
              "5          1          F        DELHI          296828.370   \n",
              "\n",
              "   TransactionAmount (INR)  CustomerAge TransactionDate  Recency  \n",
              "0                   2553.0           33      2016-09-17       18  \n",
              "1                   1499.0           22      2016-08-14        1  \n",
              "2                    727.5           32      2016-04-08      182  \n",
              "3                     30.0           26      2016-09-15        1  \n",
              "5                    557.0           28      2016-08-29        1  "
            ],
            "text/html": [
              "\n",
              "  <div id=\"df-5eb19a90-f9eb-4620-b020-efe14124ada2\" class=\"colab-df-container\">\n",
              "    <div>\n",
              "<style scoped>\n",
              "    .dataframe tbody tr th:only-of-type {\n",
              "        vertical-align: middle;\n",
              "    }\n",
              "\n",
              "    .dataframe tbody tr th {\n",
              "        vertical-align: top;\n",
              "    }\n",
              "\n",
              "    .dataframe thead th {\n",
              "        text-align: right;\n",
              "    }\n",
              "</style>\n",
              "<table border=\"1\" class=\"dataframe\">\n",
              "  <thead>\n",
              "    <tr style=\"text-align: right;\">\n",
              "      <th></th>\n",
              "      <th>Frequency</th>\n",
              "      <th>CustGender</th>\n",
              "      <th>CustLocation</th>\n",
              "      <th>CustAccountBalance</th>\n",
              "      <th>TransactionAmount (INR)</th>\n",
              "      <th>CustomerAge</th>\n",
              "      <th>TransactionDate</th>\n",
              "      <th>Recency</th>\n",
              "    </tr>\n",
              "  </thead>\n",
              "  <tbody>\n",
              "    <tr>\n",
              "      <th>0</th>\n",
              "      <td>2</td>\n",
              "      <td>F</td>\n",
              "      <td>NOIDA</td>\n",
              "      <td>76340.635</td>\n",
              "      <td>2553.0</td>\n",
              "      <td>33</td>\n",
              "      <td>2016-09-17</td>\n",
              "      <td>18</td>\n",
              "    </tr>\n",
              "    <tr>\n",
              "      <th>1</th>\n",
              "      <td>1</td>\n",
              "      <td>M</td>\n",
              "      <td>MUMBAI</td>\n",
              "      <td>24204.490</td>\n",
              "      <td>1499.0</td>\n",
              "      <td>22</td>\n",
              "      <td>2016-08-14</td>\n",
              "      <td>1</td>\n",
              "    </tr>\n",
              "    <tr>\n",
              "      <th>2</th>\n",
              "      <td>2</td>\n",
              "      <td>F</td>\n",
              "      <td>MUMBAI</td>\n",
              "      <td>100112.950</td>\n",
              "      <td>727.5</td>\n",
              "      <td>32</td>\n",
              "      <td>2016-04-08</td>\n",
              "      <td>182</td>\n",
              "    </tr>\n",
              "    <tr>\n",
              "      <th>3</th>\n",
              "      <td>1</td>\n",
              "      <td>F</td>\n",
              "      <td>CHAMPARAN</td>\n",
              "      <td>496.180</td>\n",
              "      <td>30.0</td>\n",
              "      <td>26</td>\n",
              "      <td>2016-09-15</td>\n",
              "      <td>1</td>\n",
              "    </tr>\n",
              "    <tr>\n",
              "      <th>5</th>\n",
              "      <td>1</td>\n",
              "      <td>F</td>\n",
              "      <td>DELHI</td>\n",
              "      <td>296828.370</td>\n",
              "      <td>557.0</td>\n",
              "      <td>28</td>\n",
              "      <td>2016-08-29</td>\n",
              "      <td>1</td>\n",
              "    </tr>\n",
              "  </tbody>\n",
              "</table>\n",
              "</div>\n",
              "    <div class=\"colab-df-buttons\">\n",
              "\n",
              "  <div class=\"colab-df-container\">\n",
              "    <button class=\"colab-df-convert\" onclick=\"convertToInteractive('df-5eb19a90-f9eb-4620-b020-efe14124ada2')\"\n",
              "            title=\"Convert this dataframe to an interactive table.\"\n",
              "            style=\"display:none;\">\n",
              "\n",
              "  <svg xmlns=\"http://www.w3.org/2000/svg\" height=\"24px\" viewBox=\"0 -960 960 960\">\n",
              "    <path d=\"M120-120v-720h720v720H120Zm60-500h600v-160H180v160Zm220 220h160v-160H400v160Zm0 220h160v-160H400v160ZM180-400h160v-160H180v160Zm440 0h160v-160H620v160ZM180-180h160v-160H180v160Zm440 0h160v-160H620v160Z\"/>\n",
              "  </svg>\n",
              "    </button>\n",
              "\n",
              "  <style>\n",
              "    .colab-df-container {\n",
              "      display:flex;\n",
              "      gap: 12px;\n",
              "    }\n",
              "\n",
              "    .colab-df-convert {\n",
              "      background-color: #E8F0FE;\n",
              "      border: none;\n",
              "      border-radius: 50%;\n",
              "      cursor: pointer;\n",
              "      display: none;\n",
              "      fill: #1967D2;\n",
              "      height: 32px;\n",
              "      padding: 0 0 0 0;\n",
              "      width: 32px;\n",
              "    }\n",
              "\n",
              "    .colab-df-convert:hover {\n",
              "      background-color: #E2EBFA;\n",
              "      box-shadow: 0px 1px 2px rgba(60, 64, 67, 0.3), 0px 1px 3px 1px rgba(60, 64, 67, 0.15);\n",
              "      fill: #174EA6;\n",
              "    }\n",
              "\n",
              "    .colab-df-buttons div {\n",
              "      margin-bottom: 4px;\n",
              "    }\n",
              "\n",
              "    [theme=dark] .colab-df-convert {\n",
              "      background-color: #3B4455;\n",
              "      fill: #D2E3FC;\n",
              "    }\n",
              "\n",
              "    [theme=dark] .colab-df-convert:hover {\n",
              "      background-color: #434B5C;\n",
              "      box-shadow: 0px 1px 3px 1px rgba(0, 0, 0, 0.15);\n",
              "      filter: drop-shadow(0px 1px 2px rgba(0, 0, 0, 0.3));\n",
              "      fill: #FFFFFF;\n",
              "    }\n",
              "  </style>\n",
              "\n",
              "    <script>\n",
              "      const buttonEl =\n",
              "        document.querySelector('#df-5eb19a90-f9eb-4620-b020-efe14124ada2 button.colab-df-convert');\n",
              "      buttonEl.style.display =\n",
              "        google.colab.kernel.accessAllowed ? 'block' : 'none';\n",
              "\n",
              "      async function convertToInteractive(key) {\n",
              "        const element = document.querySelector('#df-5eb19a90-f9eb-4620-b020-efe14124ada2');\n",
              "        const dataTable =\n",
              "          await google.colab.kernel.invokeFunction('convertToInteractive',\n",
              "                                                    [key], {});\n",
              "        if (!dataTable) return;\n",
              "\n",
              "        const docLinkHtml = 'Like what you see? Visit the ' +\n",
              "          '<a target=\"_blank\" href=https://colab.research.google.com/notebooks/data_table.ipynb>data table notebook</a>'\n",
              "          + ' to learn more about interactive tables.';\n",
              "        element.innerHTML = '';\n",
              "        dataTable['output_type'] = 'display_data';\n",
              "        await google.colab.output.renderOutput(dataTable, element);\n",
              "        const docLink = document.createElement('div');\n",
              "        docLink.innerHTML = docLinkHtml;\n",
              "        element.appendChild(docLink);\n",
              "      }\n",
              "    </script>\n",
              "  </div>\n",
              "\n",
              "\n",
              "<div id=\"df-52719342-ad77-476c-abe6-57d2815c1585\">\n",
              "  <button class=\"colab-df-quickchart\" onclick=\"quickchart('df-52719342-ad77-476c-abe6-57d2815c1585')\"\n",
              "            title=\"Suggest charts\"\n",
              "            style=\"display:none;\">\n",
              "\n",
              "<svg xmlns=\"http://www.w3.org/2000/svg\" height=\"24px\"viewBox=\"0 0 24 24\"\n",
              "     width=\"24px\">\n",
              "    <g>\n",
              "        <path d=\"M19 3H5c-1.1 0-2 .9-2 2v14c0 1.1.9 2 2 2h14c1.1 0 2-.9 2-2V5c0-1.1-.9-2-2-2zM9 17H7v-7h2v7zm4 0h-2V7h2v10zm4 0h-2v-4h2v4z\"/>\n",
              "    </g>\n",
              "</svg>\n",
              "  </button>\n",
              "\n",
              "<style>\n",
              "  .colab-df-quickchart {\n",
              "      --bg-color: #E8F0FE;\n",
              "      --fill-color: #1967D2;\n",
              "      --hover-bg-color: #E2EBFA;\n",
              "      --hover-fill-color: #174EA6;\n",
              "      --disabled-fill-color: #AAA;\n",
              "      --disabled-bg-color: #DDD;\n",
              "  }\n",
              "\n",
              "  [theme=dark] .colab-df-quickchart {\n",
              "      --bg-color: #3B4455;\n",
              "      --fill-color: #D2E3FC;\n",
              "      --hover-bg-color: #434B5C;\n",
              "      --hover-fill-color: #FFFFFF;\n",
              "      --disabled-bg-color: #3B4455;\n",
              "      --disabled-fill-color: #666;\n",
              "  }\n",
              "\n",
              "  .colab-df-quickchart {\n",
              "    background-color: var(--bg-color);\n",
              "    border: none;\n",
              "    border-radius: 50%;\n",
              "    cursor: pointer;\n",
              "    display: none;\n",
              "    fill: var(--fill-color);\n",
              "    height: 32px;\n",
              "    padding: 0;\n",
              "    width: 32px;\n",
              "  }\n",
              "\n",
              "  .colab-df-quickchart:hover {\n",
              "    background-color: var(--hover-bg-color);\n",
              "    box-shadow: 0 1px 2px rgba(60, 64, 67, 0.3), 0 1px 3px 1px rgba(60, 64, 67, 0.15);\n",
              "    fill: var(--button-hover-fill-color);\n",
              "  }\n",
              "\n",
              "  .colab-df-quickchart-complete:disabled,\n",
              "  .colab-df-quickchart-complete:disabled:hover {\n",
              "    background-color: var(--disabled-bg-color);\n",
              "    fill: var(--disabled-fill-color);\n",
              "    box-shadow: none;\n",
              "  }\n",
              "\n",
              "  .colab-df-spinner {\n",
              "    border: 2px solid var(--fill-color);\n",
              "    border-color: transparent;\n",
              "    border-bottom-color: var(--fill-color);\n",
              "    animation:\n",
              "      spin 1s steps(1) infinite;\n",
              "  }\n",
              "\n",
              "  @keyframes spin {\n",
              "    0% {\n",
              "      border-color: transparent;\n",
              "      border-bottom-color: var(--fill-color);\n",
              "      border-left-color: var(--fill-color);\n",
              "    }\n",
              "    20% {\n",
              "      border-color: transparent;\n",
              "      border-left-color: var(--fill-color);\n",
              "      border-top-color: var(--fill-color);\n",
              "    }\n",
              "    30% {\n",
              "      border-color: transparent;\n",
              "      border-left-color: var(--fill-color);\n",
              "      border-top-color: var(--fill-color);\n",
              "      border-right-color: var(--fill-color);\n",
              "    }\n",
              "    40% {\n",
              "      border-color: transparent;\n",
              "      border-right-color: var(--fill-color);\n",
              "      border-top-color: var(--fill-color);\n",
              "    }\n",
              "    60% {\n",
              "      border-color: transparent;\n",
              "      border-right-color: var(--fill-color);\n",
              "    }\n",
              "    80% {\n",
              "      border-color: transparent;\n",
              "      border-right-color: var(--fill-color);\n",
              "      border-bottom-color: var(--fill-color);\n",
              "    }\n",
              "    90% {\n",
              "      border-color: transparent;\n",
              "      border-bottom-color: var(--fill-color);\n",
              "    }\n",
              "  }\n",
              "</style>\n",
              "\n",
              "  <script>\n",
              "    async function quickchart(key) {\n",
              "      const quickchartButtonEl =\n",
              "        document.querySelector('#' + key + ' button');\n",
              "      quickchartButtonEl.disabled = true;  // To prevent multiple clicks.\n",
              "      quickchartButtonEl.classList.add('colab-df-spinner');\n",
              "      try {\n",
              "        const charts = await google.colab.kernel.invokeFunction(\n",
              "            'suggestCharts', [key], {});\n",
              "      } catch (error) {\n",
              "        console.error('Error during call to suggestCharts:', error);\n",
              "      }\n",
              "      quickchartButtonEl.classList.remove('colab-df-spinner');\n",
              "      quickchartButtonEl.classList.add('colab-df-quickchart-complete');\n",
              "    }\n",
              "    (() => {\n",
              "      let quickchartButtonEl =\n",
              "        document.querySelector('#df-52719342-ad77-476c-abe6-57d2815c1585 button');\n",
              "      quickchartButtonEl.style.display =\n",
              "        google.colab.kernel.accessAllowed ? 'block' : 'none';\n",
              "    })();\n",
              "  </script>\n",
              "</div>\n",
              "    </div>\n",
              "  </div>\n"
            ],
            "application/vnd.google.colaboratory.intrinsic+json": {
              "type": "dataframe",
              "variable_name": "RMF_data"
            }
          },
          "metadata": {},
          "execution_count": 47
        }
      ]
    },
    {
      "cell_type": "code",
      "source": [
        "# difference between maximum and minimum date\n",
        "RMF_data['TransactionDate'].max()-RMF_data['TransactionDate'].min()"
      ],
      "metadata": {
        "execution": {
          "iopub.status.busy": "2024-03-27T06:27:50.156549Z",
          "iopub.status.idle": "2024-03-27T06:27:50.156921Z",
          "shell.execute_reply.started": "2024-03-27T06:27:50.156746Z",
          "shell.execute_reply": "2024-03-27T06:27:50.156764Z"
        },
        "trusted": true,
        "colab": {
          "base_uri": "https://localhost:8080/"
        },
        "id": "ipqa2hY7n_5v",
        "outputId": "b6861c79-4449-4a09-cb15-01219b9227a7"
      },
      "execution_count": null,
      "outputs": [
        {
          "output_type": "execute_result",
          "data": {
            "text/plain": [
              "Timedelta('336 days 00:00:00')"
            ]
          },
          "metadata": {},
          "execution_count": 48
        }
      ]
    },
    {
      "cell_type": "code",
      "source": [
        "RMF_data=RMF_data.sort_values(by='TransactionDate')\n",
        "groupbby_month=RMF_data.groupby([pd.Grouper(key='TransactionDate',freq='M')]).mean()\n",
        "print(groupbby_month.shape)\n",
        "groupbby_month"
      ],
      "metadata": {
        "execution": {
          "iopub.status.busy": "2024-03-27T06:27:50.158390Z",
          "iopub.status.idle": "2024-03-27T06:27:50.158796Z",
          "shell.execute_reply.started": "2024-03-27T06:27:50.158618Z",
          "shell.execute_reply": "2024-03-27T06:27:50.158636Z"
        },
        "trusted": true,
        "id": "9N2XizYcn_5v"
      },
      "execution_count": null,
      "outputs": []
    },
    {
      "cell_type": "code",
      "source": [
        "plt.style.use(\"fivethirtyeight\")\n",
        "fig,ax=plt.subplots(ncols=2,nrows=1,figsize=(15,5))\n",
        "ax[0].plot(groupbby_month.index,groupbby_month['CustAccountBalance'],color='purple',marker='o',label='Customer Account Balance')\n",
        "ax[0].set_title('Cust Account Balance Over The Time')\n",
        "ax[1].plot(groupbby_month.index,groupbby_month['TransactionAmount (INR)'],color='purple',marker='o',label='Transaction Amount (INR)')\n",
        "ax[1].set_title(\"Transaction Amount(INR) Over The Time\")\n",
        "plt.legend()"
      ],
      "metadata": {
        "execution": {
          "iopub.status.busy": "2024-03-27T06:27:50.159928Z",
          "iopub.status.idle": "2024-03-27T06:27:50.160308Z",
          "shell.execute_reply.started": "2024-03-27T06:27:50.160128Z",
          "shell.execute_reply": "2024-03-27T06:27:50.160146Z"
        },
        "trusted": true,
        "colab": {
          "base_uri": "https://localhost:8080/",
          "height": 495
        },
        "id": "BI6kK8X9n_5w",
        "outputId": "79b97acb-f23b-4c1d-f7af-cd118b401101"
      },
      "execution_count": null,
      "outputs": [
        {
          "output_type": "execute_result",
          "data": {
            "text/plain": [
              "<matplotlib.legend.Legend at 0x7dc41a6a6dd0>"
            ]
          },
          "metadata": {},
          "execution_count": 50
        },
        {
          "output_type": "display_data",
          "data": {
            "text/plain": [
              "<Figure size 1500x500 with 2 Axes>"
            ],
            "image/png": "[encoded data removed]"
          },
          "metadata": {}
        }
      ]
    },
    {
      "cell_type": "markdown",
      "source": [
        "## Feature Engineering"
      ],
      "metadata": {
        "id": "vGFLgwjGn_5w"
      }
    },
    {
      "cell_type": "code",
      "source": [
        "RMF_data.reset_index(drop=True, inplace = True)\n",
        "RMF_data.head()"
      ],
      "metadata": {
        "execution": {
          "iopub.status.busy": "2024-03-27T06:27:50.161195Z",
          "iopub.status.idle": "2024-03-27T06:27:50.161609Z",
          "shell.execute_reply.started": "2024-03-27T06:27:50.161392Z",
          "shell.execute_reply": "2024-03-27T06:27:50.161430Z"
        },
        "trusted": true,
        "colab": {
          "base_uri": "https://localhost:8080/",
          "height": 204
        },
        "id": "-LVqLKfWn_5w",
        "outputId": "42d4917f-399d-40a5-8424-abee86cc5a96"
      },
      "execution_count": null,
      "outputs": [
        {
          "output_type": "execute_result",
          "data": {
            "text/plain": [
              "   Frequency CustGender CustLocation  CustAccountBalance  \\\n",
              "0          1          M      CHENNAI               32.44   \n",
              "1          1          M    NIZAMABAD            11397.78   \n",
              "2          1          M      GURGAON           138758.81   \n",
              "3          1          M    GHAZIABAD           116015.93   \n",
              "4          1          F      NOWGAON              520.93   \n",
              "\n",
              "   TransactionAmount (INR)  CustomerAge TransactionDate  Recency  \n",
              "0                    20.00           27      2016-01-08        1  \n",
              "1                  1000.00           45      2016-01-08        1  \n",
              "2                   300.00           33      2016-01-08        1  \n",
              "3                   346.00           24      2016-01-08        1  \n",
              "4                   840.62           23      2016-01-08        1  "
            ],
            "text/html": [
              "\n",
              "  <div id=\"df-82355a79-811b-41e2-9d9b-b9c532e5232c\" class=\"colab-df-container\">\n",
              "    <div>\n",
              "<style scoped>\n",
              "    .dataframe tbody tr th:only-of-type {\n",
              "        vertical-align: middle;\n",
              "    }\n",
              "\n",
              "    .dataframe tbody tr th {\n",
              "        vertical-align: top;\n",
              "    }\n",
              "\n",
              "    .dataframe thead th {\n",
              "        text-align: right;\n",
              "    }\n",
              "</style>\n",
              "<table border=\"1\" class=\"dataframe\">\n",
              "  <thead>\n",
              "    <tr style=\"text-align: right;\">\n",
              "      <th></th>\n",
              "      <th>Frequency</th>\n",
              "      <th>CustGender</th>\n",
              "      <th>CustLocation</th>\n",
              "      <th>CustAccountBalance</th>\n",
              "      <th>TransactionAmount (INR)</th>\n",
              "      <th>CustomerAge</th>\n",
              "      <th>TransactionDate</th>\n",
              "      <th>Recency</th>\n",
              "    </tr>\n",
              "  </thead>\n",
              "  <tbody>\n",
              "    <tr>\n",
              "      <th>0</th>\n",
              "      <td>1</td>\n",
              "      <td>M</td>\n",
              "      <td>CHENNAI</td>\n",
              "      <td>32.44</td>\n",
              "      <td>20.00</td>\n",
              "      <td>27</td>\n",
              "      <td>2016-01-08</td>\n",
              "      <td>1</td>\n",
              "    </tr>\n",
              "    <tr>\n",
              "      <th>1</th>\n",
              "      <td>1</td>\n",
              "      <td>M</td>\n",
              "      <td>NIZAMABAD</td>\n",
              "      <td>11397.78</td>\n",
              "      <td>1000.00</td>\n",
              "      <td>45</td>\n",
              "      <td>2016-01-08</td>\n",
              "      <td>1</td>\n",
              "    </tr>\n",
              "    <tr>\n",
              "      <th>2</th>\n",
              "      <td>1</td>\n",
              "      <td>M</td>\n",
              "      <td>GURGAON</td>\n",
              "      <td>138758.81</td>\n",
              "      <td>300.00</td>\n",
              "      <td>33</td>\n",
              "      <td>2016-01-08</td>\n",
              "      <td>1</td>\n",
              "    </tr>\n",
              "    <tr>\n",
              "      <th>3</th>\n",
              "      <td>1</td>\n",
              "      <td>M</td>\n",
              "      <td>GHAZIABAD</td>\n",
              "      <td>116015.93</td>\n",
              "      <td>346.00</td>\n",
              "      <td>24</td>\n",
              "      <td>2016-01-08</td>\n",
              "      <td>1</td>\n",
              "    </tr>\n",
              "    <tr>\n",
              "      <th>4</th>\n",
              "      <td>1</td>\n",
              "      <td>F</td>\n",
              "      <td>NOWGAON</td>\n",
              "      <td>520.93</td>\n",
              "      <td>840.62</td>\n",
              "      <td>23</td>\n",
              "      <td>2016-01-08</td>\n",
              "      <td>1</td>\n",
              "    </tr>\n",
              "  </tbody>\n",
              "</table>\n",
              "</div>\n",
              "    <div class=\"colab-df-buttons\">\n",
              "\n",
              "  <div class=\"colab-df-container\">\n",
              "    <button class=\"colab-df-convert\" onclick=\"convertToInteractive('df-82355a79-811b-41e2-9d9b-b9c532e5232c')\"\n",
              "            title=\"Convert this dataframe to an interactive table.\"\n",
              "            style=\"display:none;\">\n",
              "\n",
              "  <svg xmlns=\"http://www.w3.org/2000/svg\" height=\"24px\" viewBox=\"0 -960 960 960\">\n",
              "    <path d=\"M120-120v-720h720v720H120Zm60-500h600v-160H180v160Zm220 220h160v-160H400v160Zm0 220h160v-160H400v160ZM180-400h160v-160H180v160Zm440 0h160v-160H620v160ZM180-180h160v-160H180v160Zm440 0h160v-160H620v160Z\"/>\n",
              "  </svg>\n",
              "    </button>\n",
              "\n",
              "  <style>\n",
              "    .colab-df-container {\n",
              "      display:flex;\n",
              "      gap: 12px;\n",
              "    }\n",
              "\n",
              "    .colab-df-convert {\n",
              "      background-color: #E8F0FE;\n",
              "      border: none;\n",
              "      border-radius: 50%;\n",
              "      cursor: pointer;\n",
              "      display: none;\n",
              "      fill: #1967D2;\n",
              "      height: 32px;\n",
              "      padding: 0 0 0 0;\n",
              "      width: 32px;\n",
              "    }\n",
              "\n",
              "    .colab-df-convert:hover {\n",
              "      background-color: #E2EBFA;\n",
              "      box-shadow: 0px 1px 2px rgba(60, 64, 67, 0.3), 0px 1px 3px 1px rgba(60, 64, 67, 0.15);\n",
              "      fill: #174EA6;\n",
              "    }\n",
              "\n",
              "    .colab-df-buttons div {\n",
              "      margin-bottom: 4px;\n",
              "    }\n",
              "\n",
              "    [theme=dark] .colab-df-convert {\n",
              "      background-color: #3B4455;\n",
              "      fill: #D2E3FC;\n",
              "    }\n",
              "\n",
              "    [theme=dark] .colab-df-convert:hover {\n",
              "      background-color: #434B5C;\n",
              "      box-shadow: 0px 1px 3px 1px rgba(0, 0, 0, 0.15);\n",
              "      filter: drop-shadow(0px 1px 2px rgba(0, 0, 0, 0.3));\n",
              "      fill: #FFFFFF;\n",
              "    }\n",
              "  </style>\n",
              "\n",
              "    <script>\n",
              "      const buttonEl =\n",
              "        document.querySelector('#df-82355a79-811b-41e2-9d9b-b9c532e5232c button.colab-df-convert');\n",
              "      buttonEl.style.display =\n",
              "        google.colab.kernel.accessAllowed ? 'block' : 'none';\n",
              "\n",
              "      async function convertToInteractive(key) {\n",
              "        const element = document.querySelector('#df-82355a79-811b-41e2-9d9b-b9c532e5232c');\n",
              "        const dataTable =\n",
              "          await google.colab.kernel.invokeFunction('convertToInteractive',\n",
              "                                                    [key], {});\n",
              "        if (!dataTable) return;\n",
              "\n",
              "        const docLinkHtml = 'Like what you see? Visit the ' +\n",
              "          '<a target=\"_blank\" href=https://colab.research.google.com/notebooks/data_table.ipynb>data table notebook</a>'\n",
              "          + ' to learn more about interactive tables.';\n",
              "        element.innerHTML = '';\n",
              "        dataTable['output_type'] = 'display_data';\n",
              "        await google.colab.output.renderOutput(dataTable, element);\n",
              "        const docLink = document.createElement('div');\n",
              "        docLink.innerHTML = docLinkHtml;\n",
              "        element.appendChild(docLink);\n",
              "      }\n",
              "    </script>\n",
              "  </div>\n",
              "\n",
              "\n",
              "<div id=\"df-c6b59b79-7985-49ec-b445-134fb7e95168\">\n",
              "  <button class=\"colab-df-quickchart\" onclick=\"quickchart('df-c6b59b79-7985-49ec-b445-134fb7e95168')\"\n",
              "            title=\"Suggest charts\"\n",
              "            style=\"display:none;\">\n",
              "\n",
              "<svg xmlns=\"http://www.w3.org/2000/svg\" height=\"24px\"viewBox=\"0 0 24 24\"\n",
              "     width=\"24px\">\n",
              "    <g>\n",
              "        <path d=\"M19 3H5c-1.1 0-2 .9-2 2v14c0 1.1.9 2 2 2h14c1.1 0 2-.9 2-2V5c0-1.1-.9-2-2-2zM9 17H7v-7h2v7zm4 0h-2V7h2v10zm4 0h-2v-4h2v4z\"/>\n",
              "    </g>\n",
              "</svg>\n",
              "  </button>\n",
              "\n",
              "<style>\n",
              "  .colab-df-quickchart {\n",
              "      --bg-color: #E8F0FE;\n",
              "      --fill-color: #1967D2;\n",
              "      --hover-bg-color: #E2EBFA;\n",
              "      --hover-fill-color: #174EA6;\n",
              "      --disabled-fill-color: #AAA;\n",
              "      --disabled-bg-color: #DDD;\n",
              "  }\n",
              "\n",
              "  [theme=dark] .colab-df-quickchart {\n",
              "      --bg-color: #3B4455;\n",
              "      --fill-color: #D2E3FC;\n",
              "      --hover-bg-color: #434B5C;\n",
              "      --hover-fill-color: #FFFFFF;\n",
              "      --disabled-bg-color: #3B4455;\n",
              "      --disabled-fill-color: #666;\n",
              "  }\n",
              "\n",
              "  .colab-df-quickchart {\n",
              "    background-color: var(--bg-color);\n",
              "    border: none;\n",
              "    border-radius: 50%;\n",
              "    cursor: pointer;\n",
              "    display: none;\n",
              "    fill: var(--fill-color);\n",
              "    height: 32px;\n",
              "    padding: 0;\n",
              "    width: 32px;\n",
              "  }\n",
              "\n",
              "  .colab-df-quickchart:hover {\n",
              "    background-color: var(--hover-bg-color);\n",
              "    box-shadow: 0 1px 2px rgba(60, 64, 67, 0.3), 0 1px 3px 1px rgba(60, 64, 67, 0.15);\n",
              "    fill: var(--button-hover-fill-color);\n",
              "  }\n",
              "\n",
              "  .colab-df-quickchart-complete:disabled,\n",
              "  .colab-df-quickchart-complete:disabled:hover {\n",
              "    background-color: var(--disabled-bg-color);\n",
              "    fill: var(--disabled-fill-color);\n",
              "    box-shadow: none;\n",
              "  }\n",
              "\n",
              "  .colab-df-spinner {\n",
              "    border: 2px solid var(--fill-color);\n",
              "    border-color: transparent;\n",
              "    border-bottom-color: var(--fill-color);\n",
              "    animation:\n",
              "      spin 1s steps(1) infinite;\n",
              "  }\n",
              "\n",
              "  @keyframes spin {\n",
              "    0% {\n",
              "      border-color: transparent;\n",
              "      border-bottom-color: var(--fill-color);\n",
              "      border-left-color: var(--fill-color);\n",
              "    }\n",
              "    20% {\n",
              "      border-color: transparent;\n",
              "      border-left-color: var(--fill-color);\n",
              "      border-top-color: var(--fill-color);\n",
              "    }\n",
              "    30% {\n",
              "      border-color: transparent;\n",
              "      border-left-color: var(--fill-color);\n",
              "      border-top-color: var(--fill-color);\n",
              "      border-right-color: var(--fill-color);\n",
              "    }\n",
              "    40% {\n",
              "      border-color: transparent;\n",
              "      border-right-color: var(--fill-color);\n",
              "      border-top-color: var(--fill-color);\n",
              "    }\n",
              "    60% {\n",
              "      border-color: transparent;\n",
              "      border-right-color: var(--fill-color);\n",
              "    }\n",
              "    80% {\n",
              "      border-color: transparent;\n",
              "      border-right-color: var(--fill-color);\n",
              "      border-bottom-color: var(--fill-color);\n",
              "    }\n",
              "    90% {\n",
              "      border-color: transparent;\n",
              "      border-bottom-color: var(--fill-color);\n",
              "    }\n",
              "  }\n",
              "</style>\n",
              "\n",
              "  <script>\n",
              "    async function quickchart(key) {\n",
              "      const quickchartButtonEl =\n",
              "        document.querySelector('#' + key + ' button');\n",
              "      quickchartButtonEl.disabled = true;  // To prevent multiple clicks.\n",
              "      quickchartButtonEl.classList.add('colab-df-spinner');\n",
              "      try {\n",
              "        const charts = await google.colab.kernel.invokeFunction(\n",
              "            'suggestCharts', [key], {});\n",
              "      } catch (error) {\n",
              "        console.error('Error during call to suggestCharts:', error);\n",
              "      }\n",
              "      quickchartButtonEl.classList.remove('colab-df-spinner');\n",
              "      quickchartButtonEl.classList.add('colab-df-quickchart-complete');\n",
              "    }\n",
              "    (() => {\n",
              "      let quickchartButtonEl =\n",
              "        document.querySelector('#df-c6b59b79-7985-49ec-b445-134fb7e95168 button');\n",
              "      quickchartButtonEl.style.display =\n",
              "        google.colab.kernel.accessAllowed ? 'block' : 'none';\n",
              "    })();\n",
              "  </script>\n",
              "</div>\n",
              "    </div>\n",
              "  </div>\n"
            ],
            "application/vnd.google.colaboratory.intrinsic+json": {
              "type": "dataframe",
              "variable_name": "RMF_data"
            }
          },
          "metadata": {},
          "execution_count": 51
        }
      ]
    },
    {
      "cell_type": "code",
      "source": [
        "RMF_data.drop(columns=['CustLocation','TransactionDate'],inplace=True)\n",
        "RMF_data['CustGender']=RMF_data['CustGender'].map({'M':1,'F':0})\n",
        "print(RMF_data.shape)"
      ],
      "metadata": {
        "execution": {
          "iopub.status.busy": "2024-03-27T06:27:50.163065Z",
          "iopub.status.idle": "2024-03-27T06:27:50.163498Z",
          "shell.execute_reply.started": "2024-03-27T06:27:50.163276Z",
          "shell.execute_reply": "2024-03-27T06:27:50.163294Z"
        },
        "trusted": true,
        "colab": {
          "base_uri": "https://localhost:8080/"
        },
        "id": "FHn4uJPPn_5w",
        "outputId": "0ddbf3e2-9db6-44c1-cee2-62bc954d1ab1"
      },
      "execution_count": null,
      "outputs": [
        {
          "output_type": "stream",
          "name": "stdout",
          "text": [
            "(784947, 6)\n"
          ]
        }
      ]
    },
    {
      "cell_type": "code",
      "source": [
        "RMF_data.head()"
      ],
      "metadata": {
        "execution": {
          "iopub.status.busy": "2024-03-27T06:27:50.165001Z",
          "iopub.status.idle": "2024-03-27T06:27:50.165383Z",
          "shell.execute_reply.started": "2024-03-27T06:27:50.165196Z",
          "shell.execute_reply": "2024-03-27T06:27:50.165214Z"
        },
        "trusted": true,
        "colab": {
          "base_uri": "https://localhost:8080/",
          "height": 204
        },
        "id": "lDsVDCHhn_5w",
        "outputId": "66c07222-6429-44bf-fae2-7508a6e8b382"
      },
      "execution_count": null,
      "outputs": [
        {
          "output_type": "execute_result",
          "data": {
            "text/plain": [
              "   Frequency  CustGender  CustAccountBalance  TransactionAmount (INR)  \\\n",
              "0          1           1               32.44                    20.00   \n",
              "1          1           1            11397.78                  1000.00   \n",
              "2          1           1           138758.81                   300.00   \n",
              "3          1           1           116015.93                   346.00   \n",
              "4          1           0              520.93                   840.62   \n",
              "\n",
              "   CustomerAge  Recency  \n",
              "0           27        1  \n",
              "1           45        1  \n",
              "2           33        1  \n",
              "3           24        1  \n",
              "4           23        1  "
            ],
            "text/html": [
              "\n",
              "  <div id=\"df-c5808733-9423-47d5-9905-1fbd16d4efbe\" class=\"colab-df-container\">\n",
              "    <div>\n",
              "<style scoped>\n",
              "    .dataframe tbody tr th:only-of-type {\n",
              "        vertical-align: middle;\n",
              "    }\n",
              "\n",
              "    .dataframe tbody tr th {\n",
              "        vertical-align: top;\n",
              "    }\n",
              "\n",
              "    .dataframe thead th {\n",
              "        text-align: right;\n",
              "    }\n",
              "</style>\n",
              "<table border=\"1\" class=\"dataframe\">\n",
              "  <thead>\n",
              "    <tr style=\"text-align: right;\">\n",
              "      <th></th>\n",
              "      <th>Frequency</th>\n",
              "      <th>CustGender</th>\n",
              "      <th>CustAccountBalance</th>\n",
              "      <th>TransactionAmount (INR)</th>\n",
              "      <th>CustomerAge</th>\n",
              "      <th>Recency</th>\n",
              "    </tr>\n",
              "  </thead>\n",
              "  <tbody>\n",
              "    <tr>\n",
              "      <th>0</th>\n",
              "      <td>1</td>\n",
              "      <td>1</td>\n",
              "      <td>32.44</td>\n",
              "      <td>20.00</td>\n",
              "      <td>27</td>\n",
              "      <td>1</td>\n",
              "    </tr>\n",
              "    <tr>\n",
              "      <th>1</th>\n",
              "      <td>1</td>\n",
              "      <td>1</td>\n",
              "      <td>11397.78</td>\n",
              "      <td>1000.00</td>\n",
              "      <td>45</td>\n",
              "      <td>1</td>\n",
              "    </tr>\n",
              "    <tr>\n",
              "      <th>2</th>\n",
              "      <td>1</td>\n",
              "      <td>1</td>\n",
              "      <td>138758.81</td>\n",
              "      <td>300.00</td>\n",
              "      <td>33</td>\n",
              "      <td>1</td>\n",
              "    </tr>\n",
              "    <tr>\n",
              "      <th>3</th>\n",
              "      <td>1</td>\n",
              "      <td>1</td>\n",
              "      <td>116015.93</td>\n",
              "      <td>346.00</td>\n",
              "      <td>24</td>\n",
              "      <td>1</td>\n",
              "    </tr>\n",
              "    <tr>\n",
              "      <th>4</th>\n",
              "      <td>1</td>\n",
              "      <td>0</td>\n",
              "      <td>520.93</td>\n",
              "      <td>840.62</td>\n",
              "      <td>23</td>\n",
              "      <td>1</td>\n",
              "    </tr>\n",
              "  </tbody>\n",
              "</table>\n",
              "</div>\n",
              "    <div class=\"colab-df-buttons\">\n",
              "\n",
              "  <div class=\"colab-df-container\">\n",
              "    <button class=\"colab-df-convert\" onclick=\"convertToInteractive('df-c5808733-9423-47d5-9905-1fbd16d4efbe')\"\n",
              "            title=\"Convert this dataframe to an interactive table.\"\n",
              "            style=\"display:none;\">\n",
              "\n",
              "  <svg xmlns=\"http://www.w3.org/2000/svg\" height=\"24px\" viewBox=\"0 -960 960 960\">\n",
              "    <path d=\"M120-120v-720h720v720H120Zm60-500h600v-160H180v160Zm220 220h160v-160H400v160Zm0 220h160v-160H400v160ZM180-400h160v-160H180v160Zm440 0h160v-160H620v160ZM180-180h160v-160H180v160Zm440 0h160v-160H620v160Z\"/>\n",
              "  </svg>\n",
              "    </button>\n",
              "\n",
              "  <style>\n",
              "    .colab-df-container {\n",
              "      display:flex;\n",
              "      gap: 12px;\n",
              "    }\n",
              "\n",
              "    .colab-df-convert {\n",
              "      background-color: #E8F0FE;\n",
              "      border: none;\n",
              "      border-radius: 50%;\n",
              "      cursor: pointer;\n",
              "      display: none;\n",
              "      fill: #1967D2;\n",
              "      height: 32px;\n",
              "      padding: 0 0 0 0;\n",
              "      width: 32px;\n",
              "    }\n",
              "\n",
              "    .colab-df-convert:hover {\n",
              "      background-color: #E2EBFA;\n",
              "      box-shadow: 0px 1px 2px rgba(60, 64, 67, 0.3), 0px 1px 3px 1px rgba(60, 64, 67, 0.15);\n",
              "      fill: #174EA6;\n",
              "    }\n",
              "\n",
              "    .colab-df-buttons div {\n",
              "      margin-bottom: 4px;\n",
              "    }\n",
              "\n",
              "    [theme=dark] .colab-df-convert {\n",
              "      background-color: #3B4455;\n",
              "      fill: #D2E3FC;\n",
              "    }\n",
              "\n",
              "    [theme=dark] .colab-df-convert:hover {\n",
              "      background-color: #434B5C;\n",
              "      box-shadow: 0px 1px 3px 1px rgba(0, 0, 0, 0.15);\n",
              "      filter: drop-shadow(0px 1px 2px rgba(0, 0, 0, 0.3));\n",
              "      fill: #FFFFFF;\n",
              "    }\n",
              "  </style>\n",
              "\n",
              "    <script>\n",
              "      const buttonEl =\n",
              "        document.querySelector('#df-c5808733-9423-47d5-9905-1fbd16d4efbe button.colab-df-convert');\n",
              "      buttonEl.style.display =\n",
              "        google.colab.kernel.accessAllowed ? 'block' : 'none';\n",
              "\n",
              "      async function convertToInteractive(key) {\n",
              "        const element = document.querySelector('#df-c5808733-9423-47d5-9905-1fbd16d4efbe');\n",
              "        const dataTable =\n",
              "          await google.colab.kernel.invokeFunction('convertToInteractive',\n",
              "                                                    [key], {});\n",
              "        if (!dataTable) return;\n",
              "\n",
              "        const docLinkHtml = 'Like what you see? Visit the ' +\n",
              "          '<a target=\"_blank\" href=https://colab.research.google.com/notebooks/data_table.ipynb>data table notebook</a>'\n",
              "          + ' to learn more about interactive tables.';\n",
              "        element.innerHTML = '';\n",
              "        dataTable['output_type'] = 'display_data';\n",
              "        await google.colab.output.renderOutput(dataTable, element);\n",
              "        const docLink = document.createElement('div');\n",
              "        docLink.innerHTML = docLinkHtml;\n",
              "        element.appendChild(docLink);\n",
              "      }\n",
              "    </script>\n",
              "  </div>\n",
              "\n",
              "\n",
              "<div id=\"df-63129b07-4d6a-4502-8766-8c3e41284ea9\">\n",
              "  <button class=\"colab-df-quickchart\" onclick=\"quickchart('df-63129b07-4d6a-4502-8766-8c3e41284ea9')\"\n",
              "            title=\"Suggest charts\"\n",
              "            style=\"display:none;\">\n",
              "\n",
              "<svg xmlns=\"http://www.w3.org/2000/svg\" height=\"24px\"viewBox=\"0 0 24 24\"\n",
              "     width=\"24px\">\n",
              "    <g>\n",
              "        <path d=\"M19 3H5c-1.1 0-2 .9-2 2v14c0 1.1.9 2 2 2h14c1.1 0 2-.9 2-2V5c0-1.1-.9-2-2-2zM9 17H7v-7h2v7zm4 0h-2V7h2v10zm4 0h-2v-4h2v4z\"/>\n",
              "    </g>\n",
              "</svg>\n",
              "  </button>\n",
              "\n",
              "<style>\n",
              "  .colab-df-quickchart {\n",
              "      --bg-color: #E8F0FE;\n",
              "      --fill-color: #1967D2;\n",
              "      --hover-bg-color: #E2EBFA;\n",
              "      --hover-fill-color: #174EA6;\n",
              "      --disabled-fill-color: #AAA;\n",
              "      --disabled-bg-color: #DDD;\n",
              "  }\n",
              "\n",
              "  [theme=dark] .colab-df-quickchart {\n",
              "      --bg-color: #3B4455;\n",
              "      --fill-color: #D2E3FC;\n",
              "      --hover-bg-color: #434B5C;\n",
              "      --hover-fill-color: #FFFFFF;\n",
              "      --disabled-bg-color: #3B4455;\n",
              "      --disabled-fill-color: #666;\n",
              "  }\n",
              "\n",
              "  .colab-df-quickchart {\n",
              "    background-color: var(--bg-color);\n",
              "    border: none;\n",
              "    border-radius: 50%;\n",
              "    cursor: pointer;\n",
              "    display: none;\n",
              "    fill: var(--fill-color);\n",
              "    height: 32px;\n",
              "    padding: 0;\n",
              "    width: 32px;\n",
              "  }\n",
              "\n",
              "  .colab-df-quickchart:hover {\n",
              "    background-color: var(--hover-bg-color);\n",
              "    box-shadow: 0 1px 2px rgba(60, 64, 67, 0.3), 0 1px 3px 1px rgba(60, 64, 67, 0.15);\n",
              "    fill: var(--button-hover-fill-color);\n",
              "  }\n",
              "\n",
              "  .colab-df-quickchart-complete:disabled,\n",
              "  .colab-df-quickchart-complete:disabled:hover {\n",
              "    background-color: var(--disabled-bg-color);\n",
              "    fill: var(--disabled-fill-color);\n",
              "    box-shadow: none;\n",
              "  }\n",
              "\n",
              "  .colab-df-spinner {\n",
              "    border: 2px solid var(--fill-color);\n",
              "    border-color: transparent;\n",
              "    border-bottom-color: var(--fill-color);\n",
              "    animation:\n",
              "      spin 1s steps(1) infinite;\n",
              "  }\n",
              "\n",
              "  @keyframes spin {\n",
              "    0% {\n",
              "      border-color: transparent;\n",
              "      border-bottom-color: var(--fill-color);\n",
              "      border-left-color: var(--fill-color);\n",
              "    }\n",
              "    20% {\n",
              "      border-color: transparent;\n",
              "      border-left-color: var(--fill-color);\n",
              "      border-top-color: var(--fill-color);\n",
              "    }\n",
              "    30% {\n",
              "      border-color: transparent;\n",
              "      border-left-color: var(--fill-color);\n",
              "      border-top-color: var(--fill-color);\n",
              "      border-right-color: var(--fill-color);\n",
              "    }\n",
              "    40% {\n",
              "      border-color: transparent;\n",
              "      border-right-color: var(--fill-color);\n",
              "      border-top-color: var(--fill-color);\n",
              "    }\n",
              "    60% {\n",
              "      border-color: transparent;\n",
              "      border-right-color: var(--fill-color);\n",
              "    }\n",
              "    80% {\n",
              "      border-color: transparent;\n",
              "      border-right-color: var(--fill-color);\n",
              "      border-bottom-color: var(--fill-color);\n",
              "    }\n",
              "    90% {\n",
              "      border-color: transparent;\n",
              "      border-bottom-color: var(--fill-color);\n",
              "    }\n",
              "  }\n",
              "</style>\n",
              "\n",
              "  <script>\n",
              "    async function quickchart(key) {\n",
              "      const quickchartButtonEl =\n",
              "        document.querySelector('#' + key + ' button');\n",
              "      quickchartButtonEl.disabled = true;  // To prevent multiple clicks.\n",
              "      quickchartButtonEl.classList.add('colab-df-spinner');\n",
              "      try {\n",
              "        const charts = await google.colab.kernel.invokeFunction(\n",
              "            'suggestCharts', [key], {});\n",
              "      } catch (error) {\n",
              "        console.error('Error during call to suggestCharts:', error);\n",
              "      }\n",
              "      quickchartButtonEl.classList.remove('colab-df-spinner');\n",
              "      quickchartButtonEl.classList.add('colab-df-quickchart-complete');\n",
              "    }\n",
              "    (() => {\n",
              "      let quickchartButtonEl =\n",
              "        document.querySelector('#df-63129b07-4d6a-4502-8766-8c3e41284ea9 button');\n",
              "      quickchartButtonEl.style.display =\n",
              "        google.colab.kernel.accessAllowed ? 'block' : 'none';\n",
              "    })();\n",
              "  </script>\n",
              "</div>\n",
              "    </div>\n",
              "  </div>\n"
            ],
            "application/vnd.google.colaboratory.intrinsic+json": {
              "type": "dataframe",
              "variable_name": "RMF_data"
            }
          },
          "metadata": {},
          "execution_count": 53
        }
      ]
    },
    {
      "cell_type": "code",
      "source": [
        "minmax = MinMaxScaler()\n",
        "standard_scaler = StandardScaler()\n",
        "RMF_scaled = RMF_data.copy()\n",
        "RMF_scaled[[\"Frequency\", \"CustGender\", \"Recency\"]] = minmax.fit_transform(RMF_data[[\"Frequency\", \"CustGender\", \"Recency\"]])\n",
        "RMF_scaled[[\"CustAccountBalance\", \"TransactionAmount (INR)\", \"CustomerAge\"]] = standard_scaler.fit_transform(RMF_data[[\"CustAccountBalance\", \"TransactionAmount (INR)\", \"CustomerAge\"]])"
      ],
      "metadata": {
        "execution": {
          "iopub.status.busy": "2024-03-27T06:27:50.166767Z",
          "iopub.status.idle": "2024-03-27T06:27:50.168266Z",
          "shell.execute_reply.started": "2024-03-27T06:27:50.168051Z",
          "shell.execute_reply": "2024-03-27T06:27:50.168074Z"
        },
        "trusted": true,
        "id": "UU2hhorbn_5x"
      },
      "execution_count": null,
      "outputs": []
    },
    {
      "cell_type": "code",
      "source": [
        "RMF_scaled.head()"
      ],
      "metadata": {
        "execution": {
          "iopub.status.busy": "2024-03-27T06:27:50.169451Z",
          "iopub.status.idle": "2024-03-27T06:27:50.169878Z",
          "shell.execute_reply.started": "2024-03-27T06:27:50.169698Z",
          "shell.execute_reply": "2024-03-27T06:27:50.169715Z"
        },
        "trusted": true,
        "colab": {
          "base_uri": "https://localhost:8080/",
          "height": 204
        },
        "id": "Uinx1HE3n_5x",
        "outputId": "1dbe127a-b7e4-43f7-9689-aaa6aff5af63"
      },
      "execution_count": null,
      "outputs": [
        {
          "output_type": "execute_result",
          "data": {
            "text/plain": [
              "   Frequency  CustGender  CustAccountBalance  TransactionAmount (INR)  \\\n",
              "0        0.0         1.0           -0.161603                -0.232143   \n",
              "1        0.0         1.0           -0.141464                -0.064441   \n",
              "2        0.0         1.0            0.084222                -0.184228   \n",
              "3        0.0         1.0            0.043921                -0.176356   \n",
              "4        0.0         0.0           -0.160738                -0.091715   \n",
              "\n",
              "   CustomerAge  Recency  \n",
              "0    -0.511594      0.0  \n",
              "1     2.187155      0.0  \n",
              "2     0.387989      0.0  \n",
              "3    -0.961386      0.0  \n",
              "4    -1.111316      0.0  "
            ],
            "text/html": [
              "\n",
              "  <div id=\"df-a11fb2f9-c351-4512-ae24-471452b983d7\" class=\"colab-df-container\">\n",
              "    <div>\n",
              "<style scoped>\n",
              "    .dataframe tbody tr th:only-of-type {\n",
              "        vertical-align: middle;\n",
              "    }\n",
              "\n",
              "    .dataframe tbody tr th {\n",
              "        vertical-align: top;\n",
              "    }\n",
              "\n",
              "    .dataframe thead th {\n",
              "        text-align: right;\n",
              "    }\n",
              "</style>\n",
              "<table border=\"1\" class=\"dataframe\">\n",
              "  <thead>\n",
              "    <tr style=\"text-align: right;\">\n",
              "      <th></th>\n",
              "      <th>Frequency</th>\n",
              "      <th>CustGender</th>\n",
              "      <th>CustAccountBalance</th>\n",
              "      <th>TransactionAmount (INR)</th>\n",
              "      <th>CustomerAge</th>\n",
              "      <th>Recency</th>\n",
              "    </tr>\n",
              "  </thead>\n",
              "  <tbody>\n",
              "    <tr>\n",
              "      <th>0</th>\n",
              "      <td>0.0</td>\n",
              "      <td>1.0</td>\n",
              "      <td>-0.161603</td>\n",
              "      <td>-0.232143</td>\n",
              "      <td>-0.511594</td>\n",
              "      <td>0.0</td>\n",
              "    </tr>\n",
              "    <tr>\n",
              "      <th>1</th>\n",
              "      <td>0.0</td>\n",
              "      <td>1.0</td>\n",
              "      <td>-0.141464</td>\n",
              "      <td>-0.064441</td>\n",
              "      <td>2.187155</td>\n",
              "      <td>0.0</td>\n",
              "    </tr>\n",
              "    <tr>\n",
              "      <th>2</th>\n",
              "      <td>0.0</td>\n",
              "      <td>1.0</td>\n",
              "      <td>0.084222</td>\n",
              "      <td>-0.184228</td>\n",
              "      <td>0.387989</td>\n",
              "      <td>0.0</td>\n",
              "    </tr>\n",
              "    <tr>\n",
              "      <th>3</th>\n",
              "      <td>0.0</td>\n",
              "      <td>1.0</td>\n",
              "      <td>0.043921</td>\n",
              "      <td>-0.176356</td>\n",
              "      <td>-0.961386</td>\n",
              "      <td>0.0</td>\n",
              "    </tr>\n",
              "    <tr>\n",
              "      <th>4</th>\n",
              "      <td>0.0</td>\n",
              "      <td>0.0</td>\n",
              "      <td>-0.160738</td>\n",
              "      <td>-0.091715</td>\n",
              "      <td>-1.111316</td>\n",
              "      <td>0.0</td>\n",
              "    </tr>\n",
              "  </tbody>\n",
              "</table>\n",
              "</div>\n",
              "    <div class=\"colab-df-buttons\">\n",
              "\n",
              "  <div class=\"colab-df-container\">\n",
              "    <button class=\"colab-df-convert\" onclick=\"convertToInteractive('df-a11fb2f9-c351-4512-ae24-471452b983d7')\"\n",
              "            title=\"Convert this dataframe to an interactive table.\"\n",
              "            style=\"display:none;\">\n",
              "\n",
              "  <svg xmlns=\"http://www.w3.org/2000/svg\" height=\"24px\" viewBox=\"0 -960 960 960\">\n",
              "    <path d=\"M120-120v-720h720v720H120Zm60-500h600v-160H180v160Zm220 220h160v-160H400v160Zm0 220h160v-160H400v160ZM180-400h160v-160H180v160Zm440 0h160v-160H620v160ZM180-180h160v-160H180v160Zm440 0h160v-160H620v160Z\"/>\n",
              "  </svg>\n",
              "    </button>\n",
              "\n",
              "  <style>\n",
              "    .colab-df-container {\n",
              "      display:flex;\n",
              "      gap: 12px;\n",
              "    }\n",
              "\n",
              "    .colab-df-convert {\n",
              "      background-color: #E8F0FE;\n",
              "      border: none;\n",
              "      border-radius: 50%;\n",
              "      cursor: pointer;\n",
              "      display: none;\n",
              "      fill: #1967D2;\n",
              "      height: 32px;\n",
              "      padding: 0 0 0 0;\n",
              "      width: 32px;\n",
              "    }\n",
              "\n",
              "    .colab-df-convert:hover {\n",
              "      background-color: #E2EBFA;\n",
              "      box-shadow: 0px 1px 2px rgba(60, 64, 67, 0.3), 0px 1px 3px 1px rgba(60, 64, 67, 0.15);\n",
              "      fill: #174EA6;\n",
              "    }\n",
              "\n",
              "    .colab-df-buttons div {\n",
              "      margin-bottom: 4px;\n",
              "    }\n",
              "\n",
              "    [theme=dark] .colab-df-convert {\n",
              "      background-color: #3B4455;\n",
              "      fill: #D2E3FC;\n",
              "    }\n",
              "\n",
              "    [theme=dark] .colab-df-convert:hover {\n",
              "      background-color: #434B5C;\n",
              "      box-shadow: 0px 1px 3px 1px rgba(0, 0, 0, 0.15);\n",
              "      filter: drop-shadow(0px 1px 2px rgba(0, 0, 0, 0.3));\n",
              "      fill: #FFFFFF;\n",
              "    }\n",
              "  </style>\n",
              "\n",
              "    <script>\n",
              "      const buttonEl =\n",
              "        document.querySelector('#df-a11fb2f9-c351-4512-ae24-471452b983d7 button.colab-df-convert');\n",
              "      buttonEl.style.display =\n",
              "        google.colab.kernel.accessAllowed ? 'block' : 'none';\n",
              "\n",
              "      async function convertToInteractive(key) {\n",
              "        const element = document.querySelector('#df-a11fb2f9-c351-4512-ae24-471452b983d7');\n",
              "        const dataTable =\n",
              "          await google.colab.kernel.invokeFunction('convertToInteractive',\n",
              "                                                    [key], {});\n",
              "        if (!dataTable) return;\n",
              "\n",
              "        const docLinkHtml = 'Like what you see? Visit the ' +\n",
              "          '<a target=\"_blank\" href=https://colab.research.google.com/notebooks/data_table.ipynb>data table notebook</a>'\n",
              "          + ' to learn more about interactive tables.';\n",
              "        element.innerHTML = '';\n",
              "        dataTable['output_type'] = 'display_data';\n",
              "        await google.colab.output.renderOutput(dataTable, element);\n",
              "        const docLink = document.createElement('div');\n",
              "        docLink.innerHTML = docLinkHtml;\n",
              "        element.appendChild(docLink);\n",
              "      }\n",
              "    </script>\n",
              "  </div>\n",
              "\n",
              "\n",
              "<div id=\"df-61ef730e-5cd2-4783-a768-9d9280043008\">\n",
              "  <button class=\"colab-df-quickchart\" onclick=\"quickchart('df-61ef730e-5cd2-4783-a768-9d9280043008')\"\n",
              "            title=\"Suggest charts\"\n",
              "            style=\"display:none;\">\n",
              "\n",
              "<svg xmlns=\"http://www.w3.org/2000/svg\" height=\"24px\"viewBox=\"0 0 24 24\"\n",
              "     width=\"24px\">\n",
              "    <g>\n",
              "        <path d=\"M19 3H5c-1.1 0-2 .9-2 2v14c0 1.1.9 2 2 2h14c1.1 0 2-.9 2-2V5c0-1.1-.9-2-2-2zM9 17H7v-7h2v7zm4 0h-2V7h2v10zm4 0h-2v-4h2v4z\"/>\n",
              "    </g>\n",
              "</svg>\n",
              "  </button>\n",
              "\n",
              "<style>\n",
              "  .colab-df-quickchart {\n",
              "      --bg-color: #E8F0FE;\n",
              "      --fill-color: #1967D2;\n",
              "      --hover-bg-color: #E2EBFA;\n",
              "      --hover-fill-color: #174EA6;\n",
              "      --disabled-fill-color: #AAA;\n",
              "      --disabled-bg-color: #DDD;\n",
              "  }\n",
              "\n",
              "  [theme=dark] .colab-df-quickchart {\n",
              "      --bg-color: #3B4455;\n",
              "      --fill-color: #D2E3FC;\n",
              "      --hover-bg-color: #434B5C;\n",
              "      --hover-fill-color: #FFFFFF;\n",
              "      --disabled-bg-color: #3B4455;\n",
              "      --disabled-fill-color: #666;\n",
              "  }\n",
              "\n",
              "  .colab-df-quickchart {\n",
              "    background-color: var(--bg-color);\n",
              "    border: none;\n",
              "    border-radius: 50%;\n",
              "    cursor: pointer;\n",
              "    display: none;\n",
              "    fill: var(--fill-color);\n",
              "    height: 32px;\n",
              "    padding: 0;\n",
              "    width: 32px;\n",
              "  }\n",
              "\n",
              "  .colab-df-quickchart:hover {\n",
              "    background-color: var(--hover-bg-color);\n",
              "    box-shadow: 0 1px 2px rgba(60, 64, 67, 0.3), 0 1px 3px 1px rgba(60, 64, 67, 0.15);\n",
              "    fill: var(--button-hover-fill-color);\n",
              "  }\n",
              "\n",
              "  .colab-df-quickchart-complete:disabled,\n",
              "  .colab-df-quickchart-complete:disabled:hover {\n",
              "    background-color: var(--disabled-bg-color);\n",
              "    fill: var(--disabled-fill-color);\n",
              "    box-shadow: none;\n",
              "  }\n",
              "\n",
              "  .colab-df-spinner {\n",
              "    border: 2px solid var(--fill-color);\n",
              "    border-color: transparent;\n",
              "    border-bottom-color: var(--fill-color);\n",
              "    animation:\n",
              "      spin 1s steps(1) infinite;\n",
              "  }\n",
              "\n",
              "  @keyframes spin {\n",
              "    0% {\n",
              "      border-color: transparent;\n",
              "      border-bottom-color: var(--fill-color);\n",
              "      border-left-color: var(--fill-color);\n",
              "    }\n",
              "    20% {\n",
              "      border-color: transparent;\n",
              "      border-left-color: var(--fill-color);\n",
              "      border-top-color: var(--fill-color);\n",
              "    }\n",
              "    30% {\n",
              "      border-color: transparent;\n",
              "      border-left-color: var(--fill-color);\n",
              "      border-top-color: var(--fill-color);\n",
              "      border-right-color: var(--fill-color);\n",
              "    }\n",
              "    40% {\n",
              "      border-color: transparent;\n",
              "      border-right-color: var(--fill-color);\n",
              "      border-top-color: var(--fill-color);\n",
              "    }\n",
              "    60% {\n",
              "      border-color: transparent;\n",
              "      border-right-color: var(--fill-color);\n",
              "    }\n",
              "    80% {\n",
              "      border-color: transparent;\n",
              "      border-right-color: var(--fill-color);\n",
              "      border-bottom-color: var(--fill-color);\n",
              "    }\n",
              "    90% {\n",
              "      border-color: transparent;\n",
              "      border-bottom-color: var(--fill-color);\n",
              "    }\n",
              "  }\n",
              "</style>\n",
              "\n",
              "  <script>\n",
              "    async function quickchart(key) {\n",
              "      const quickchartButtonEl =\n",
              "        document.querySelector('#' + key + ' button');\n",
              "      quickchartButtonEl.disabled = true;  // To prevent multiple clicks.\n",
              "      quickchartButtonEl.classList.add('colab-df-spinner');\n",
              "      try {\n",
              "        const charts = await google.colab.kernel.invokeFunction(\n",
              "            'suggestCharts', [key], {});\n",
              "      } catch (error) {\n",
              "        console.error('Error during call to suggestCharts:', error);\n",
              "      }\n",
              "      quickchartButtonEl.classList.remove('colab-df-spinner');\n",
              "      quickchartButtonEl.classList.add('colab-df-quickchart-complete');\n",
              "    }\n",
              "    (() => {\n",
              "      let quickchartButtonEl =\n",
              "        document.querySelector('#df-61ef730e-5cd2-4783-a768-9d9280043008 button');\n",
              "      quickchartButtonEl.style.display =\n",
              "        google.colab.kernel.accessAllowed ? 'block' : 'none';\n",
              "    })();\n",
              "  </script>\n",
              "</div>\n",
              "    </div>\n",
              "  </div>\n"
            ],
            "application/vnd.google.colaboratory.intrinsic+json": {
              "type": "dataframe",
              "variable_name": "RMF_scaled"
            }
          },
          "metadata": {},
          "execution_count": 55
        }
      ]
    },
    {
      "cell_type": "markdown",
      "source": [
        "## Modelling"
      ],
      "metadata": {
        "id": "1WHsuM0sn_5x"
      }
    },
    {
      "cell_type": "markdown",
      "source": [
        "### Subset selection"
      ],
      "metadata": {
        "id": "MgWv2rg5n_5x"
      }
    },
    {
      "cell_type": "code",
      "source": [
        "RMF_scaled=RMF_scaled.sample(n=75000,random_state=69).reset_index(drop=True)\n",
        "RMF_scaled.head()"
      ],
      "metadata": {
        "execution": {
          "iopub.status.busy": "2024-03-27T06:27:50.171046Z",
          "iopub.status.idle": "2024-03-27T06:27:50.171449Z",
          "shell.execute_reply.started": "2024-03-27T06:27:50.171244Z",
          "shell.execute_reply": "2024-03-27T06:27:50.171261Z"
        },
        "trusted": true,
        "colab": {
          "base_uri": "https://localhost:8080/",
          "height": 204
        },
        "id": "xpwsAIhzn_5y",
        "outputId": "65499efe-a3c6-4026-ce1d-f9e1ba3c88af"
      },
      "execution_count": null,
      "outputs": [
        {
          "output_type": "execute_result",
          "data": {
            "text/plain": [
              "   Frequency  CustGender  CustAccountBalance  TransactionAmount (INR)  \\\n",
              "0        0.4         0.0           -0.152422                -0.182631   \n",
              "1        0.2         0.0           -0.128398                -0.142474   \n",
              "2        0.0         1.0           -0.079901                -0.062969   \n",
              "3        0.0         1.0           -0.156795                -0.218453   \n",
              "4        0.0         0.0           -0.161383                -0.165575   \n",
              "\n",
              "   CustomerAge   Recency  \n",
              "0     0.687850  0.364179  \n",
              "1     0.387989  0.038806  \n",
              "2    -0.661525  0.000000  \n",
              "3     0.687850  0.000000  \n",
              "4     2.187155  0.000000  "
            ],
            "text/html": [
              "\n",
              "  <div id=\"df-ac0d5388-d035-4c26-baa7-2efd6ace4c99\" class=\"colab-df-container\">\n",
              "    <div>\n",
              "<style scoped>\n",
              "    .dataframe tbody tr th:only-of-type {\n",
              "        vertical-align: middle;\n",
              "    }\n",
              "\n",
              "    .dataframe tbody tr th {\n",
              "        vertical-align: top;\n",
              "    }\n",
              "\n",
              "    .dataframe thead th {\n",
              "        text-align: right;\n",
              "    }\n",
              "</style>\n",
              "<table border=\"1\" class=\"dataframe\">\n",
              "  <thead>\n",
              "    <tr style=\"text-align: right;\">\n",
              "      <th></th>\n",
              "      <th>Frequency</th>\n",
              "      <th>CustGender</th>\n",
              "      <th>CustAccountBalance</th>\n",
              "      <th>TransactionAmount (INR)</th>\n",
              "      <th>CustomerAge</th>\n",
              "      <th>Recency</th>\n",
              "    </tr>\n",
              "  </thead>\n",
              "  <tbody>\n",
              "    <tr>\n",
              "      <th>0</th>\n",
              "      <td>0.4</td>\n",
              "      <td>0.0</td>\n",
              "      <td>-0.152422</td>\n",
              "      <td>-0.182631</td>\n",
              "      <td>0.687850</td>\n",
              "      <td>0.364179</td>\n",
              "    </tr>\n",
              "    <tr>\n",
              "      <th>1</th>\n",
              "      <td>0.2</td>\n",
              "      <td>0.0</td>\n",
              "      <td>-0.128398</td>\n",
              "      <td>-0.142474</td>\n",
              "      <td>0.387989</td>\n",
              "      <td>0.038806</td>\n",
              "    </tr>\n",
              "    <tr>\n",
              "      <th>2</th>\n",
              "      <td>0.0</td>\n",
              "      <td>1.0</td>\n",
              "      <td>-0.079901</td>\n",
              "      <td>-0.062969</td>\n",
              "      <td>-0.661525</td>\n",
              "      <td>0.000000</td>\n",
              "    </tr>\n",
              "    <tr>\n",
              "      <th>3</th>\n",
              "      <td>0.0</td>\n",
              "      <td>1.0</td>\n",
              "      <td>-0.156795</td>\n",
              "      <td>-0.218453</td>\n",
              "      <td>0.687850</td>\n",
              "      <td>0.000000</td>\n",
              "    </tr>\n",
              "    <tr>\n",
              "      <th>4</th>\n",
              "      <td>0.0</td>\n",
              "      <td>0.0</td>\n",
              "      <td>-0.161383</td>\n",
              "      <td>-0.165575</td>\n",
              "      <td>2.187155</td>\n",
              "      <td>0.000000</td>\n",
              "    </tr>\n",
              "  </tbody>\n",
              "</table>\n",
              "</div>\n",
              "    <div class=\"colab-df-buttons\">\n",
              "\n",
              "  <div class=\"colab-df-container\">\n",
              "    <button class=\"colab-df-convert\" onclick=\"convertToInteractive('df-ac0d5388-d035-4c26-baa7-2efd6ace4c99')\"\n",
              "            title=\"Convert this dataframe to an interactive table.\"\n",
              "            style=\"display:none;\">\n",
              "\n",
              "  <svg xmlns=\"http://www.w3.org/2000/svg\" height=\"24px\" viewBox=\"0 -960 960 960\">\n",
              "    <path d=\"M120-120v-720h720v720H120Zm60-500h600v-160H180v160Zm220 220h160v-160H400v160Zm0 220h160v-160H400v160ZM180-400h160v-160H180v160Zm440 0h160v-160H620v160ZM180-180h160v-160H180v160Zm440 0h160v-160H620v160Z\"/>\n",
              "  </svg>\n",
              "    </button>\n",
              "\n",
              "  <style>\n",
              "    .colab-df-container {\n",
              "      display:flex;\n",
              "      gap: 12px;\n",
              "    }\n",
              "\n",
              "    .colab-df-convert {\n",
              "      background-color: #E8F0FE;\n",
              "      border: none;\n",
              "      border-radius: 50%;\n",
              "      cursor: pointer;\n",
              "      display: none;\n",
              "      fill: #1967D2;\n",
              "      height: 32px;\n",
              "      padding: 0 0 0 0;\n",
              "      width: 32px;\n",
              "    }\n",
              "\n",
              "    .colab-df-convert:hover {\n",
              "      background-color: #E2EBFA;\n",
              "      box-shadow: 0px 1px 2px rgba(60, 64, 67, 0.3), 0px 1px 3px 1px rgba(60, 64, 67, 0.15);\n",
              "      fill: #174EA6;\n",
              "    }\n",
              "\n",
              "    .colab-df-buttons div {\n",
              "      margin-bottom: 4px;\n",
              "    }\n",
              "\n",
              "    [theme=dark] .colab-df-convert {\n",
              "      background-color: #3B4455;\n",
              "      fill: #D2E3FC;\n",
              "    }\n",
              "\n",
              "    [theme=dark] .colab-df-convert:hover {\n",
              "      background-color: #434B5C;\n",
              "      box-shadow: 0px 1px 3px 1px rgba(0, 0, 0, 0.15);\n",
              "      filter: drop-shadow(0px 1px 2px rgba(0, 0, 0, 0.3));\n",
              "      fill: #FFFFFF;\n",
              "    }\n",
              "  </style>\n",
              "\n",
              "    <script>\n",
              "      const buttonEl =\n",
              "        document.querySelector('#df-ac0d5388-d035-4c26-baa7-2efd6ace4c99 button.colab-df-convert');\n",
              "      buttonEl.style.display =\n",
              "        google.colab.kernel.accessAllowed ? 'block' : 'none';\n",
              "\n",
              "      async function convertToInteractive(key) {\n",
              "        const element = document.querySelector('#df-ac0d5388-d035-4c26-baa7-2efd6ace4c99');\n",
              "        const dataTable =\n",
              "          await google.colab.kernel.invokeFunction('convertToInteractive',\n",
              "                                                    [key], {});\n",
              "        if (!dataTable) return;\n",
              "\n",
              "        const docLinkHtml = 'Like what you see? Visit the ' +\n",
              "          '<a target=\"_blank\" href=https://colab.research.google.com/notebooks/data_table.ipynb>data table notebook</a>'\n",
              "          + ' to learn more about interactive tables.';\n",
              "        element.innerHTML = '';\n",
              "        dataTable['output_type'] = 'display_data';\n",
              "        await google.colab.output.renderOutput(dataTable, element);\n",
              "        const docLink = document.createElement('div');\n",
              "        docLink.innerHTML = docLinkHtml;\n",
              "        element.appendChild(docLink);\n",
              "      }\n",
              "    </script>\n",
              "  </div>\n",
              "\n",
              "\n",
              "<div id=\"df-83c8356f-dca2-4601-a63b-7a4b3b8bbb7b\">\n",
              "  <button class=\"colab-df-quickchart\" onclick=\"quickchart('df-83c8356f-dca2-4601-a63b-7a4b3b8bbb7b')\"\n",
              "            title=\"Suggest charts\"\n",
              "            style=\"display:none;\">\n",
              "\n",
              "<svg xmlns=\"http://www.w3.org/2000/svg\" height=\"24px\"viewBox=\"0 0 24 24\"\n",
              "     width=\"24px\">\n",
              "    <g>\n",
              "        <path d=\"M19 3H5c-1.1 0-2 .9-2 2v14c0 1.1.9 2 2 2h14c1.1 0 2-.9 2-2V5c0-1.1-.9-2-2-2zM9 17H7v-7h2v7zm4 0h-2V7h2v10zm4 0h-2v-4h2v4z\"/>\n",
              "    </g>\n",
              "</svg>\n",
              "  </button>\n",
              "\n",
              "<style>\n",
              "  .colab-df-quickchart {\n",
              "      --bg-color: #E8F0FE;\n",
              "      --fill-color: #1967D2;\n",
              "      --hover-bg-color: #E2EBFA;\n",
              "      --hover-fill-color: #174EA6;\n",
              "      --disabled-fill-color: #AAA;\n",
              "      --disabled-bg-color: #DDD;\n",
              "  }\n",
              "\n",
              "  [theme=dark] .colab-df-quickchart {\n",
              "      --bg-color: #3B4455;\n",
              "      --fill-color: #D2E3FC;\n",
              "      --hover-bg-color: #434B5C;\n",
              "      --hover-fill-color: #FFFFFF;\n",
              "      --disabled-bg-color: #3B4455;\n",
              "      --disabled-fill-color: #666;\n",
              "  }\n",
              "\n",
              "  .colab-df-quickchart {\n",
              "    background-color: var(--bg-color);\n",
              "    border: none;\n",
              "    border-radius: 50%;\n",
              "    cursor: pointer;\n",
              "    display: none;\n",
              "    fill: var(--fill-color);\n",
              "    height: 32px;\n",
              "    padding: 0;\n",
              "    width: 32px;\n",
              "  }\n",
              "\n",
              "  .colab-df-quickchart:hover {\n",
              "    background-color: var(--hover-bg-color);\n",
              "    box-shadow: 0 1px 2px rgba(60, 64, 67, 0.3), 0 1px 3px 1px rgba(60, 64, 67, 0.15);\n",
              "    fill: var(--button-hover-fill-color);\n",
              "  }\n",
              "\n",
              "  .colab-df-quickchart-complete:disabled,\n",
              "  .colab-df-quickchart-complete:disabled:hover {\n",
              "    background-color: var(--disabled-bg-color);\n",
              "    fill: var(--disabled-fill-color);\n",
              "    box-shadow: none;\n",
              "  }\n",
              "\n",
              "  .colab-df-spinner {\n",
              "    border: 2px solid var(--fill-color);\n",
              "    border-color: transparent;\n",
              "    border-bottom-color: var(--fill-color);\n",
              "    animation:\n",
              "      spin 1s steps(1) infinite;\n",
              "  }\n",
              "\n",
              "  @keyframes spin {\n",
              "    0% {\n",
              "      border-color: transparent;\n",
              "      border-bottom-color: var(--fill-color);\n",
              "      border-left-color: var(--fill-color);\n",
              "    }\n",
              "    20% {\n",
              "      border-color: transparent;\n",
              "      border-left-color: var(--fill-color);\n",
              "      border-top-color: var(--fill-color);\n",
              "    }\n",
              "    30% {\n",
              "      border-color: transparent;\n",
              "      border-left-color: var(--fill-color);\n",
              "      border-top-color: var(--fill-color);\n",
              "      border-right-color: var(--fill-color);\n",
              "    }\n",
              "    40% {\n",
              "      border-color: transparent;\n",
              "      border-right-color: var(--fill-color);\n",
              "      border-top-color: var(--fill-color);\n",
              "    }\n",
              "    60% {\n",
              "      border-color: transparent;\n",
              "      border-right-color: var(--fill-color);\n",
              "    }\n",
              "    80% {\n",
              "      border-color: transparent;\n",
              "      border-right-color: var(--fill-color);\n",
              "      border-bottom-color: var(--fill-color);\n",
              "    }\n",
              "    90% {\n",
              "      border-color: transparent;\n",
              "      border-bottom-color: var(--fill-color);\n",
              "    }\n",
              "  }\n",
              "</style>\n",
              "\n",
              "  <script>\n",
              "    async function quickchart(key) {\n",
              "      const quickchartButtonEl =\n",
              "        document.querySelector('#' + key + ' button');\n",
              "      quickchartButtonEl.disabled = true;  // To prevent multiple clicks.\n",
              "      quickchartButtonEl.classList.add('colab-df-spinner');\n",
              "      try {\n",
              "        const charts = await google.colab.kernel.invokeFunction(\n",
              "            'suggestCharts', [key], {});\n",
              "      } catch (error) {\n",
              "        console.error('Error during call to suggestCharts:', error);\n",
              "      }\n",
              "      quickchartButtonEl.classList.remove('colab-df-spinner');\n",
              "      quickchartButtonEl.classList.add('colab-df-quickchart-complete');\n",
              "    }\n",
              "    (() => {\n",
              "      let quickchartButtonEl =\n",
              "        document.querySelector('#df-83c8356f-dca2-4601-a63b-7a4b3b8bbb7b button');\n",
              "      quickchartButtonEl.style.display =\n",
              "        google.colab.kernel.accessAllowed ? 'block' : 'none';\n",
              "    })();\n",
              "  </script>\n",
              "</div>\n",
              "    </div>\n",
              "  </div>\n"
            ],
            "application/vnd.google.colaboratory.intrinsic+json": {
              "type": "dataframe",
              "variable_name": "RMF_scaled",
              "summary": "{\n  \"name\": \"RMF_scaled\",\n  \"rows\": 75000,\n  \"fields\": [\n    {\n      \"column\": \"Frequency\",\n      \"properties\": {\n        \"dtype\": \"number\",\n        \"std\": 0.08447282504712558,\n        \"min\": 0.0,\n        \"max\": 1.0000000000000002,\n        \"num_unique_values\": 6,\n        \"samples\": [\n          0.4000000000000001,\n          0.2,\n          0.8\n        ],\n        \"semantic_type\": \"\",\n        \"description\": \"\"\n      }\n    },\n    {\n      \"column\": \"CustGender\",\n      \"properties\": {\n        \"dtype\": \"number\",\n        \"std\": 0.44685926200837245,\n        \"min\": 0.0,\n        \"max\": 1.0,\n        \"num_unique_values\": 2,\n        \"samples\": [\n          1.0,\n          0.0\n        ],\n        \"semantic_type\": \"\",\n        \"description\": \"\"\n      }\n    },\n    {\n      \"column\": \"CustAccountBalance\",\n      \"properties\": {\n        \"dtype\": \"number\",\n        \"std\": 1.3649050695972724,\n        \"min\": -0.1616606239707132,\n        \"max\": 203.6829995214844,\n        \"num_unique_values\": 53251,\n        \"samples\": [\n          -0.15541234731624096,\n          -0.15688642484391616\n        ],\n        \"semantic_type\": \"\",\n        \"description\": \"\"\n      }\n    },\n    {\n      \"column\": \"TransactionAmount (INR)\",\n      \"properties\": {\n        \"dtype\": \"number\",\n        \"std\": 0.9640944880166773,\n        \"min\": -0.23556499578025042,\n        \"max\": 95.7651385199708,\n        \"num_unique_values\": 16436,\n        \"samples\": [\n          0.246918963361819,\n          -0.17064399403550196\n        ],\n        \"semantic_type\": \"\",\n        \"description\": \"\"\n      }\n    },\n    {\n      \"column\": \"CustomerAge\",\n      \"properties\": {\n        \"dtype\": \"number\",\n        \"std\": 1.002379927377015,\n        \"min\": -4.559718252781896,\n        \"max\": 2.936807722044128,\n        \"num_unique_values\": 48,\n        \"samples\": [\n          1.737363566071964,\n          -2.6106214993271295\n        ],\n        \"semantic_type\": \"\",\n        \"description\": \"\"\n      }\n    },\n    {\n      \"column\": \"Recency\",\n      \"properties\": {\n        \"dtype\": \"number\",\n        \"std\": 0.132804528116567,\n        \"min\": 0.0,\n        \"max\": 0.9999999999999999,\n        \"num_unique_values\": 247,\n        \"samples\": [\n          0.08955223880597014,\n          0.2686567164179105\n        ],\n        \"semantic_type\": \"\",\n        \"description\": \"\"\n      }\n    }\n  ]\n}"
            }
          },
          "metadata": {},
          "execution_count": 56
        }
      ]
    },
    {
      "cell_type": "markdown",
      "source": [
        "### PCA"
      ],
      "metadata": {
        "id": "ZANjE-l2n_5y"
      }
    },
    {
      "cell_type": "code",
      "source": [
        "# Check for NaN values in the \"RMF_scaled\" column\n",
        "nan_values = RMF_scaled.isna().sum()\n",
        "RMF_scaled.dropna(inplace=True)\n",
        "nan_values = RMF_scaled.isna().sum()\n",
        "print(\"Number of NaN values in RMF_scaled column:\", nan_values)\n"
      ],
      "metadata": {
        "colab": {
          "base_uri": "https://localhost:8080/"
        },
        "id": "9vJK018SBC76",
        "outputId": "d11ba0b7-1006-4ed0-9699-cc35ecbfa13a"
      },
      "execution_count": null,
      "outputs": [
        {
          "output_type": "stream",
          "name": "stdout",
          "text": [
            "Number of NaN values in RMF_scaled column: Frequency                  0\n",
            "CustGender                 0\n",
            "CustAccountBalance         0\n",
            "TransactionAmount (INR)    0\n",
            "CustomerAge                0\n",
            "Recency                    0\n",
            "dtype: int64\n"
          ]
        }
      ]
    },
    {
      "cell_type": "code",
      "source": [
        "trial_pca=PCA(n_components=4)\n",
        "trial_pca.fit(RMF_scaled)\n",
        "test=trial_pca.transform(RMF_scaled)\n",
        "plt.plot(list(trial_pca.explained_variance_ratio_),'-o')\n",
        "plt.title('Explained variance ratio as function of PCA components')\n",
        "plt.ylabel('Explained variance ratio')\n",
        "plt.xlabel('Components')\n",
        "plt.show()"
      ],
      "metadata": {
        "execution": {
          "iopub.status.busy": "2024-03-27T06:27:50.173013Z",
          "iopub.status.idle": "2024-03-27T06:27:50.173401Z",
          "shell.execute_reply.started": "2024-03-27T06:27:50.173220Z",
          "shell.execute_reply": "2024-03-27T06:27:50.173238Z"
        },
        "trusted": true,
        "id": "5MxRffXSn_5y",
        "colab": {
          "base_uri": "https://localhost:8080/",
          "height": 563
        },
        "outputId": "1c29ca25-59ea-4546-a51d-96e70f035f09"
      },
      "execution_count": null,
      "outputs": [
        {
          "output_type": "display_data",
          "data": {
            "text/plain": [
              "<Figure size 800x550 with 1 Axes>"
            ],
            "image/png": "[encoded data removed]"
          },
          "metadata": {}
        }
      ]
    },
    {
      "cell_type": "code",
      "source": [
        "RMF_pca=PCA(n_components=3)\n",
        "reduced_features=RMF_pca.fit_transform(RMF_scaled)\n",
        "X_principal=pd.DataFrame(reduced_features)\n",
        "X_principal.columns=['P1','P2', 'P3']"
      ],
      "metadata": {
        "execution": {
          "iopub.status.busy": "2024-03-27T06:27:50.175132Z",
          "iopub.status.idle": "2024-03-27T06:27:50.175599Z",
          "shell.execute_reply.started": "2024-03-27T06:27:50.175343Z",
          "shell.execute_reply": "2024-03-27T06:27:50.175362Z"
        },
        "trusted": true,
        "id": "Xbkei1QHn_5y"
      },
      "execution_count": null,
      "outputs": []
    },
    {
      "cell_type": "markdown",
      "source": [
        "### KMeans"
      ],
      "metadata": {
        "id": "vccmsax3n_5y"
      }
    },
    {
      "cell_type": "code",
      "source": [
        "WCSS = []\n",
        "silh_scores_kmeans = []\n",
        "db_scores_kmeans = []\n",
        "\n",
        "for n_cluster in range(2, 11):\n",
        "    model_kmeans = KMeans(n_clusters=n_cluster)\n",
        "    model_kmeans.fit(reduced_features)\n",
        "    WCSS.append(model_kmeans.inertia_)\n",
        "    silh_scores_kmeans.append(silhouette_score(reduced_features, model_kmeans.labels_))\n",
        "    db_scores_kmeans.append(davies_bouldin_score(reduced_features, model_kmeans.labels_))"
      ],
      "metadata": {
        "execution": {
          "iopub.status.busy": "2024-03-27T06:27:50.177259Z",
          "iopub.status.idle": "2024-03-27T06:27:50.177678Z",
          "shell.execute_reply.started": "2024-03-27T06:27:50.177489Z",
          "shell.execute_reply": "2024-03-27T06:27:50.177508Z"
        },
        "trusted": true,
        "id": "3M_v423Rn_5y"
      },
      "execution_count": null,
      "outputs": []
    },
    {
      "cell_type": "code",
      "source": [
        "plt.style.use(\"fivethirtyeight\")\n",
        "# fig,ax=plt.subplots(1,2,figsize=(20,5))\n",
        "kl = KneeLocator(range(2,11), WCSS, curve='convex', direction=\"decreasing\")\n",
        "plt.plot(range(2,11), WCSS,color='purple',marker='o',label='Elbow Method')\n",
        "plt.xticks(range(2,11))\n",
        "plt.xlabel(\"Number of Clusters\", labelpad=20)\n",
        "plt.ylabel(\"Inertia\", labelpad=20)\n",
        "plt.title(\"Elbow Method\")\n",
        "plt.axvline(x=kl.elbow, color='black', label='axvline-fullheight', ls='--', linewidth=3)\n"
      ],
      "metadata": {
        "execution": {
          "iopub.status.busy": "2024-03-27T06:27:50.183203Z",
          "iopub.status.idle": "2024-03-27T06:27:50.183670Z",
          "shell.execute_reply.started": "2024-03-27T06:27:50.183466Z",
          "shell.execute_reply": "2024-03-27T06:27:50.183487Z"
        },
        "trusted": true,
        "id": "KkNrSmuYn_5y",
        "colab": {
          "base_uri": "https://localhost:8080/",
          "height": 602
        },
        "outputId": "f3495676-a893-4ec9-8b04-bbfa12252669"
      },
      "execution_count": null,
      "outputs": [
        {
          "output_type": "execute_result",
          "data": {
            "text/plain": [
              "<matplotlib.lines.Line2D at 0x7dc42f3e30a0>"
            ]
          },
          "metadata": {},
          "execution_count": 61
        },
        {
          "output_type": "display_data",
          "data": {
            "text/plain": [
              "<Figure size 800x550 with 1 Axes>"
            ],
            "image/png": "[encoded data removed]"
          },
          "metadata": {}
        }
      ]
    },
    {
      "cell_type": "code",
      "source": [
        "plt.figure(figsize=(12, 5))\n",
        "plt.plot(range(2, 11), silh_scores_kmeans, label=\"Silhouette Score\")\n",
        "plt.plot(range(2, 11), db_scores_kmeans, label=\"Davies Bouldin Score\")\n",
        "plt.xlabel(\"Number of Clusters\")\n",
        "plt.ylabel(\"Metrics\")\n",
        "plt.title(\"Metric Evaluation for KMeans\")\n",
        "plt.legend()\n",
        "plt.show()"
      ],
      "metadata": {
        "execution": {
          "iopub.status.busy": "2024-03-27T06:27:50.185202Z",
          "iopub.status.idle": "2024-03-27T06:27:50.185622Z",
          "shell.execute_reply.started": "2024-03-27T06:27:50.185399Z",
          "shell.execute_reply": "2024-03-27T06:27:50.185441Z"
        },
        "trusted": true,
        "id": "OIcTL20tn_5z",
        "colab": {
          "base_uri": "https://localhost:8080/",
          "height": 522
        },
        "outputId": "5c3b0259-dfa8-4dfe-b56d-8904e5dfd9c2"
      },
      "execution_count": null,
      "outputs": [
        {
          "output_type": "display_data",
          "data": {
            "text/plain": [
              "<Figure size 1200x500 with 1 Axes>"
            ],
            "image/png": "[encoded data removed]"
          },
          "metadata": {}
        }
      ]
    },
    {
      "cell_type": "code",
      "source": [
        "kmeans_set = {\"init\":\"random\", \"max_iter\":300, \"random_state\":42}\n",
        "kmeans = KMeans(n_clusters=5 , **kmeans_set)\n",
        "kmeans.fit(reduced_features)\n",
        "X_principal['Label']=kmeans.labels_\n",
        "X_principal.head()"
      ],
      "metadata": {
        "execution": {
          "iopub.status.busy": "2024-03-27T06:27:50.186772Z",
          "iopub.status.idle": "2024-03-27T06:27:50.187153Z",
          "shell.execute_reply.started": "2024-03-27T06:27:50.186977Z",
          "shell.execute_reply": "2024-03-27T06:27:50.186995Z"
        },
        "trusted": true,
        "id": "WRBSR1a-n_5z",
        "colab": {
          "base_uri": "https://localhost:8080/",
          "height": 204
        },
        "outputId": "8e890df0-dae4-4bcd-c61f-0aa27a0b7e92"
      },
      "execution_count": null,
      "outputs": [
        {
          "output_type": "execute_result",
          "data": {
            "text/plain": [
              "         P1        P2        P3  Label\n",
              "0 -0.073064  0.483103 -0.525945      1\n",
              "1 -0.090166  0.248771 -0.317932      1\n",
              "2 -0.183659 -0.556464  0.310423      0\n",
              "3 -0.077129  0.470267 -0.573906      1\n",
              "4  0.134841  1.705032 -1.340588      2"
            ],
            "text/html": [
              "\n",
              "  <div id=\"df-3f230d19-e672-4ae3-8827-00b438d85038\" class=\"colab-df-container\">\n",
              "    <div>\n",
              "<style scoped>\n",
              "    .dataframe tbody tr th:only-of-type {\n",
              "        vertical-align: middle;\n",
              "    }\n",
              "\n",
              "    .dataframe tbody tr th {\n",
              "        vertical-align: top;\n",
              "    }\n",
              "\n",
              "    .dataframe thead th {\n",
              "        text-align: right;\n",
              "    }\n",
              "</style>\n",
              "<table border=\"1\" class=\"dataframe\">\n",
              "  <thead>\n",
              "    <tr style=\"text-align: right;\">\n",
              "      <th></th>\n",
              "      <th>P1</th>\n",
              "      <th>P2</th>\n",
              "      <th>P3</th>\n",
              "      <th>Label</th>\n",
              "    </tr>\n",
              "  </thead>\n",
              "  <tbody>\n",
              "    <tr>\n",
              "      <th>0</th>\n",
              "      <td>-0.073064</td>\n",
              "      <td>0.483103</td>\n",
              "      <td>-0.525945</td>\n",
              "      <td>1</td>\n",
              "    </tr>\n",
              "    <tr>\n",
              "      <th>1</th>\n",
              "      <td>-0.090166</td>\n",
              "      <td>0.248771</td>\n",
              "      <td>-0.317932</td>\n",
              "      <td>1</td>\n",
              "    </tr>\n",
              "    <tr>\n",
              "      <th>2</th>\n",
              "      <td>-0.183659</td>\n",
              "      <td>-0.556464</td>\n",
              "      <td>0.310423</td>\n",
              "      <td>0</td>\n",
              "    </tr>\n",
              "    <tr>\n",
              "      <th>3</th>\n",
              "      <td>-0.077129</td>\n",
              "      <td>0.470267</td>\n",
              "      <td>-0.573906</td>\n",
              "      <td>1</td>\n",
              "    </tr>\n",
              "    <tr>\n",
              "      <th>4</th>\n",
              "      <td>0.134841</td>\n",
              "      <td>1.705032</td>\n",
              "      <td>-1.340588</td>\n",
              "      <td>2</td>\n",
              "    </tr>\n",
              "  </tbody>\n",
              "</table>\n",
              "</div>\n",
              "    <div class=\"colab-df-buttons\">\n",
              "\n",
              "  <div class=\"colab-df-container\">\n",
              "    <button class=\"colab-df-convert\" onclick=\"convertToInteractive('df-3f230d19-e672-4ae3-8827-00b438d85038')\"\n",
              "            title=\"Convert this dataframe to an interactive table.\"\n",
              "            style=\"display:none;\">\n",
              "\n",
              "  <svg xmlns=\"http://www.w3.org/2000/svg\" height=\"24px\" viewBox=\"0 -960 960 960\">\n",
              "    <path d=\"M120-120v-720h720v720H120Zm60-500h600v-160H180v160Zm220 220h160v-160H400v160Zm0 220h160v-160H400v160ZM180-400h160v-160H180v160Zm440 0h160v-160H620v160ZM180-180h160v-160H180v160Zm440 0h160v-160H620v160Z\"/>\n",
              "  </svg>\n",
              "    </button>\n",
              "\n",
              "  <style>\n",
              "    .colab-df-container {\n",
              "      display:flex;\n",
              "      gap: 12px;\n",
              "    }\n",
              "\n",
              "    .colab-df-convert {\n",
              "      background-color: #E8F0FE;\n",
              "      border: none;\n",
              "      border-radius: 50%;\n",
              "      cursor: pointer;\n",
              "      display: none;\n",
              "      fill: #1967D2;\n",
              "      height: 32px;\n",
              "      padding: 0 0 0 0;\n",
              "      width: 32px;\n",
              "    }\n",
              "\n",
              "    .colab-df-convert:hover {\n",
              "      background-color: #E2EBFA;\n",
              "      box-shadow: 0px 1px 2px rgba(60, 64, 67, 0.3), 0px 1px 3px 1px rgba(60, 64, 67, 0.15);\n",
              "      fill: #174EA6;\n",
              "    }\n",
              "\n",
              "    .colab-df-buttons div {\n",
              "      margin-bottom: 4px;\n",
              "    }\n",
              "\n",
              "    [theme=dark] .colab-df-convert {\n",
              "      background-color: #3B4455;\n",
              "      fill: #D2E3FC;\n",
              "    }\n",
              "\n",
              "    [theme=dark] .colab-df-convert:hover {\n",
              "      background-color: #434B5C;\n",
              "      box-shadow: 0px 1px 3px 1px rgba(0, 0, 0, 0.15);\n",
              "      filter: drop-shadow(0px 1px 2px rgba(0, 0, 0, 0.3));\n",
              "      fill: #FFFFFF;\n",
              "    }\n",
              "  </style>\n",
              "\n",
              "    <script>\n",
              "      const buttonEl =\n",
              "        document.querySelector('#df-3f230d19-e672-4ae3-8827-00b438d85038 button.colab-df-convert');\n",
              "      buttonEl.style.display =\n",
              "        google.colab.kernel.accessAllowed ? 'block' : 'none';\n",
              "\n",
              "      async function convertToInteractive(key) {\n",
              "        const element = document.querySelector('#df-3f230d19-e672-4ae3-8827-00b438d85038');\n",
              "        const dataTable =\n",
              "          await google.colab.kernel.invokeFunction('convertToInteractive',\n",
              "                                                    [key], {});\n",
              "        if (!dataTable) return;\n",
              "\n",
              "        const docLinkHtml = 'Like what you see? Visit the ' +\n",
              "          '<a target=\"_blank\" href=https://colab.research.google.com/notebooks/data_table.ipynb>data table notebook</a>'\n",
              "          + ' to learn more about interactive tables.';\n",
              "        element.innerHTML = '';\n",
              "        dataTable['output_type'] = 'display_data';\n",
              "        await google.colab.output.renderOutput(dataTable, element);\n",
              "        const docLink = document.createElement('div');\n",
              "        docLink.innerHTML = docLinkHtml;\n",
              "        element.appendChild(docLink);\n",
              "      }\n",
              "    </script>\n",
              "  </div>\n",
              "\n",
              "\n",
              "<div id=\"df-de80321e-9f9f-49c9-ae2d-86bf6019cfec\">\n",
              "  <button class=\"colab-df-quickchart\" onclick=\"quickchart('df-de80321e-9f9f-49c9-ae2d-86bf6019cfec')\"\n",
              "            title=\"Suggest charts\"\n",
              "            style=\"display:none;\">\n",
              "\n",
              "<svg xmlns=\"http://www.w3.org/2000/svg\" height=\"24px\"viewBox=\"0 0 24 24\"\n",
              "     width=\"24px\">\n",
              "    <g>\n",
              "        <path d=\"M19 3H5c-1.1 0-2 .9-2 2v14c0 1.1.9 2 2 2h14c1.1 0 2-.9 2-2V5c0-1.1-.9-2-2-2zM9 17H7v-7h2v7zm4 0h-2V7h2v10zm4 0h-2v-4h2v4z\"/>\n",
              "    </g>\n",
              "</svg>\n",
              "  </button>\n",
              "\n",
              "<style>\n",
              "  .colab-df-quickchart {\n",
              "      --bg-color: #E8F0FE;\n",
              "      --fill-color: #1967D2;\n",
              "      --hover-bg-color: #E2EBFA;\n",
              "      --hover-fill-color: #174EA6;\n",
              "      --disabled-fill-color: #AAA;\n",
              "      --disabled-bg-color: #DDD;\n",
              "  }\n",
              "\n",
              "  [theme=dark] .colab-df-quickchart {\n",
              "      --bg-color: #3B4455;\n",
              "      --fill-color: #D2E3FC;\n",
              "      --hover-bg-color: #434B5C;\n",
              "      --hover-fill-color: #FFFFFF;\n",
              "      --disabled-bg-color: #3B4455;\n",
              "      --disabled-fill-color: #666;\n",
              "  }\n",
              "\n",
              "  .colab-df-quickchart {\n",
              "    background-color: var(--bg-color);\n",
              "    border: none;\n",
              "    border-radius: 50%;\n",
              "    cursor: pointer;\n",
              "    display: none;\n",
              "    fill: var(--fill-color);\n",
              "    height: 32px;\n",
              "    padding: 0;\n",
              "    width: 32px;\n",
              "  }\n",
              "\n",
              "  .colab-df-quickchart:hover {\n",
              "    background-color: var(--hover-bg-color);\n",
              "    box-shadow: 0 1px 2px rgba(60, 64, 67, 0.3), 0 1px 3px 1px rgba(60, 64, 67, 0.15);\n",
              "    fill: var(--button-hover-fill-color);\n",
              "  }\n",
              "\n",
              "  .colab-df-quickchart-complete:disabled,\n",
              "  .colab-df-quickchart-complete:disabled:hover {\n",
              "    background-color: var(--disabled-bg-color);\n",
              "    fill: var(--disabled-fill-color);\n",
              "    box-shadow: none;\n",
              "  }\n",
              "\n",
              "  .colab-df-spinner {\n",
              "    border: 2px solid var(--fill-color);\n",
              "    border-color: transparent;\n",
              "    border-bottom-color: var(--fill-color);\n",
              "    animation:\n",
              "      spin 1s steps(1) infinite;\n",
              "  }\n",
              "\n",
              "  @keyframes spin {\n",
              "    0% {\n",
              "      border-color: transparent;\n",
              "      border-bottom-color: var(--fill-color);\n",
              "      border-left-color: var(--fill-color);\n",
              "    }\n",
              "    20% {\n",
              "      border-color: transparent;\n",
              "      border-left-color: var(--fill-color);\n",
              "      border-top-color: var(--fill-color);\n",
              "    }\n",
              "    30% {\n",
              "      border-color: transparent;\n",
              "      border-left-color: var(--fill-color);\n",
              "      border-top-color: var(--fill-color);\n",
              "      border-right-color: var(--fill-color);\n",
              "    }\n",
              "    40% {\n",
              "      border-color: transparent;\n",
              "      border-right-color: var(--fill-color);\n",
              "      border-top-color: var(--fill-color);\n",
              "    }\n",
              "    60% {\n",
              "      border-color: transparent;\n",
              "      border-right-color: var(--fill-color);\n",
              "    }\n",
              "    80% {\n",
              "      border-color: transparent;\n",
              "      border-right-color: var(--fill-color);\n",
              "      border-bottom-color: var(--fill-color);\n",
              "    }\n",
              "    90% {\n",
              "      border-color: transparent;\n",
              "      border-bottom-color: var(--fill-color);\n",
              "    }\n",
              "  }\n",
              "</style>\n",
              "\n",
              "  <script>\n",
              "    async function quickchart(key) {\n",
              "      const quickchartButtonEl =\n",
              "        document.querySelector('#' + key + ' button');\n",
              "      quickchartButtonEl.disabled = true;  // To prevent multiple clicks.\n",
              "      quickchartButtonEl.classList.add('colab-df-spinner');\n",
              "      try {\n",
              "        const charts = await google.colab.kernel.invokeFunction(\n",
              "            'suggestCharts', [key], {});\n",
              "      } catch (error) {\n",
              "        console.error('Error during call to suggestCharts:', error);\n",
              "      }\n",
              "      quickchartButtonEl.classList.remove('colab-df-spinner');\n",
              "      quickchartButtonEl.classList.add('colab-df-quickchart-complete');\n",
              "    }\n",
              "    (() => {\n",
              "      let quickchartButtonEl =\n",
              "        document.querySelector('#df-de80321e-9f9f-49c9-ae2d-86bf6019cfec button');\n",
              "      quickchartButtonEl.style.display =\n",
              "        google.colab.kernel.accessAllowed ? 'block' : 'none';\n",
              "    })();\n",
              "  </script>\n",
              "</div>\n",
              "    </div>\n",
              "  </div>\n"
            ],
            "application/vnd.google.colaboratory.intrinsic+json": {
              "type": "dataframe",
              "variable_name": "X_principal",
              "summary": "{\n  \"name\": \"X_principal\",\n  \"rows\": 75000,\n  \"fields\": [\n    {\n      \"column\": \"P1\",\n      \"properties\": {\n        \"dtype\": \"number\",\n        \"std\": 1.3732985095407486,\n        \"min\": -0.8131553712818379,\n        \"max\": 201.6544478779283,\n        \"num_unique_values\": 73240,\n        \"samples\": [\n          -0.2168742877369646,\n          -0.20913533509166868,\n          0.030223414426445168\n        ],\n        \"semantic_type\": \"\",\n        \"description\": \"\"\n      }\n    },\n    {\n      \"column\": \"P2\",\n      \"properties\": {\n        \"dtype\": \"number\",\n        \"std\": 1.0211612742324114,\n        \"min\": -30.646964578525182,\n        \"max\": 53.43556973638444,\n        \"num_unique_values\": 73240,\n        \"samples\": [\n          -0.5416660951405827,\n          -0.4655683593935358,\n          0.2497269844242104\n        ],\n        \"semantic_type\": \"\",\n        \"description\": \"\"\n      }\n    },\n    {\n      \"column\": \"P3\",\n      \"properties\": {\n        \"dtype\": \"number\",\n        \"std\": 0.9327700311122425,\n        \"min\": -1.8461720562732093,\n        \"max\": 79.10026880214109,\n        \"num_unique_values\": 73240,\n        \"samples\": [\n          0.323419431486623,\n          0.16875913055511263,\n          -0.3324931969024395\n        ],\n        \"semantic_type\": \"\",\n        \"description\": \"\"\n      }\n    },\n    {\n      \"column\": \"Label\",\n      \"properties\": {\n        \"dtype\": \"int32\",\n        \"num_unique_values\": 5,\n        \"samples\": [\n          0,\n          3,\n          2\n        ],\n        \"semantic_type\": \"\",\n        \"description\": \"\"\n      }\n    }\n  ]\n}"
            }
          },
          "metadata": {},
          "execution_count": 63
        }
      ]
    },
    {
      "cell_type": "code",
      "source": [
        "ax = plt.axes(projection='3d')\n",
        "ax.scatter3D('P1','P2', 'P3', c = 'Label', data = X_principal, cmap='viridis',  linewidth=0.5)\n",
        "#ax.scatter3D(kmeans.cluster_centers_[:,0],kmeans.cluster_centers_[:,1],kmeans.cluster_centers_[:,2], label='Cluster Centers')\n",
        "ax.set_xlabel('P1')\n",
        "ax.set_ylabel('P2')\n",
        "ax.set_zlabel('P3')\n",
        "plt.title('KMeans Clustering')\n",
        "plt.legend()\n",
        "plt.show()"
      ],
      "metadata": {
        "execution": {
          "iopub.status.busy": "2024-03-27T06:27:50.188743Z",
          "iopub.status.idle": "2024-03-27T06:27:50.189149Z",
          "shell.execute_reply.started": "2024-03-27T06:27:50.188945Z",
          "shell.execute_reply": "2024-03-27T06:27:50.188980Z"
        },
        "trusted": true,
        "id": "gdVQEsc_n_5z",
        "colab": {
          "base_uri": "https://localhost:8080/",
          "height": 557
        },
        "outputId": "b5e602b0-c1c0-4d33-aca6-739457806737"
      },
      "execution_count": null,
      "outputs": [
        {
          "output_type": "stream",
          "name": "stderr",
          "text": [
            "WARNING:matplotlib.legend:No artists with labels found to put in legend.  Note that artists whose label start with an underscore are ignored when legend() is called with no argument.\n"
          ]
        },
        {
          "output_type": "display_data",
          "data": {
            "text/plain": [
              "<Figure size 800x550 with 1 Axes>"
            ],
            "image/png": "[encoded data removed]"
          },
          "metadata": {}
        }
      ]
    },
    {
      "cell_type": "markdown",
      "source": [
        "### Hierarchical Clustering"
      ],
      "metadata": {
        "id": "whZKMWCBn_5z"
      }
    },
    {
      "cell_type": "code",
      "source": [
        "X_principal.drop(columns = ['Label'], inplace = True)\n",
        "X_principal.head()"
      ],
      "metadata": {
        "execution": {
          "iopub.status.busy": "2024-03-27T06:27:50.192608Z",
          "iopub.status.idle": "2024-03-27T06:27:50.192975Z",
          "shell.execute_reply.started": "2024-03-27T06:27:50.192801Z",
          "shell.execute_reply": "2024-03-27T06:27:50.192819Z"
        },
        "trusted": true,
        "id": "p368GsDCn_5z",
        "colab": {
          "base_uri": "https://localhost:8080/",
          "height": 204
        },
        "outputId": "79da81ec-5bc0-4595-fa14-87d948546390"
      },
      "execution_count": null,
      "outputs": [
        {
          "output_type": "execute_result",
          "data": {
            "text/plain": [
              "         P1        P2        P3\n",
              "0 -0.073064  0.483103 -0.525945\n",
              "1 -0.090166  0.248771 -0.317932\n",
              "2 -0.183659 -0.556464  0.310423\n",
              "3 -0.077129  0.470267 -0.573906\n",
              "4  0.134841  1.705032 -1.340588"
            ],
            "text/html": [
              "\n",
              "  <div id=\"df-7579b771-0996-44f2-8cab-8810b8a3019e\" class=\"colab-df-container\">\n",
              "    <div>\n",
              "<style scoped>\n",
              "    .dataframe tbody tr th:only-of-type {\n",
              "        vertical-align: middle;\n",
              "    }\n",
              "\n",
              "    .dataframe tbody tr th {\n",
              "        vertical-align: top;\n",
              "    }\n",
              "\n",
              "    .dataframe thead th {\n",
              "        text-align: right;\n",
              "    }\n",
              "</style>\n",
              "<table border=\"1\" class=\"dataframe\">\n",
              "  <thead>\n",
              "    <tr style=\"text-align: right;\">\n",
              "      <th></th>\n",
              "      <th>P1</th>\n",
              "      <th>P2</th>\n",
              "      <th>P3</th>\n",
              "    </tr>\n",
              "  </thead>\n",
              "  <tbody>\n",
              "    <tr>\n",
              "      <th>0</th>\n",
              "      <td>-0.073064</td>\n",
              "      <td>0.483103</td>\n",
              "      <td>-0.525945</td>\n",
              "    </tr>\n",
              "    <tr>\n",
              "      <th>1</th>\n",
              "      <td>-0.090166</td>\n",
              "      <td>0.248771</td>\n",
              "      <td>-0.317932</td>\n",
              "    </tr>\n",
              "    <tr>\n",
              "      <th>2</th>\n",
              "      <td>-0.183659</td>\n",
              "      <td>-0.556464</td>\n",
              "      <td>0.310423</td>\n",
              "    </tr>\n",
              "    <tr>\n",
              "      <th>3</th>\n",
              "      <td>-0.077129</td>\n",
              "      <td>0.470267</td>\n",
              "      <td>-0.573906</td>\n",
              "    </tr>\n",
              "    <tr>\n",
              "      <th>4</th>\n",
              "      <td>0.134841</td>\n",
              "      <td>1.705032</td>\n",
              "      <td>-1.340588</td>\n",
              "    </tr>\n",
              "  </tbody>\n",
              "</table>\n",
              "</div>\n",
              "    <div class=\"colab-df-buttons\">\n",
              "\n",
              "  <div class=\"colab-df-container\">\n",
              "    <button class=\"colab-df-convert\" onclick=\"convertToInteractive('df-7579b771-0996-44f2-8cab-8810b8a3019e')\"\n",
              "            title=\"Convert this dataframe to an interactive table.\"\n",
              "            style=\"display:none;\">\n",
              "\n",
              "  <svg xmlns=\"http://www.w3.org/2000/svg\" height=\"24px\" viewBox=\"0 -960 960 960\">\n",
              "    <path d=\"M120-120v-720h720v720H120Zm60-500h600v-160H180v160Zm220 220h160v-160H400v160Zm0 220h160v-160H400v160ZM180-400h160v-160H180v160Zm440 0h160v-160H620v160ZM180-180h160v-160H180v160Zm440 0h160v-160H620v160Z\"/>\n",
              "  </svg>\n",
              "    </button>\n",
              "\n",
              "  <style>\n",
              "    .colab-df-container {\n",
              "      display:flex;\n",
              "      gap: 12px;\n",
              "    }\n",
              "\n",
              "    .colab-df-convert {\n",
              "      background-color: #E8F0FE;\n",
              "      border: none;\n",
              "      border-radius: 50%;\n",
              "      cursor: pointer;\n",
              "      display: none;\n",
              "      fill: #1967D2;\n",
              "      height: 32px;\n",
              "      padding: 0 0 0 0;\n",
              "      width: 32px;\n",
              "    }\n",
              "\n",
              "    .colab-df-convert:hover {\n",
              "      background-color: #E2EBFA;\n",
              "      box-shadow: 0px 1px 2px rgba(60, 64, 67, 0.3), 0px 1px 3px 1px rgba(60, 64, 67, 0.15);\n",
              "      fill: #174EA6;\n",
              "    }\n",
              "\n",
              "    .colab-df-buttons div {\n",
              "      margin-bottom: 4px;\n",
              "    }\n",
              "\n",
              "    [theme=dark] .colab-df-convert {\n",
              "      background-color: #3B4455;\n",
              "      fill: #D2E3FC;\n",
              "    }\n",
              "\n",
              "    [theme=dark] .colab-df-convert:hover {\n",
              "      background-color: #434B5C;\n",
              "      box-shadow: 0px 1px 3px 1px rgba(0, 0, 0, 0.15);\n",
              "      filter: drop-shadow(0px 1px 2px rgba(0, 0, 0, 0.3));\n",
              "      fill: #FFFFFF;\n",
              "    }\n",
              "  </style>\n",
              "\n",
              "    <script>\n",
              "      const buttonEl =\n",
              "        document.querySelector('#df-7579b771-0996-44f2-8cab-8810b8a3019e button.colab-df-convert');\n",
              "      buttonEl.style.display =\n",
              "        google.colab.kernel.accessAllowed ? 'block' : 'none';\n",
              "\n",
              "      async function convertToInteractive(key) {\n",
              "        const element = document.querySelector('#df-7579b771-0996-44f2-8cab-8810b8a3019e');\n",
              "        const dataTable =\n",
              "          await google.colab.kernel.invokeFunction('convertToInteractive',\n",
              "                                                    [key], {});\n",
              "        if (!dataTable) return;\n",
              "\n",
              "        const docLinkHtml = 'Like what you see? Visit the ' +\n",
              "          '<a target=\"_blank\" href=https://colab.research.google.com/notebooks/data_table.ipynb>data table notebook</a>'\n",
              "          + ' to learn more about interactive tables.';\n",
              "        element.innerHTML = '';\n",
              "        dataTable['output_type'] = 'display_data';\n",
              "        await google.colab.output.renderOutput(dataTable, element);\n",
              "        const docLink = document.createElement('div');\n",
              "        docLink.innerHTML = docLinkHtml;\n",
              "        element.appendChild(docLink);\n",
              "      }\n",
              "    </script>\n",
              "  </div>\n",
              "\n",
              "\n",
              "<div id=\"df-adc101d6-6368-40d1-aa31-9a899f7eb430\">\n",
              "  <button class=\"colab-df-quickchart\" onclick=\"quickchart('df-adc101d6-6368-40d1-aa31-9a899f7eb430')\"\n",
              "            title=\"Suggest charts\"\n",
              "            style=\"display:none;\">\n",
              "\n",
              "<svg xmlns=\"http://www.w3.org/2000/svg\" height=\"24px\"viewBox=\"0 0 24 24\"\n",
              "     width=\"24px\">\n",
              "    <g>\n",
              "        <path d=\"M19 3H5c-1.1 0-2 .9-2 2v14c0 1.1.9 2 2 2h14c1.1 0 2-.9 2-2V5c0-1.1-.9-2-2-2zM9 17H7v-7h2v7zm4 0h-2V7h2v10zm4 0h-2v-4h2v4z\"/>\n",
              "    </g>\n",
              "</svg>\n",
              "  </button>\n",
              "\n",
              "<style>\n",
              "  .colab-df-quickchart {\n",
              "      --bg-color: #E8F0FE;\n",
              "      --fill-color: #1967D2;\n",
              "      --hover-bg-color: #E2EBFA;\n",
              "      --hover-fill-color: #174EA6;\n",
              "      --disabled-fill-color: #AAA;\n",
              "      --disabled-bg-color: #DDD;\n",
              "  }\n",
              "\n",
              "  [theme=dark] .colab-df-quickchart {\n",
              "      --bg-color: #3B4455;\n",
              "      --fill-color: #D2E3FC;\n",
              "      --hover-bg-color: #434B5C;\n",
              "      --hover-fill-color: #FFFFFF;\n",
              "      --disabled-bg-color: #3B4455;\n",
              "      --disabled-fill-color: #666;\n",
              "  }\n",
              "\n",
              "  .colab-df-quickchart {\n",
              "    background-color: var(--bg-color);\n",
              "    border: none;\n",
              "    border-radius: 50%;\n",
              "    cursor: pointer;\n",
              "    display: none;\n",
              "    fill: var(--fill-color);\n",
              "    height: 32px;\n",
              "    padding: 0;\n",
              "    width: 32px;\n",
              "  }\n",
              "\n",
              "  .colab-df-quickchart:hover {\n",
              "    background-color: var(--hover-bg-color);\n",
              "    box-shadow: 0 1px 2px rgba(60, 64, 67, 0.3), 0 1px 3px 1px rgba(60, 64, 67, 0.15);\n",
              "    fill: var(--button-hover-fill-color);\n",
              "  }\n",
              "\n",
              "  .colab-df-quickchart-complete:disabled,\n",
              "  .colab-df-quickchart-complete:disabled:hover {\n",
              "    background-color: var(--disabled-bg-color);\n",
              "    fill: var(--disabled-fill-color);\n",
              "    box-shadow: none;\n",
              "  }\n",
              "\n",
              "  .colab-df-spinner {\n",
              "    border: 2px solid var(--fill-color);\n",
              "    border-color: transparent;\n",
              "    border-bottom-color: var(--fill-color);\n",
              "    animation:\n",
              "      spin 1s steps(1) infinite;\n",
              "  }\n",
              "\n",
              "  @keyframes spin {\n",
              "    0% {\n",
              "      border-color: transparent;\n",
              "      border-bottom-color: var(--fill-color);\n",
              "      border-left-color: var(--fill-color);\n",
              "    }\n",
              "    20% {\n",
              "      border-color: transparent;\n",
              "      border-left-color: var(--fill-color);\n",
              "      border-top-color: var(--fill-color);\n",
              "    }\n",
              "    30% {\n",
              "      border-color: transparent;\n",
              "      border-left-color: var(--fill-color);\n",
              "      border-top-color: var(--fill-color);\n",
              "      border-right-color: var(--fill-color);\n",
              "    }\n",
              "    40% {\n",
              "      border-color: transparent;\n",
              "      border-right-color: var(--fill-color);\n",
              "      border-top-color: var(--fill-color);\n",
              "    }\n",
              "    60% {\n",
              "      border-color: transparent;\n",
              "      border-right-color: var(--fill-color);\n",
              "    }\n",
              "    80% {\n",
              "      border-color: transparent;\n",
              "      border-right-color: var(--fill-color);\n",
              "      border-bottom-color: var(--fill-color);\n",
              "    }\n",
              "    90% {\n",
              "      border-color: transparent;\n",
              "      border-bottom-color: var(--fill-color);\n",
              "    }\n",
              "  }\n",
              "</style>\n",
              "\n",
              "  <script>\n",
              "    async function quickchart(key) {\n",
              "      const quickchartButtonEl =\n",
              "        document.querySelector('#' + key + ' button');\n",
              "      quickchartButtonEl.disabled = true;  // To prevent multiple clicks.\n",
              "      quickchartButtonEl.classList.add('colab-df-spinner');\n",
              "      try {\n",
              "        const charts = await google.colab.kernel.invokeFunction(\n",
              "            'suggestCharts', [key], {});\n",
              "      } catch (error) {\n",
              "        console.error('Error during call to suggestCharts:', error);\n",
              "      }\n",
              "      quickchartButtonEl.classList.remove('colab-df-spinner');\n",
              "      quickchartButtonEl.classList.add('colab-df-quickchart-complete');\n",
              "    }\n",
              "    (() => {\n",
              "      let quickchartButtonEl =\n",
              "        document.querySelector('#df-adc101d6-6368-40d1-aa31-9a899f7eb430 button');\n",
              "      quickchartButtonEl.style.display =\n",
              "        google.colab.kernel.accessAllowed ? 'block' : 'none';\n",
              "    })();\n",
              "  </script>\n",
              "</div>\n",
              "    </div>\n",
              "  </div>\n"
            ],
            "application/vnd.google.colaboratory.intrinsic+json": {
              "type": "dataframe",
              "variable_name": "X_principal",
              "summary": "{\n  \"name\": \"X_principal\",\n  \"rows\": 75000,\n  \"fields\": [\n    {\n      \"column\": \"P1\",\n      \"properties\": {\n        \"dtype\": \"number\",\n        \"std\": 1.3732985095407486,\n        \"min\": -0.8131553712818379,\n        \"max\": 201.6544478779283,\n        \"num_unique_values\": 73240,\n        \"samples\": [\n          -0.2168742877369646,\n          -0.20913533509166868,\n          0.030223414426445168\n        ],\n        \"semantic_type\": \"\",\n        \"description\": \"\"\n      }\n    },\n    {\n      \"column\": \"P2\",\n      \"properties\": {\n        \"dtype\": \"number\",\n        \"std\": 1.0211612742324114,\n        \"min\": -30.646964578525182,\n        \"max\": 53.43556973638444,\n        \"num_unique_values\": 73240,\n        \"samples\": [\n          -0.5416660951405827,\n          -0.4655683593935358,\n          0.2497269844242104\n        ],\n        \"semantic_type\": \"\",\n        \"description\": \"\"\n      }\n    },\n    {\n      \"column\": \"P3\",\n      \"properties\": {\n        \"dtype\": \"number\",\n        \"std\": 0.9327700311122425,\n        \"min\": -1.8461720562732093,\n        \"max\": 79.10026880214109,\n        \"num_unique_values\": 73240,\n        \"samples\": [\n          0.323419431486623,\n          0.16875913055511263,\n          -0.3324931969024395\n        ],\n        \"semantic_type\": \"\",\n        \"description\": \"\"\n      }\n    }\n  ]\n}"
            }
          },
          "metadata": {},
          "execution_count": 65
        }
      ]
    },
    {
      "cell_type": "code",
      "source": [
        "X_principal=X_principal.sample(n=10000,random_state=69).reset_index(drop=True)\n",
        "X_principal.shape"
      ],
      "metadata": {
        "execution": {
          "iopub.status.busy": "2024-03-27T06:27:50.195740Z",
          "iopub.status.idle": "2024-03-27T06:27:50.196108Z",
          "shell.execute_reply.started": "2024-03-27T06:27:50.195931Z",
          "shell.execute_reply": "2024-03-27T06:27:50.195948Z"
        },
        "trusted": true,
        "id": "dMN_EuYen_5z",
        "colab": {
          "base_uri": "https://localhost:8080/"
        },
        "outputId": "6ff7a2fa-903a-4aa3-90b0-0a749d855264"
      },
      "execution_count": null,
      "outputs": [
        {
          "output_type": "execute_result",
          "data": {
            "text/plain": [
              "(10000, 3)"
            ]
          },
          "metadata": {},
          "execution_count": 66
        }
      ]
    },
    {
      "cell_type": "markdown",
      "source": [
        "### DBScan"
      ],
      "metadata": {
        "id": "wtQbrEXyn_50"
      }
    },
    {
      "cell_type": "code",
      "source": [
        "db=DBSCAN(eps=10,min_samples=1000).fit(X_principal)\n",
        "core_samples_mask=np.zeros_like(db.labels_,dtype=bool)\n",
        "core_samples_mask[db.core_sample_indices_]=True\n",
        "labels=db.labels_"
      ],
      "metadata": {
        "execution": {
          "iopub.status.busy": "2024-03-27T06:27:50.203161Z",
          "iopub.status.idle": "2024-03-27T06:27:50.203569Z",
          "shell.execute_reply.started": "2024-03-27T06:27:50.203348Z",
          "shell.execute_reply": "2024-03-27T06:27:50.203365Z"
        },
        "trusted": true,
        "id": "kEvnaA60n_50"
      },
      "execution_count": null,
      "outputs": []
    },
    {
      "cell_type": "code",
      "source": [
        "X_principal['Label'] = labels\n",
        "X_principal.head()"
      ],
      "metadata": {
        "execution": {
          "iopub.status.busy": "2024-03-27T06:27:50.205227Z",
          "iopub.status.idle": "2024-03-27T06:27:50.205626Z",
          "shell.execute_reply.started": "2024-03-27T06:27:50.205435Z",
          "shell.execute_reply": "2024-03-27T06:27:50.205456Z"
        },
        "trusted": true,
        "id": "bdOw8buLn_50",
        "colab": {
          "base_uri": "https://localhost:8080/",
          "height": 204
        },
        "outputId": "cd9012a8-354b-4c3d-d61c-5fab35d1b6f5"
      },
      "execution_count": null,
      "outputs": [
        {
          "output_type": "execute_result",
          "data": {
            "text/plain": [
              "          P1        P2        P3  Label\n",
              "0  -0.092519  0.394292 -0.428684      0\n",
              "1  -0.273584 -0.688197  0.362825      0\n",
              "2   0.000077  0.370407 -0.431964      0\n",
              "3  -0.077104  0.287426 -0.250369      0\n",
              "4  10.480877 -2.342082  0.993838      0"
            ],
            "text/html": [
              "\n",
              "  <div id=\"df-1d516204-9ec1-4e26-be2f-7805a0cbb805\" class=\"colab-df-container\">\n",
              "    <div>\n",
              "<style scoped>\n",
              "    .dataframe tbody tr th:only-of-type {\n",
              "        vertical-align: middle;\n",
              "    }\n",
              "\n",
              "    .dataframe tbody tr th {\n",
              "        vertical-align: top;\n",
              "    }\n",
              "\n",
              "    .dataframe thead th {\n",
              "        text-align: right;\n",
              "    }\n",
              "</style>\n",
              "<table border=\"1\" class=\"dataframe\">\n",
              "  <thead>\n",
              "    <tr style=\"text-align: right;\">\n",
              "      <th></th>\n",
              "      <th>P1</th>\n",
              "      <th>P2</th>\n",
              "      <th>P3</th>\n",
              "      <th>Label</th>\n",
              "    </tr>\n",
              "  </thead>\n",
              "  <tbody>\n",
              "    <tr>\n",
              "      <th>0</th>\n",
              "      <td>-0.092519</td>\n",
              "      <td>0.394292</td>\n",
              "      <td>-0.428684</td>\n",
              "      <td>0</td>\n",
              "    </tr>\n",
              "    <tr>\n",
              "      <th>1</th>\n",
              "      <td>-0.273584</td>\n",
              "      <td>-0.688197</td>\n",
              "      <td>0.362825</td>\n",
              "      <td>0</td>\n",
              "    </tr>\n",
              "    <tr>\n",
              "      <th>2</th>\n",
              "      <td>0.000077</td>\n",
              "      <td>0.370407</td>\n",
              "      <td>-0.431964</td>\n",
              "      <td>0</td>\n",
              "    </tr>\n",
              "    <tr>\n",
              "      <th>3</th>\n",
              "      <td>-0.077104</td>\n",
              "      <td>0.287426</td>\n",
              "      <td>-0.250369</td>\n",
              "      <td>0</td>\n",
              "    </tr>\n",
              "    <tr>\n",
              "      <th>4</th>\n",
              "      <td>10.480877</td>\n",
              "      <td>-2.342082</td>\n",
              "      <td>0.993838</td>\n",
              "      <td>0</td>\n",
              "    </tr>\n",
              "  </tbody>\n",
              "</table>\n",
              "</div>\n",
              "    <div class=\"colab-df-buttons\">\n",
              "\n",
              "  <div class=\"colab-df-container\">\n",
              "    <button class=\"colab-df-convert\" onclick=\"convertToInteractive('df-1d516204-9ec1-4e26-be2f-7805a0cbb805')\"\n",
              "            title=\"Convert this dataframe to an interactive table.\"\n",
              "            style=\"display:none;\">\n",
              "\n",
              "  <svg xmlns=\"http://www.w3.org/2000/svg\" height=\"24px\" viewBox=\"0 -960 960 960\">\n",
              "    <path d=\"M120-120v-720h720v720H120Zm60-500h600v-160H180v160Zm220 220h160v-160H400v160Zm0 220h160v-160H400v160ZM180-400h160v-160H180v160Zm440 0h160v-160H620v160ZM180-180h160v-160H180v160Zm440 0h160v-160H620v160Z\"/>\n",
              "  </svg>\n",
              "    </button>\n",
              "\n",
              "  <style>\n",
              "    .colab-df-container {\n",
              "      display:flex;\n",
              "      gap: 12px;\n",
              "    }\n",
              "\n",
              "    .colab-df-convert {\n",
              "      background-color: #E8F0FE;\n",
              "      border: none;\n",
              "      border-radius: 50%;\n",
              "      cursor: pointer;\n",
              "      display: none;\n",
              "      fill: #1967D2;\n",
              "      height: 32px;\n",
              "      padding: 0 0 0 0;\n",
              "      width: 32px;\n",
              "    }\n",
              "\n",
              "    .colab-df-convert:hover {\n",
              "      background-color: #E2EBFA;\n",
              "      box-shadow: 0px 1px 2px rgba(60, 64, 67, 0.3), 0px 1px 3px 1px rgba(60, 64, 67, 0.15);\n",
              "      fill: #174EA6;\n",
              "    }\n",
              "\n",
              "    .colab-df-buttons div {\n",
              "      margin-bottom: 4px;\n",
              "    }\n",
              "\n",
              "    [theme=dark] .colab-df-convert {\n",
              "      background-color: #3B4455;\n",
              "      fill: #D2E3FC;\n",
              "    }\n",
              "\n",
              "    [theme=dark] .colab-df-convert:hover {\n",
              "      background-color: #434B5C;\n",
              "      box-shadow: 0px 1px 3px 1px rgba(0, 0, 0, 0.15);\n",
              "      filter: drop-shadow(0px 1px 2px rgba(0, 0, 0, 0.3));\n",
              "      fill: #FFFFFF;\n",
              "    }\n",
              "  </style>\n",
              "\n",
              "    <script>\n",
              "      const buttonEl =\n",
              "        document.querySelector('#df-1d516204-9ec1-4e26-be2f-7805a0cbb805 button.colab-df-convert');\n",
              "      buttonEl.style.display =\n",
              "        google.colab.kernel.accessAllowed ? 'block' : 'none';\n",
              "\n",
              "      async function convertToInteractive(key) {\n",
              "        const element = document.querySelector('#df-1d516204-9ec1-4e26-be2f-7805a0cbb805');\n",
              "        const dataTable =\n",
              "          await google.colab.kernel.invokeFunction('convertToInteractive',\n",
              "                                                    [key], {});\n",
              "        if (!dataTable) return;\n",
              "\n",
              "        const docLinkHtml = 'Like what you see? Visit the ' +\n",
              "          '<a target=\"_blank\" href=https://colab.research.google.com/notebooks/data_table.ipynb>data table notebook</a>'\n",
              "          + ' to learn more about interactive tables.';\n",
              "        element.innerHTML = '';\n",
              "        dataTable['output_type'] = 'display_data';\n",
              "        await google.colab.output.renderOutput(dataTable, element);\n",
              "        const docLink = document.createElement('div');\n",
              "        docLink.innerHTML = docLinkHtml;\n",
              "        element.appendChild(docLink);\n",
              "      }\n",
              "    </script>\n",
              "  </div>\n",
              "\n",
              "\n",
              "<div id=\"df-2a9923a4-aaa0-4568-805c-003091234dd1\">\n",
              "  <button class=\"colab-df-quickchart\" onclick=\"quickchart('df-2a9923a4-aaa0-4568-805c-003091234dd1')\"\n",
              "            title=\"Suggest charts\"\n",
              "            style=\"display:none;\">\n",
              "\n",
              "<svg xmlns=\"http://www.w3.org/2000/svg\" height=\"24px\"viewBox=\"0 0 24 24\"\n",
              "     width=\"24px\">\n",
              "    <g>\n",
              "        <path d=\"M19 3H5c-1.1 0-2 .9-2 2v14c0 1.1.9 2 2 2h14c1.1 0 2-.9 2-2V5c0-1.1-.9-2-2-2zM9 17H7v-7h2v7zm4 0h-2V7h2v10zm4 0h-2v-4h2v4z\"/>\n",
              "    </g>\n",
              "</svg>\n",
              "  </button>\n",
              "\n",
              "<style>\n",
              "  .colab-df-quickchart {\n",
              "      --bg-color: #E8F0FE;\n",
              "      --fill-color: #1967D2;\n",
              "      --hover-bg-color: #E2EBFA;\n",
              "      --hover-fill-color: #174EA6;\n",
              "      --disabled-fill-color: #AAA;\n",
              "      --disabled-bg-color: #DDD;\n",
              "  }\n",
              "\n",
              "  [theme=dark] .colab-df-quickchart {\n",
              "      --bg-color: #3B4455;\n",
              "      --fill-color: #D2E3FC;\n",
              "      --hover-bg-color: #434B5C;\n",
              "      --hover-fill-color: #FFFFFF;\n",
              "      --disabled-bg-color: #3B4455;\n",
              "      --disabled-fill-color: #666;\n",
              "  }\n",
              "\n",
              "  .colab-df-quickchart {\n",
              "    background-color: var(--bg-color);\n",
              "    border: none;\n",
              "    border-radius: 50%;\n",
              "    cursor: pointer;\n",
              "    display: none;\n",
              "    fill: var(--fill-color);\n",
              "    height: 32px;\n",
              "    padding: 0;\n",
              "    width: 32px;\n",
              "  }\n",
              "\n",
              "  .colab-df-quickchart:hover {\n",
              "    background-color: var(--hover-bg-color);\n",
              "    box-shadow: 0 1px 2px rgba(60, 64, 67, 0.3), 0 1px 3px 1px rgba(60, 64, 67, 0.15);\n",
              "    fill: var(--button-hover-fill-color);\n",
              "  }\n",
              "\n",
              "  .colab-df-quickchart-complete:disabled,\n",
              "  .colab-df-quickchart-complete:disabled:hover {\n",
              "    background-color: var(--disabled-bg-color);\n",
              "    fill: var(--disabled-fill-color);\n",
              "    box-shadow: none;\n",
              "  }\n",
              "\n",
              "  .colab-df-spinner {\n",
              "    border: 2px solid var(--fill-color);\n",
              "    border-color: transparent;\n",
              "    border-bottom-color: var(--fill-color);\n",
              "    animation:\n",
              "      spin 1s steps(1) infinite;\n",
              "  }\n",
              "\n",
              "  @keyframes spin {\n",
              "    0% {\n",
              "      border-color: transparent;\n",
              "      border-bottom-color: var(--fill-color);\n",
              "      border-left-color: var(--fill-color);\n",
              "    }\n",
              "    20% {\n",
              "      border-color: transparent;\n",
              "      border-left-color: var(--fill-color);\n",
              "      border-top-color: var(--fill-color);\n",
              "    }\n",
              "    30% {\n",
              "      border-color: transparent;\n",
              "      border-left-color: var(--fill-color);\n",
              "      border-top-color: var(--fill-color);\n",
              "      border-right-color: var(--fill-color);\n",
              "    }\n",
              "    40% {\n",
              "      border-color: transparent;\n",
              "      border-right-color: var(--fill-color);\n",
              "      border-top-color: var(--fill-color);\n",
              "    }\n",
              "    60% {\n",
              "      border-color: transparent;\n",
              "      border-right-color: var(--fill-color);\n",
              "    }\n",
              "    80% {\n",
              "      border-color: transparent;\n",
              "      border-right-color: var(--fill-color);\n",
              "      border-bottom-color: var(--fill-color);\n",
              "    }\n",
              "    90% {\n",
              "      border-color: transparent;\n",
              "      border-bottom-color: var(--fill-color);\n",
              "    }\n",
              "  }\n",
              "</style>\n",
              "\n",
              "  <script>\n",
              "    async function quickchart(key) {\n",
              "      const quickchartButtonEl =\n",
              "        document.querySelector('#' + key + ' button');\n",
              "      quickchartButtonEl.disabled = true;  // To prevent multiple clicks.\n",
              "      quickchartButtonEl.classList.add('colab-df-spinner');\n",
              "      try {\n",
              "        const charts = await google.colab.kernel.invokeFunction(\n",
              "            'suggestCharts', [key], {});\n",
              "      } catch (error) {\n",
              "        console.error('Error during call to suggestCharts:', error);\n",
              "      }\n",
              "      quickchartButtonEl.classList.remove('colab-df-spinner');\n",
              "      quickchartButtonEl.classList.add('colab-df-quickchart-complete');\n",
              "    }\n",
              "    (() => {\n",
              "      let quickchartButtonEl =\n",
              "        document.querySelector('#df-2a9923a4-aaa0-4568-805c-003091234dd1 button');\n",
              "      quickchartButtonEl.style.display =\n",
              "        google.colab.kernel.accessAllowed ? 'block' : 'none';\n",
              "    })();\n",
              "  </script>\n",
              "</div>\n",
              "    </div>\n",
              "  </div>\n"
            ],
            "application/vnd.google.colaboratory.intrinsic+json": {
              "type": "dataframe",
              "variable_name": "X_principal",
              "summary": "{\n  \"name\": \"X_principal\",\n  \"rows\": 10000,\n  \"fields\": [\n    {\n      \"column\": \"P1\",\n      \"properties\": {\n        \"dtype\": \"number\",\n        \"std\": 0.7887826382091606,\n        \"min\": -0.7536340857301759,\n        \"max\": 37.83698868654435,\n        \"num_unique_values\": 9969,\n        \"samples\": [\n          0.08911683401931275,\n          0.12359158621682349,\n          -0.03198005787634165\n        ],\n        \"semantic_type\": \"\",\n        \"description\": \"\"\n      }\n    },\n    {\n      \"column\": \"P2\",\n      \"properties\": {\n        \"dtype\": \"number\",\n        \"std\": 0.9649826584968321,\n        \"min\": -4.486679741896392,\n        \"max\": 17.426614119021675,\n        \"num_unique_values\": 9969,\n        \"samples\": [\n          0.9903601538596597,\n          1.6235360771373488,\n          0.5963784105536977\n        ],\n        \"semantic_type\": \"\",\n        \"description\": \"\"\n      }\n    },\n    {\n      \"column\": \"P3\",\n      \"properties\": {\n        \"dtype\": \"number\",\n        \"std\": 0.8498464627261483,\n        \"min\": -1.8461720562732093,\n        \"max\": 24.862300620274926,\n        \"num_unique_values\": 9969,\n        \"samples\": [\n          -0.8433639978802348,\n          2.2284020826487767,\n          -0.646044911515924\n        ],\n        \"semantic_type\": \"\",\n        \"description\": \"\"\n      }\n    },\n    {\n      \"column\": \"Label\",\n      \"properties\": {\n        \"dtype\": \"number\",\n        \"std\": 0,\n        \"min\": -1,\n        \"max\": 0,\n        \"num_unique_values\": 2,\n        \"samples\": [\n          -1,\n          0\n        ],\n        \"semantic_type\": \"\",\n        \"description\": \"\"\n      }\n    }\n  ]\n}"
            }
          },
          "metadata": {},
          "execution_count": 68
        }
      ]
    },
    {
      "cell_type": "code",
      "source": [
        "ax = plt.axes(projection='3d')\n",
        "ax.scatter3D('P1','P2', 'P3', c = 'Label', data = X_principal, cmap='viridis',  linewidth=0.5)\n",
        "#ax.scatter3D(kmeans.cluster_centers_[:,0],kmeans.cluster_centers_[:,1],kmeans.cluster_centers_[:,2], label='Cluster Centers')\n",
        "ax.set_xlabel('P1')\n",
        "ax.set_ylabel('P2')\n",
        "ax.set_zlabel('P3')\n",
        "plt.title('DBScan Clustering')\n",
        "plt.legend()\n",
        "plt.show()"
      ],
      "metadata": {
        "execution": {
          "iopub.status.busy": "2024-03-27T06:27:50.206954Z",
          "iopub.status.idle": "2024-03-27T06:27:50.207333Z",
          "shell.execute_reply.started": "2024-03-27T06:27:50.207153Z",
          "shell.execute_reply": "2024-03-27T06:27:50.207171Z"
        },
        "trusted": true,
        "id": "cKQKonIrn_51",
        "colab": {
          "base_uri": "https://localhost:8080/",
          "height": 552
        },
        "outputId": "b0adb319-297e-4ac0-e4c9-d1d60cf34c62"
      },
      "execution_count": null,
      "outputs": [
        {
          "output_type": "stream",
          "name": "stderr",
          "text": [
            "WARNING:matplotlib.legend:No artists with labels found to put in legend.  Note that artists whose label start with an underscore are ignored when legend() is called with no argument.\n"
          ]
        },
        {
          "output_type": "display_data",
          "data": {
            "text/plain": [
              "<Figure size 800x550 with 1 Axes>"
            ],
            "image/png": "[encoded data removed]"
          },
          "metadata": {}
        }
      ]
    }
  ]
}